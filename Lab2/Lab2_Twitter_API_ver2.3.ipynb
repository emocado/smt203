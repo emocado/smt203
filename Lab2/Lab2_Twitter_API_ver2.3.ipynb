{
  "nbformat": 4,
  "nbformat_minor": 0,
  "metadata": {
    "colab": {
      "name": "Lab2_Twitter_API_ver2.3.ipynb",
      "provenance": [],
      "collapsed_sections": [],
      "toc_visible": true,
      "include_colab_link": true
    },
    "kernelspec": {
      "display_name": "Python 3",
      "language": "python",
      "name": "python3"
    },
    "language_info": {
      "codemirror_mode": {
        "name": "ipython",
        "version": 3
      },
      "file_extension": ".py",
      "mimetype": "text/x-python",
      "name": "python",
      "nbconvert_exporter": "python",
      "pygments_lexer": "ipython3",
      "version": "3.8.5"
    }
  },
  "cells": [
    {
      "cell_type": "markdown",
      "metadata": {
        "id": "view-in-github",
        "colab_type": "text"
      },
      "source": [
        "<a href=\"https://colab.research.google.com/github/michellekan/smt203/blob/main/Lab2/Lab2_Twitter_API_ver2_3.ipynb\" target=\"_parent\"><img src=\"https://colab.research.google.com/assets/colab-badge.svg\" alt=\"Open In Colab\"/></a>"
      ]
    },
    {
      "cell_type": "markdown",
      "metadata": {
        "id": "VKVp54FJN2Do"
      },
      "source": [
        "# Lab 2 - Twitter API (v2)\n",
        "\n",
        "In this lab, you will learn how to retrieve tweets data from Twitter by using an open source library called [Tweepy](https://docs.tweepy.org/en/latest/). Tweepy gives you a very convenient way to access the Twitter API with Python.  \n",
        "\n",
        "Also, check the official [Twitter API](https://developer.twitter.com/en/docs/twitter-api/getting-started/guide).\n",
        "\n",
        "This lab is written by Michelle KAN (michellekan@smu.edu.sg) and Jisun AN (jisunan@smu.edu.sg). \n",
        "\n",
        "Let's first install the tweepy library:<br>"
      ]
    },
    {
      "cell_type": "code",
      "metadata": {
        "id": "riNSHhDAN2Du",
        "scrolled": true
      },
      "source": [
        "## This it OPTIONAL if you are running the current notebook using Google Colab\n",
        "!pip install tweepy"
      ],
      "execution_count": null,
      "outputs": []
    },
    {
      "cell_type": "code",
      "metadata": {
        "id": "U6P4Qr8dgqlk",
        "colab": {
          "base_uri": "https://localhost:8080/"
        },
        "outputId": "0175413a-e26e-480a-ab04-033eea8f76a4"
      },
      "source": [
        "# Add Google Drive as an accessible path (Optional if you are running from Jupyter Notebook)\n",
        "from google.colab import drive\n",
        "drive.mount('/content/drive')\n",
        "\n",
        "# change path to the designated google drive folder\n",
        "# otherwise, data will be saved in /content folder which you may have issue locating\n",
        "%cd /content/drive/My Drive/Colab Notebooks/"
      ],
      "execution_count": 71,
      "outputs": [
        {
          "output_type": "stream",
          "text": [
            "Mounted at /content/drive\n",
            "/content/drive/My Drive/Colab Notebooks\n"
          ],
          "name": "stdout"
        }
      ]
    },
    {
      "cell_type": "markdown",
      "metadata": {
        "id": "NnKJQw2xN2Dv"
      },
      "source": [
        "## 1) Authentication\n",
        "\n",
        "The following code imports the tweepy library and other required libraries. Twitter API uses the [tweepy.AuthHandler](https://docs.tweepy.org/en/v3.5.0/auth_tutorial.html) class for authentication. "
      ]
    },
    {
      "cell_type": "code",
      "metadata": {
        "id": "5MsX2ofHN2Dw"
      },
      "source": [
        "import tweepy\n",
        "from tweepy import OAuthHandler"
      ],
      "execution_count": 2,
      "outputs": []
    },
    {
      "cell_type": "markdown",
      "metadata": {
        "id": "fLfR_UPZN2Dw"
      },
      "source": [
        "Before using the Twitter API, you will need a Twitter account, and to have obtained Twitter API authentication credentials.<br>Set your authentication credentials below. <br>"
      ]
    },
    {
      "cell_type": "code",
      "metadata": {
        "id": "ZG3CTaj_N2Dx"
      },
      "source": [
        "# Consumer/Access key/secret/token obtained from Twitter\n",
        "# You should have created a Twitter app and gotten these keys.\n",
        "# Do NOT share your key/secret/token with other students.\n",
        "consumer_key    = ''\n",
        "consumer_secret = ''\n",
        "access_token    = ''\n",
        "access_secret   = ''\n"
      ],
      "execution_count": 3,
      "outputs": []
    },
    {
      "cell_type": "code",
      "metadata": {
        "id": "SAt5VASYZI3M"
      },
      "source": [
        "consumer_key    = '1X4O2pwAII4uuazGFnbFUmEyG'\n",
        "consumer_secret = 'lCh8cJHsSEsdoFwkHev9Yog57NOfcfe0Dck0XK5XLvbgbbkK9X'\n",
        "access_token    = '1347176054184574976-EHMScHDG6zr5KevYPcfoTi2RBejw3Z'\n",
        "access_secret   = 'QHsmsona0mBnEVqtUOUSFI4qxlNqzIvISCTpk2p89AMz6'"
      ],
      "execution_count": 4,
      "outputs": []
    },
    {
      "cell_type": "markdown",
      "metadata": {
        "id": "TMYJNw7KN2Dx"
      },
      "source": [
        "The following code creates an authorization object with your above authentication info and calls the Twitter's API."
      ]
    },
    {
      "cell_type": "code",
      "metadata": {
        "colab": {
          "base_uri": "https://localhost:8080/"
        },
        "id": "FZBc-9SfN2Dz",
        "outputId": "0d3be8aa-8c3c-4cda-96fe-2b3080525308"
      },
      "source": [
        "auth = OAuthHandler(consumer_key, consumer_secret)\n",
        "auth.set_access_token(access_token, access_secret)\n",
        "\n",
        "# This line finally calls Twitter's Rest API.\n",
        "api = tweepy.API(auth)\n",
        "#api = tweepy.API(auth,wait_on_rate_limit=True, wait_on_rate_limit_notify=True)\n",
        "\n",
        "# The following codes verify if the authentication is successful\n",
        "# If all goes well, you should see a message saying Authentication OK.\n",
        "# Otherwise, check your Consumer/Access key/secret/token\n",
        "try:\n",
        "    api.verify_credentials()\n",
        "    print(\"Authentication OK\")\n",
        "except Exception as e:\n",
        "    print(\"Error during authentication:\", e)\n"
      ],
      "execution_count": 6,
      "outputs": [
        {
          "output_type": "stream",
          "text": [
            "Authentication OK\n"
          ],
          "name": "stdout"
        }
      ]
    },
    {
      "cell_type": "markdown",
      "metadata": {
        "id": "Jam99XujaXu7"
      },
      "source": [
        "## 2) Types of Twitter API & Tweepy Cursor\n",
        "\n",
        "### 2-1) Twitter REST API\n",
        "\n",
        "The REST API is to pull data from Twitter. \n",
        "\n",
        "We can retrieve tweets based on query or tweets of all users using `tweepy.Cursor.` \n",
        "\n",
        "`tweepy.Cursor` method deals with the pagination -- if there's many tweets returned, it makes it easy to iterate the data.\n",
        "\n",
        "\n",
        "#### a) Search tweets using Keywords\n",
        "\n",
        "Below will return five tweets containing search words \n",
        "\n",
        "```\n",
        "search_words = 'covid'\n",
        "max_tweets = 5\n",
        "tweets = tweepy.Cursor(api.search, q=search_words, tweet_mode='extended').items(max_tweets)\n",
        "```\n",
        "\n",
        "\n",
        "#### b) Users tweets\n",
        "\n",
        "Below will return 5 tweets posted by BillGates\n",
        "\n",
        "```\n",
        "username = 'BillGates'\n",
        "max_tweets = 5\n",
        "tweets = tweepy.Cursor(api.user_timeline, id=username, tweet_mode='extended').items(max_tweets)\n",
        "```\n",
        "\n",
        "\n",
        "### 2-2) Streaming API tweets\n",
        "The Twitter streaming API is used to download twitter messages in real time. It is useful for obtaining a high volume of tweets, or for creating a live feed using a site stream or user stream. See the [Twitter Streaming API Documentation](https://developer.twitter.com/en/docs/tweets/filter-realtime/overview).\n",
        "\n",
        "```\n",
        "keyword = 'covid'\n",
        "myStream.filter(track=[keyword])\n",
        "```\n",
        "\n",
        "\n",
        "\n"
      ]
    },
    {
      "cell_type": "markdown",
      "metadata": {
        "id": "DIg2gAt3N2D1"
      },
      "source": [
        "## 3) Search Tweets\n",
        "\n",
        "Now you are ready to search Twitter for recent tweets! \n",
        "\n"
      ]
    },
    {
      "cell_type": "markdown",
      "metadata": {
        "id": "m_y2-qtBbrU4"
      },
      "source": [
        "### a) Search Tweets using Keywords\n",
        "\n",
        "\n",
        "To create this query, you will define the:\n",
        "- Search term \n",
        "- start date of your search (optional)\n",
        " \n",
        "Note: Search API returns tweets with specific search terms, posted in the last 7 days. You need a premium account for going further than 7 days.\n",
        "\n",
        "(Optional) Uncomment and run the following code snippet if you wish to enable Python logging to know what's happening underlying in the API call."
      ]
    },
    {
      "cell_type": "code",
      "metadata": {
        "id": "ocLOaD9zN2D0"
      },
      "source": [
        "# import logging\n",
        "# logging.basicConfig(level=logging.DEBUG,\n",
        "#                     format='%(asctime)s %(name)-12s %(levelname)-8s %(message)s',\n",
        "#                     datefmt='%m-%d %H:%M:%S')\n",
        "# logger = logging.getLogger(__name__)"
      ],
      "execution_count": null,
      "outputs": []
    },
    {
      "cell_type": "code",
      "metadata": {
        "id": "0Ejl9xb7PW2v"
      },
      "source": [
        "# Define the search term and the date_since date as variables\n",
        "search_words = 'covid'\n",
        "date_since = \"2021-08-29\" #if you want to collect data from yesterday\n",
        "\n",
        "max_tweets = 5"
      ],
      "execution_count": 7,
      "outputs": []
    },
    {
      "cell_type": "markdown",
      "metadata": {
        "id": "Db16LM5TN2D1"
      },
      "source": [
        "Below we use `tweepy.Cursor()` to search for tweets containing the specified search_words and perform pagination. Parameters:\n",
        "-   `api.search` – tweepy api method that returns a collection of relevant Tweets matching a specified query\n",
        "- \t`q` – the search query string of 500 characters maximum, including operators. Queries may additionally be limited by complexity.\n",
        "-   `lang` – restricts tweets to the given language\n",
        "-   `since` – returns tweet created on or after this date. Date should be formatted as YYYY-MM-DD.\n",
        "\n",
        "You can restrict the number of tweets returned by specifying a number in the `.items()` method. `.items(5)` will return 5 of the most recent tweets"
      ]
    },
    {
      "cell_type": "code",
      "metadata": {
        "id": "twLFHAVlZzPP"
      },
      "source": [
        "# Below will return five tweets containing search words \n",
        "tweets = tweepy.Cursor(api.search, q=search_words, tweet_mode='extended').items(max_tweets)\n"
      ],
      "execution_count": null,
      "outputs": []
    },
    {
      "cell_type": "code",
      "metadata": {
        "id": "-brNt50TN2D2"
      },
      "source": [
        "# You can add other parameters like lang, since, etc) \n",
        "tweets = tweepy.Cursor(api.search, q=search_words, lang=\"en\", since=date_since,tweet_mode='extended').items(max_tweets)"
      ],
      "execution_count": 31,
      "outputs": []
    },
    {
      "cell_type": "markdown",
      "metadata": {
        "id": "chixNUKMN2D2"
      },
      "source": [
        "`tweets.Cursor()` returns an object `ItemIterator` that you can iterate to access the tweet data collected. Each tweet item in the iterator has various attributes including:\n",
        "\n",
        "- the text of the tweet\n",
        "- the date the tweet was sent\n",
        "- creator of the tweet\n",
        "- location where the tweet is created\n",
        "- and more. \n",
        "\n",
        "The code below loops through the object and prints the text associated with each tweet."
      ]
    },
    {
      "cell_type": "code",
      "metadata": {
        "id": "Nugg_TxHo6dL",
        "colab": {
          "base_uri": "https://localhost:8080/"
        },
        "outputId": "1525708d-7076-4093-e3d8-07d008854452"
      },
      "source": [
        "tweets = tweepy.Cursor(api.search, q=search_words, lang=\"en\", since=date_since, tweet_mode='extended').items(max_tweets)\n",
        "\n",
        "# Iterate tweets\n",
        "for tweet in tweets:\n",
        "    # print out user's screen name & tweet text\n",
        "    print(\"----------------------------------------------------\")\n",
        "    print ('Tweet ID ' + str(tweet.id))\n",
        "    print (f'Tweeted by: @{tweet.user.screen_name}, Created at: {str(tweet.created_at)}, Location: {tweet.user.location}' )\n",
        "\n",
        "    # Extracting tweet text when in Extended Mode\n",
        "    try: # If it's Retweet\n",
        "        text = tweet.retweeted_status.full_text\n",
        "    except AttributeError:  # Not a Retweet\n",
        "        text = tweet.full_text\n",
        "    print('\\t Tweet: ' + text)\n"
      ],
      "execution_count": 32,
      "outputs": [
        {
          "output_type": "stream",
          "text": [
            "----------------------------------------------------\n",
            "Tweet ID 1432351468611424260\n",
            "Tweeted by: @gooey5000, Created at: 2021-08-30 14:36:16, Location: \n",
            "\t Tweet: JUST IN - Corona not likely cause of death in 80 percent of official covid deaths reported in Germany since early July, according to Prof. Dr. Bertram Häussler, head of the independent health research institute IGES in Berlin (WELT)\n",
            "----------------------------------------------------\n",
            "Tweet ID 1432351468581969923\n",
            "Tweeted by: @NightingaleKen, Created at: 2021-08-30 14:36:16, Location: Kitchener, Ontario, Canada\n",
            "\t Tweet: A 3000% increase in expected teenage male myocarditis cases are observed following covid-19 vaccination. \n",
            "\n",
            "CAUTION: The actual cases are likely a gross underestimate based on baseline myocarditis rates in the USA and the limited number of doses in this group! https://t.co/Bsh3GD1qr4\n",
            "----------------------------------------------------\n",
            "Tweet ID 1432351468221186051\n",
            "Tweeted by: @_tikna_, Created at: 2021-08-30 14:36:16, Location: \n",
            "\t Tweet: When a person dies from something that is controversial, says author Ken Doka, that's called a \"disenfranchising death.\" Some families have wanted to have their loved one's official death certificate changed so that COVID-19 was not listed as the cause of death.\n",
            "----------------------------------------------------\n",
            "Tweet ID 1432351468175036417\n",
            "Tweeted by: @sunshinE665, Created at: 2021-08-30 14:36:16, Location: \n",
            "\t Tweet: BREAKING: An unvaccinated teacher in California went to work unmasked for 2 days while experiencing COVID symptoms (despite a mask policy). Over 50% of the students have now been infected, causing a community outbreak.\n",
            "----------------------------------------------------\n",
            "Tweet ID 1432351467382394883\n",
            "Tweeted by: @ajc, Created at: 2021-08-30 14:36:16, Location: Atlanta, GA\n",
            "\t Tweet: In a previous guest column for @AJCGetSchooled, an associate professor @universityofga wrote about her little girl’s rare and catastrophic neurological disorder, which put the child at high risk for serious consequences or death if she contracted COVID-19. https://t.co/KUyslcIdOf\n"
          ],
          "name": "stdout"
        }
      ]
    },
    {
      "cell_type": "markdown",
      "metadata": {
        "id": "g-Bv1I7gN2D3"
      },
      "source": [
        "<img align=\"left\" src=\"https://docs.google.com/uc?id=1IegynNxVgb3GxQoXFD_HPJMRJcx8Rlmk\" width=\"50\" style=\"vertical-align:middle;margin:0px 5px\"/><br>Note that **user locations** are manually entered into Twitter by the user. Thus, you will see a lot of variation in the format of this value.<br>\n",
        "\n",
        "You can access a wealth of information associated with each tweet. Try to include other items available by checking out the [twitter developer documentation](https://developer.twitter.com/en/docs/twitter-api/v1/data-dictionary/object-model/tweet).\n"
      ]
    },
    {
      "cell_type": "markdown",
      "metadata": {
        "id": "GWBj4H83nf85"
      },
      "source": [
        "#### **Save Tweets in a JSON format into a File**\n",
        "\n",
        "\n",
        "Twitter API has limits in how many times we can call APIs to collect the data (Twitter Rate Limit). So, it's always better to save the data in the file. "
      ]
    },
    {
      "cell_type": "markdown",
      "metadata": {
        "id": "vsp2KB43qTwT"
      },
      "source": [
        "__What is JSON?__\n",
        "\n",
        "JavaScript Object Notation (JSON) is a standard text-based format for representing structured data based on JavaScript object notation syntax.\n",
        "- Data is in key-value pairs\n",
        "- Data is separated by commas\n",
        "- Curly braces hold objects\n",
        "- Square brackets hold arrays\n",
        "\n",
        "Table / Database --> Text format\n",
        "\n",
        "| id        | name           | tweet  |\n",
        "| ------------- |:-------------:| -----:|\n",
        "| 123      | Jisun | Hello |\n",
        "| 456      | Michelle      |  Welcome |\n",
        "\n",
        "JSON \n",
        "`[{\"id\":123,\"name\":\"Jisun\",\"tweet\":\"Hello\"},{\"id\":456,\"name\":\"Michelle\",\"tweet\":\"Welcome\"}]`\n",
        "\n",
        "Other examples of JSON format:<br>\n",
        "`{\"code\":\"SMT203\",\"desc\":\"CSS\",\"num_of_students\":46}`<br>\n",
        "`{\"code\":\"SMT203\", \"desc\":\"CSS\", \"students\":{\"qty\":46, \"school\":\"SCIS\"}}`<br><br>\n",
        "\n",
        "We can use `json.dumps()` to save json objects in string format into a file, while `json.loads()` reads in a string (e.g., from a jsons file) and returns a json object.\n",
        "\n",
        "<img align=\"middle\" src=\"https://docs.google.com/uc?id=1m8uElP-ak8FeUNlhpQ6xBO_Fwx4Zitv4\" width=\"450\"/>\n",
        "\n"
      ]
    },
    {
      "cell_type": "code",
      "metadata": {
        "id": "CMzh9Dbu9pAd"
      },
      "source": [
        "import json"
      ],
      "execution_count": 19,
      "outputs": []
    },
    {
      "cell_type": "code",
      "metadata": {
        "id": "1oHn7Fgkm-e9"
      },
      "source": [
        "# set location for files to be saved\n",
        "mypath = \".\"\n",
        "\n",
        "tweets = tweepy.Cursor(api.search, q=search_words, lang=\"en\", since=date_since, tweet_mode='extended').items(max_tweets)\n",
        "# Write data into a file\n",
        "filename = f\"{mypath}/tweets_{search_words}.jsons\"\n",
        "\n",
        "with open(filename, \"w\") as output:\n",
        "    for tweet in tweets:\n",
        "        myjson = tweet._json\n",
        "        output.write(json.dumps(myjson)+\"\\n\")\n"
      ],
      "execution_count": 23,
      "outputs": []
    },
    {
      "cell_type": "markdown",
      "metadata": {
        "id": "mK6ab00Zp2G7"
      },
      "source": [
        "Read tweets from the file.\n",
        "\n",
        "Let's read the first tweet."
      ]
    },
    {
      "cell_type": "code",
      "metadata": {
        "id": "lHp8kO02p0gR"
      },
      "source": [
        "# Read data from a file\n",
        "filename = f\"{mypath}/tweets_{search_words}.jsons\"\n",
        "\n",
        "with open(filename) as fi:\n",
        "    for line_cnt, line in enumerate(fi):\n",
        "        tweet_json = json.loads(line.strip())\n",
        "        break # Break here so that we read the first line of the file\n",
        "        "
      ],
      "execution_count": 24,
      "outputs": []
    },
    {
      "cell_type": "code",
      "metadata": {
        "id": "adG1FgMGqHvB",
        "colab": {
          "base_uri": "https://localhost:8080/"
        },
        "outputId": "5d810e45-9032-449d-bc31-31c80e87a42a"
      },
      "source": [
        "# Print JSON formated text in pretty way\n",
        "import pprint\n",
        "\n",
        "pprint.pprint(tweet_json)"
      ],
      "execution_count": 25,
      "outputs": [
        {
          "output_type": "stream",
          "text": [
            "{'contributors': None,\n",
            " 'coordinates': None,\n",
            " 'created_at': 'Mon Aug 30 14:26:02 +0000 2021',\n",
            " 'display_text_range': [0, 280],\n",
            " 'entities': {'hashtags': [{'indices': [191, 219],\n",
            "                            'text': 'KyawMoeTunRepresentsMyanmar'},\n",
            "                           {'indices': [221, 245],\n",
            "                            'text': 'WhatsHappeningInMyanmar'},\n",
            "                           {'indices': [246, 256], 'text': 'Aug30Coup'}],\n",
            "              'media': [{'display_url': 'pic.twitter.com/flEKuMbtgf',\n",
            "                         'expanded_url': 'https://twitter.com/2021Revtweets/status/1432346174648766482/photo/1',\n",
            "                         'id': 1432346034471006209,\n",
            "                         'id_str': '1432346034471006209',\n",
            "                         'indices': [257, 280],\n",
            "                         'media_url': 'http://pbs.twimg.com/media/E-C3ISQVcAEYVCY.jpg',\n",
            "                         'media_url_https': 'https://pbs.twimg.com/media/E-C3ISQVcAEYVCY.jpg',\n",
            "                         'sizes': {'large': {'h': 720,\n",
            "                                             'resize': 'fit',\n",
            "                                             'w': 509},\n",
            "                                   'medium': {'h': 720,\n",
            "                                              'resize': 'fit',\n",
            "                                              'w': 509},\n",
            "                                   'small': {'h': 680,\n",
            "                                             'resize': 'fit',\n",
            "                                             'w': 481},\n",
            "                                   'thumb': {'h': 150,\n",
            "                                             'resize': 'crop',\n",
            "                                             'w': 150}},\n",
            "                         'source_status_id': 1432346174648766482,\n",
            "                         'source_status_id_str': '1432346174648766482',\n",
            "                         'source_user_id': 3167438294,\n",
            "                         'source_user_id_str': '3167438294',\n",
            "                         'type': 'photo',\n",
            "                         'url': 'https://t.co/flEKuMbtgf'}],\n",
            "              'symbols': [],\n",
            "              'urls': [],\n",
            "              'user_mentions': []},\n",
            " 'extended_entities': {'media': [{'display_url': 'pic.twitter.com/flEKuMbtgf',\n",
            "                                  'expanded_url': 'https://twitter.com/2021Revtweets/status/1432346174648766482/photo/1',\n",
            "                                  'id': 1432346034471006209,\n",
            "                                  'id_str': '1432346034471006209',\n",
            "                                  'indices': [257, 280],\n",
            "                                  'media_url': 'http://pbs.twimg.com/media/E-C3ISQVcAEYVCY.jpg',\n",
            "                                  'media_url_https': 'https://pbs.twimg.com/media/E-C3ISQVcAEYVCY.jpg',\n",
            "                                  'sizes': {'large': {'h': 720,\n",
            "                                                      'resize': 'fit',\n",
            "                                                      'w': 509},\n",
            "                                            'medium': {'h': 720,\n",
            "                                                       'resize': 'fit',\n",
            "                                                       'w': 509},\n",
            "                                            'small': {'h': 680,\n",
            "                                                      'resize': 'fit',\n",
            "                                                      'w': 481},\n",
            "                                            'thumb': {'h': 150,\n",
            "                                                      'resize': 'crop',\n",
            "                                                      'w': 150}},\n",
            "                                  'source_status_id': 1432346174648766482,\n",
            "                                  'source_status_id_str': '1432346174648766482',\n",
            "                                  'source_user_id': 3167438294,\n",
            "                                  'source_user_id_str': '3167438294',\n",
            "                                  'type': 'photo',\n",
            "                                  'url': 'https://t.co/flEKuMbtgf'}]},\n",
            " 'favorite_count': 0,\n",
            " 'favorited': False,\n",
            " 'full_text': 'Junta ordered to close the offices except Bank from Sept 1 to '\n",
            "              'Sept 10.They told to control Covid 19 but in reality,they '\n",
            "              'oppressed the civilians by blocking the roads,checking the '\n",
            "              'civilians.  #KyawMoeTunRepresentsMyanmar  '\n",
            "              '#WhatsHappeningInMyanmar #Aug30Coup https://t.co/flEKuMbtgf',\n",
            " 'geo': None,\n",
            " 'id': 1432348892490838017,\n",
            " 'id_str': '1432348892490838017',\n",
            " 'in_reply_to_screen_name': None,\n",
            " 'in_reply_to_status_id': None,\n",
            " 'in_reply_to_status_id_str': None,\n",
            " 'in_reply_to_user_id': None,\n",
            " 'in_reply_to_user_id_str': None,\n",
            " 'is_quote_status': False,\n",
            " 'lang': 'en',\n",
            " 'metadata': {'iso_language_code': 'en', 'result_type': 'recent'},\n",
            " 'place': None,\n",
            " 'possibly_sensitive': False,\n",
            " 'retweet_count': 0,\n",
            " 'retweeted': False,\n",
            " 'source': '<a href=\"http://twitter.com/download/android\" '\n",
            "           'rel=\"nofollow\">Twitter for Android</a>',\n",
            " 'truncated': False,\n",
            " 'user': {'contributors_enabled': False,\n",
            "          'created_at': 'Mon Feb 01 11:59:05 +0000 2021',\n",
            "          'default_profile': True,\n",
            "          'default_profile_image': False,\n",
            "          'description': 'Revolution',\n",
            "          'entities': {'description': {'urls': []}},\n",
            "          'favourites_count': 103,\n",
            "          'follow_request_sent': False,\n",
            "          'followers_count': 189,\n",
            "          'following': False,\n",
            "          'friends_count': 515,\n",
            "          'geo_enabled': False,\n",
            "          'has_extended_profile': True,\n",
            "          'id': 1356210394130481156,\n",
            "          'id_str': '1356210394130481156',\n",
            "          'is_translation_enabled': False,\n",
            "          'is_translator': False,\n",
            "          'lang': None,\n",
            "          'listed_count': 0,\n",
            "          'location': '',\n",
            "          'name': 'pyae21',\n",
            "          'notifications': False,\n",
            "          'profile_background_color': 'F5F8FA',\n",
            "          'profile_background_image_url': None,\n",
            "          'profile_background_image_url_https': None,\n",
            "          'profile_background_tile': False,\n",
            "          'profile_banner_url': 'https://pbs.twimg.com/profile_banners/1356210394130481156/1627878649',\n",
            "          'profile_image_url': 'http://pbs.twimg.com/profile_images/1387256073657016320/s-Oj0yUe_normal.jpg',\n",
            "          'profile_image_url_https': 'https://pbs.twimg.com/profile_images/1387256073657016320/s-Oj0yUe_normal.jpg',\n",
            "          'profile_link_color': '1DA1F2',\n",
            "          'profile_sidebar_border_color': 'C0DEED',\n",
            "          'profile_sidebar_fill_color': 'DDEEF6',\n",
            "          'profile_text_color': '333333',\n",
            "          'profile_use_background_image': True,\n",
            "          'protected': False,\n",
            "          'screen_name': 'pyae212',\n",
            "          'statuses_count': 3920,\n",
            "          'time_zone': None,\n",
            "          'translator_type': 'none',\n",
            "          'url': None,\n",
            "          'utc_offset': None,\n",
            "          'verified': False,\n",
            "          'withheld_in_countries': []}}\n"
          ],
          "name": "stdout"
        }
      ]
    },
    {
      "cell_type": "code",
      "metadata": {
        "id": "q57bFeKOp7OX",
        "colab": {
          "base_uri": "https://localhost:8080/"
        },
        "outputId": "f39082fe-338e-4ad3-fd4f-4044356319cb"
      },
      "source": [
        "# Check keys in json\n",
        "tweet_json.keys()"
      ],
      "execution_count": 26,
      "outputs": [
        {
          "output_type": "execute_result",
          "data": {
            "text/plain": [
              "dict_keys(['created_at', 'id', 'id_str', 'full_text', 'truncated', 'display_text_range', 'entities', 'extended_entities', 'metadata', 'source', 'in_reply_to_status_id', 'in_reply_to_status_id_str', 'in_reply_to_user_id', 'in_reply_to_user_id_str', 'in_reply_to_screen_name', 'user', 'geo', 'coordinates', 'place', 'contributors', 'is_quote_status', 'retweet_count', 'favorite_count', 'favorited', 'retweeted', 'possibly_sensitive', 'lang'])"
            ]
          },
          "metadata": {},
          "execution_count": 26
        }
      ]
    },
    {
      "cell_type": "code",
      "metadata": {
        "id": "-gdr9UZSq8y_",
        "colab": {
          "base_uri": "https://localhost:8080/"
        },
        "outputId": "59dd579a-25d9-42e8-9bcd-f83f2ee7e06f"
      },
      "source": [
        "# How to access values in json\n",
        "print(tweet_json['id'])\n",
        "print(tweet_json['user']['name'])"
      ],
      "execution_count": 28,
      "outputs": [
        {
          "output_type": "stream",
          "text": [
            "1432348892490838017\n",
            "pyae21\n",
            "pyae212\n"
          ],
          "name": "stdout"
        }
      ]
    },
    {
      "cell_type": "markdown",
      "metadata": {
        "id": "aQmweDFR9pAf"
      },
      "source": [
        "#### Extract data from json"
      ]
    },
    {
      "cell_type": "code",
      "metadata": {
        "id": "jHv_zg7jjord",
        "colab": {
          "base_uri": "https://localhost:8080/"
        },
        "outputId": "2b6caecb-4b90-4459-82cc-0d51f32e83b6"
      },
      "source": [
        "# Read data from a file\n",
        "mypath= \".\"\n",
        "filename = f\"{mypath}/tweets_{search_words}.jsons\"\n",
        "\n",
        "with open(filename) as fi:\n",
        "    for line_cnt, line in enumerate(fi):\n",
        "        tweet = json.loads(line.strip())\n",
        "\n",
        "        tweetid = tweet['id']\n",
        "        created_at = tweet['created_at']\n",
        "\n",
        "        # Extract text from tweets in Extended Mode\n",
        "        if 'retweeted_status' in tweet: # If it's Retweet\n",
        "            text = tweet['retweeted_status']['full_text']\n",
        "        else:  # Not a Retweet\n",
        "            text = tweet['full_text']\n",
        "\n",
        "        user_screen_name = tweet['user']['screen_name']\n",
        "        user_location = tweet['user']['location']\n",
        "\n",
        "        print(\"--------------------------\")\n",
        "        print (f'Tweet ID: {tweetid}')\n",
        "        print (f'Tweeted by: @{user_screen_name}, Created at {created_at}, User Location: {user_location}' )\n",
        "        print(f'\\t {text}')\n",
        "\n",
        "        break #If you want to read other lines, comment this out\n"
      ],
      "execution_count": 30,
      "outputs": [
        {
          "output_type": "stream",
          "text": [
            "--------------------------\n",
            "Tweet ID: 1432348892490838017\n",
            "Tweeted by: @pyae212, Created at Mon Aug 30 14:26:02 +0000 2021, User Location: \n",
            "\t Junta ordered to close the offices except Bank from Sept 1 to Sept 10.They told to control Covid 19 but in reality,they oppressed the civilians by blocking the roads,checking the civilians.  #KyawMoeTunRepresentsMyanmar  #WhatsHappeningInMyanmar #Aug30Coup https://t.co/flEKuMbtgf\n"
          ],
          "name": "stdout"
        }
      ]
    },
    {
      "cell_type": "markdown",
      "metadata": {
        "id": "Lk_6twn8N2D4"
      },
      "source": [
        "### Exercise 1\n",
        "\n",
        "Using the tweets retrieval code example given above, add on the following details for each tweet retrieved:\n",
        "- Number of times the Tweet has been retweeted (a retweet is when someone shares someone else’s tweet.)\n",
        "- Source/application used to post the Tweet.\n",
        "- User's name and friends count in Twitter\n",
        "\n",
        "You may take reference to the [twitter developer documentation](https://developer.twitter.com/en/docs/twitter-api/v1/data-dictionary/object-model/tweet). \n",
        "\n",
        "An example of the expected tweet output is given as follows: the tweet has been retweeted 21 times, the tweet has been posted using 'Twitter for Android' and user 'Cotonete' has 82 friends in Twitter:<br>\n",
        "<img align=\"center\" src='https://drive.google.com/uc?export=view&id=1WHGR9Q9ou4_w_zMhioEfVyhV1VxYNenk' style=\"height: 110px;\">\n",
        "\n",
        "As shown above there could be two ways to get this done. You can use Tweepy API or you can use the saved file. \n",
        "\n",
        "Try both!\n"
      ]
    },
    {
      "cell_type": "code",
      "metadata": {
        "id": "9a8JQZPPN2D4"
      },
      "source": [
        "## Enter your code below using Tweepy API\n",
        "\n",
        "tweets = tweepy.Cursor(api.search, q=search_words, lang=\"en\", since=date_since, tweet_mode='extended').items(max_tweets)\n",
        "\n",
        "# Iterate tweets\n",
        "for tweet in tweets:\n",
        "    # print out user's screen name & tweet text\n",
        "    print(\"--------------------------\")    \n",
        "    print (f'Tweeted by: @{tweet.user.screen_name} Created at: {str(tweet.created_at)} Location: {tweet.user.location}' )\n",
        "    # Extract text when in Extended Mode\n",
        "    try: # If it's Retweet\n",
        "        text = tweet.retweeted_status.full_text\n",
        "    except AttributeError:  # Not a Retweet\n",
        "        text = tweet.full_text\n",
        "    print('\\t' + text)\n",
        "    \n",
        "    print(f'Retweeted: {tweet.retweet_count}times')\n",
        "    print(f'Posted using: {tweet.source}')\n",
        "    print(f'{tweet.user.screen_name} has {tweet.user.friends_count} friends')\n"
      ],
      "execution_count": null,
      "outputs": []
    },
    {
      "cell_type": "code",
      "metadata": {
        "id": "eGHKW63LwYqX"
      },
      "source": [
        "## Enter your code below using the saved file\n",
        "mypath= \".\"\n",
        "filename = f\"{mypath}/tweets_{search_words}.jsons\"\n",
        "\n",
        "with open(filename) as fi:\n",
        "    for line_cnt, line in enumerate(fi):\n",
        "        tweet = json.loads(line.strip())\n",
        "\n",
        "        tweetid = tweet['id']\n",
        "        created_at = tweet['created_at']\n",
        "\n",
        "        # Extract text from tweets in Extended Mode\n",
        "        if 'retweeted_status' in tweet: # If it's Retweet\n",
        "            text = tweet['retweeted_status']['full_text']\n",
        "        else:  # Not a Retweet\n",
        "            text = tweet['full_text']\n",
        "\n",
        "        user_screen_name = tweet['user']['screen_name']\n",
        "        user_location = tweet['user']['location']\n",
        "\n",
        "        friends_count = tweet['user']['friends_count']\n",
        "        source = tweet['source']\n",
        "        retweet_count = tweet['retweet_count']\n",
        "\n",
        "        print(\"--------------------------\")\n",
        "        print (f'Tweet ID: {tweetid}')\n",
        "        print (f'Tweeted by: @{user_screen_name}, Created at {created_at}, Location: {user_location}' )\n",
        "        print(f'\\t {text}')\n",
        "        print(f'Retweeted: {retweet_count}times')\n",
        "        print(f'Posted using: {source}')\n",
        "        print(f'{user_screen_name} has {friends_count} friends')\n",
        "\n",
        "        break #If you want to read other lines, comment this out\n"
      ],
      "execution_count": null,
      "outputs": []
    },
    {
      "cell_type": "markdown",
      "metadata": {
        "id": "1WcJviiCN2D5"
      },
      "source": [
        "#### Removing Retweets\n",
        "\n",
        "In the above example, some of the tweets retrieved may contain prefix 'RT' which means they are retweets. A retweet is when someone shares someone else’s tweet. It is similar to sharing in Facebook. Sometimes you may want to remove retweets as they contain duplicate content that might skew your analysis if you are only looking at word frequency. Other times, you may want to keep retweets.\n",
        "\n",
        "Below you ignore all retweets by adding `-filter:retweets` to your query. You may wish to check out the [Twitter API](https://docs.tweepy.org/en/latest/api.html) documentation on other ways to customize your queries"
      ]
    },
    {
      "cell_type": "code",
      "metadata": {
        "id": "j5C8b-izN2D5",
        "scrolled": false,
        "colab": {
          "base_uri": "https://localhost:8080/"
        },
        "outputId": "96c50398-8824-46c1-c49e-eaf14976a1dc"
      },
      "source": [
        "new_search = search_words + \" -filter:retweets\" \n",
        "# new_search has the value \"clean energy -filter:retweets\"\n",
        "\n",
        "tweets = tweepy.Cursor(api.search,q=new_search, lang=\"en\",since=date_since).items(8)\n",
        "\n",
        "for tweet in tweets:\n",
        "    print(\"----------------------------------------------------\")\n",
        "    print (f'Tweeted by: @{tweet.user.screen_name} Created at: {str(tweet.created_at)} Location: {tweet.user.location}' )\n",
        "    print(f'\\tText: {tweet.text}')\n",
        "    "
      ],
      "execution_count": 14,
      "outputs": [
        {
          "output_type": "stream",
          "text": [
            "----------------------------------------------------\n",
            "Tweeted by: @NinasBeenHere Created at: 2021-08-30 09:42:30 Location: \n",
            "\tText: If I or one of my  family members should suffer or die of Covid, I will keep Regen-O-Ron in litigation until his se… https://t.co/3i5gNoYyt8\n",
            "----------------------------------------------------\n",
            "Tweeted by: @sabresue Created at: 2021-08-30 09:42:29 Location: Canberra, ACT\n",
            "\tText: @GladysB I'm vaccinated; I have 50% lung function due A1AD; if i get covid and die - it will be due to COVID, not m… https://t.co/SH6XFmlGdv\n",
            "----------------------------------------------------\n",
            "Tweeted by: @justmarty11 Created at: 2021-08-30 09:42:28 Location: To the left\n",
            "\tText: Does @GladysB seem just a little excited with the prospect of living with COVID?\n",
            "#COVID19nsw\n",
            "----------------------------------------------------\n",
            "Tweeted by: @MrsR02567288 Created at: 2021-08-30 09:42:28 Location: \n",
            "\tText: @michael03576675 @toryboypierce Most GPs don’t have it easy. Many GPs prefer face to face appointments however ther… https://t.co/ZTVXNu7p5b\n",
            "----------------------------------------------------\n",
            "Tweeted by: @quangochef Created at: 2021-08-30 09:42:27 Location: Canada\n",
            "\tText: New COVID variant detected in South Africa, most mutated variant so far https://t.co/GnfMFFROOF\n",
            "----------------------------------------------------\n",
            "Tweeted by: @awadyko143 Created at: 2021-08-30 09:42:27 Location: \n",
            "\tText: Locals in Magway said that SAC was abusing the restrictions imposed by COVID by forcibly collecting money from pass… https://t.co/Ak6OzLQOng\n",
            "----------------------------------------------------\n",
            "Tweeted by: @meganxcradd Created at: 2021-08-30 09:42:26 Location: \n",
            "\tText: If I haven't caught covid this weekend, it definitely doesn't exist....\n",
            "----------------------------------------------------\n",
            "Tweeted by: @SrinivasanDiana Created at: 2021-08-30 09:42:26 Location: \n",
            "\tText: With the \"COVID-19 made in    China\" as the center, Yan Limeng freely slandered China, even betraying her own count… https://t.co/loQx88CTJY\n"
          ],
          "name": "stdout"
        }
      ]
    },
    {
      "cell_type": "markdown",
      "metadata": {
        "id": "M76tDLKeN2D5"
      },
      "source": [
        "### Create a Pandas Dataframe From A List of Tweet Data\n",
        "\n",
        "Instead of displaying on screen, you can also populate a pandas dataframe using tweets data retrieved.\n",
        "\n",
        "[Pandas](https://pandas.pydata.org/) are widely used libraries to support handling tabular data. \n",
        "I can say that pandas is the defacto standard libarary.\n",
        "Let's import pandas.\n",
        "\n",
        "As typing 'pandas' is hard (...), in most cases, pandas is imported like below:"
      ]
    },
    {
      "cell_type": "code",
      "metadata": {
        "id": "p2DGXbMKPW24"
      },
      "source": [
        "import pandas as pd"
      ],
      "execution_count": 16,
      "outputs": []
    },
    {
      "cell_type": "markdown",
      "metadata": {
        "id": "o7gabRHePW24"
      },
      "source": [
        "Then, you can create pandas data frame from collected data.\n",
        "\n",
        "You first append your data as a list, then conver it to dataframe.\n",
        "\n",
        "You can imagine that the dataframe is a table. "
      ]
    },
    {
      "cell_type": "code",
      "metadata": {
        "id": "oPZl5GzYN2D6",
        "colab": {
          "base_uri": "https://localhost:8080/",
          "height": 419
        },
        "outputId": "ea0e75f9-75e4-4c39-b434-9dad2f5e6f78"
      },
      "source": [
        "# setting parameters and retrieving tweets\n",
        "new_search = search_words + \" -filter:retweets\" \n",
        "tweets = tweepy.Cursor(api.search,q=new_search, lang=\"en\",since=date_since,tweet_mode='extended').items(8)\n",
        "\n",
        "## initialise list to be used to store tweets retrieved\n",
        "tweets_list = []\n",
        "\n",
        "## appending tweets retrieved into a list\n",
        "for tweet in tweets:\n",
        "    \n",
        "    try: # If it's Retweet\n",
        "        text = tweet.retweeted_status.full_text\n",
        "    except AttributeError:  # Not a Retweet\n",
        "        text = tweet.full_text\n",
        "\n",
        "    tweets_list.append([tweet.user.screen_name, tweet.created_at, tweet.user.location, text])\n",
        "\n",
        "# populate dataframe with list of tweets\n",
        "tweet_df = pd.DataFrame(data=tweets_list, columns=['user','created_at','location','text'])\n",
        "tweet_df"
      ],
      "execution_count": 88,
      "outputs": [
        {
          "output_type": "execute_result",
          "data": {
            "text/html": [
              "<div>\n",
              "<style scoped>\n",
              "    .dataframe tbody tr th:only-of-type {\n",
              "        vertical-align: middle;\n",
              "    }\n",
              "\n",
              "    .dataframe tbody tr th {\n",
              "        vertical-align: top;\n",
              "    }\n",
              "\n",
              "    .dataframe thead th {\n",
              "        text-align: right;\n",
              "    }\n",
              "</style>\n",
              "<table border=\"1\" class=\"dataframe\">\n",
              "  <thead>\n",
              "    <tr style=\"text-align: right;\">\n",
              "      <th></th>\n",
              "      <th>user</th>\n",
              "      <th>created_at</th>\n",
              "      <th>location</th>\n",
              "      <th>text</th>\n",
              "    </tr>\n",
              "  </thead>\n",
              "  <tbody>\n",
              "    <tr>\n",
              "      <th>0</th>\n",
              "      <td>ridzixious_</td>\n",
              "      <td>2021-08-30 15:15:01</td>\n",
              "      <td>Kashmir ki jahanam ma</td>\n",
              "      <td>#WellDoneNCOC\\n\\nUnder the leadership of @Asad...</td>\n",
              "    </tr>\n",
              "    <tr>\n",
              "      <th>1</th>\n",
              "      <td>ShoelessBroJax</td>\n",
              "      <td>2021-08-30 15:15:01</td>\n",
              "      <td></td>\n",
              "      <td>@philllosoraptor For comparison, it’s like say...</td>\n",
              "    </tr>\n",
              "    <tr>\n",
              "      <th>2</th>\n",
              "      <td>FinRegAlert</td>\n",
              "      <td>2021-08-30 15:15:01</td>\n",
              "      <td></td>\n",
              "      <td>Firms Wary as Money-Market Rule Changes Studie...</td>\n",
              "    </tr>\n",
              "    <tr>\n",
              "      <th>3</th>\n",
              "      <td>MSU_Osteopathic</td>\n",
              "      <td>2021-08-30 15:15:00</td>\n",
              "      <td>At three Michigan sites</td>\n",
              "      <td>#SpartanDO fourth-year student Zach Morehouse ...</td>\n",
              "    </tr>\n",
              "    <tr>\n",
              "      <th>4</th>\n",
              "      <td>uhwuhna</td>\n",
              "      <td>2021-08-30 15:15:00</td>\n",
              "      <td>Toronto, Ontario</td>\n",
              "      <td>LA public schools have regular COVID testing o...</td>\n",
              "    </tr>\n",
              "    <tr>\n",
              "      <th>...</th>\n",
              "      <td>...</td>\n",
              "      <td>...</td>\n",
              "      <td>...</td>\n",
              "      <td>...</td>\n",
              "    </tr>\n",
              "    <tr>\n",
              "      <th>95</th>\n",
              "      <td>InghamHealth</td>\n",
              "      <td>2021-08-30 15:14:42</td>\n",
              "      <td>Lansing, Michigan</td>\n",
              "      <td>The Ingham County Health Department will be of...</td>\n",
              "    </tr>\n",
              "    <tr>\n",
              "      <th>96</th>\n",
              "      <td>JoeLuisCedillo</td>\n",
              "      <td>2021-08-30 15:14:42</td>\n",
              "      <td></td>\n",
              "      <td>Off into the wild blue yonder for start of Bla...</td>\n",
              "    </tr>\n",
              "    <tr>\n",
              "      <th>97</th>\n",
              "      <td>inchbyinch_rbr</td>\n",
              "      <td>2021-08-30 15:14:42</td>\n",
              "      <td>Washington DC USA</td>\n",
              "      <td>“Since the start of the year, we have lost 19 ...</td>\n",
              "    </tr>\n",
              "    <tr>\n",
              "      <th>98</th>\n",
              "      <td>BestForBritain</td>\n",
              "      <td>2021-08-30 15:14:42</td>\n",
              "      <td>London</td>\n",
              "      <td>\"Brexit has made doctors from overseas feel un...</td>\n",
              "    </tr>\n",
              "    <tr>\n",
              "      <th>99</th>\n",
              "      <td>Harry1T6</td>\n",
              "      <td>2021-08-30 15:14:41</td>\n",
              "      <td>Toronto, ON</td>\n",
              "      <td>This is really sad, if you are older and espec...</td>\n",
              "    </tr>\n",
              "  </tbody>\n",
              "</table>\n",
              "<p>100 rows × 4 columns</p>\n",
              "</div>"
            ],
            "text/plain": [
              "               user  ...                                               text\n",
              "0       ridzixious_  ...  #WellDoneNCOC\\n\\nUnder the leadership of @Asad...\n",
              "1    ShoelessBroJax  ...  @philllosoraptor For comparison, it’s like say...\n",
              "2       FinRegAlert  ...  Firms Wary as Money-Market Rule Changes Studie...\n",
              "3   MSU_Osteopathic  ...  #SpartanDO fourth-year student Zach Morehouse ...\n",
              "4           uhwuhna  ...  LA public schools have regular COVID testing o...\n",
              "..              ...  ...                                                ...\n",
              "95     InghamHealth  ...  The Ingham County Health Department will be of...\n",
              "96   JoeLuisCedillo  ...  Off into the wild blue yonder for start of Bla...\n",
              "97   inchbyinch_rbr  ...  “Since the start of the year, we have lost 19 ...\n",
              "98   BestForBritain  ...  \"Brexit has made doctors from overseas feel un...\n",
              "99         Harry1T6  ...  This is really sad, if you are older and espec...\n",
              "\n",
              "[100 rows x 4 columns]"
            ]
          },
          "metadata": {},
          "execution_count": 88
        }
      ]
    },
    {
      "cell_type": "code",
      "metadata": {
        "id": "9BRZaiiLN2D6"
      },
      "source": [
        "## save the data into a csv file\n",
        "mypath= \".\"\n",
        "tweet_df.to_csv(f'{mypath}/covid_tweet.csv', index=False)"
      ],
      "execution_count": 89,
      "outputs": []
    },
    {
      "cell_type": "markdown",
      "metadata": {
        "id": "eEOMgZPPPW25"
      },
      "source": [
        "### Pandas basic \n",
        "\n",
        "(You can skip this sub-section if you are already familiar with Pandas.) \n",
        "\n",
        "Let's read csv file using pandas. "
      ]
    },
    {
      "cell_type": "code",
      "metadata": {
        "id": "srDKXyeXPW25"
      },
      "source": [
        "## By default, read_csv() function assumes that the separator as ','. Thus, we can omit it as well. \n",
        "\n",
        "df = pd.read_csv(f'{mypath}/covid_tweet.csv', sep=',')\n",
        "df.head(n=5)"
      ],
      "execution_count": null,
      "outputs": []
    },
    {
      "cell_type": "markdown",
      "metadata": {
        "id": "_ifegmrRPW25"
      },
      "source": [
        "You can also see the n rows from the bottom by tail()."
      ]
    },
    {
      "cell_type": "code",
      "metadata": {
        "id": "HQbfSuFxPW25"
      },
      "source": [
        "df.tail(n=5)"
      ],
      "execution_count": null,
      "outputs": []
    },
    {
      "cell_type": "markdown",
      "metadata": {
        "id": "QHPwFEk9PW25"
      },
      "source": [
        "You can check the number of rows and columns by .shape\n"
      ]
    },
    {
      "cell_type": "code",
      "metadata": {
        "id": "STEFYfXzPW25"
      },
      "source": [
        "df.shape"
      ],
      "execution_count": null,
      "outputs": []
    },
    {
      "cell_type": "code",
      "metadata": {
        "id": "rAZUvpVAPW26"
      },
      "source": [
        "## below if how you can access the values of df.shape \n",
        "print (f'{df.shape[0]} rows and {df.shape[1]} columns')"
      ],
      "execution_count": null,
      "outputs": []
    },
    {
      "cell_type": "markdown",
      "metadata": {
        "id": "qOFF8s0kPW26"
      },
      "source": [
        "We will work with pandas more later in this lab."
      ]
    },
    {
      "cell_type": "markdown",
      "metadata": {
        "id": "EyMvH1JoN2D7"
      },
      "source": [
        "### b) Search Tweets by Specific User\n",
        "\n",
        "Besides keyword, we can also retrieve tweets posted by specific Twitter user. \n",
        "\n",
        "Parameters:\n",
        "-   `api.user_timeline` – tweepy api method that returns the most recent statuses (up to 20) posted from the user specified.\n",
        "-   `id` – unique user ID or screen name of a user\n",
        "-   `lang` – restricts tweets to the given language\n",
        "-   `include_rts` – boolean indicator to specify whether to include retweets\n",
        "-   `exclude_replies` – boolean indicator to specify whether to exclude tweet replies\n",
        "\n",
        "Similarly, you can restrict the number of tweets returned by specifying a number in the `.items()` method. `.items(10)` will return 10 of the most recent tweets.\n",
        "\n",
        "Let's look at the following example that retrieves tweets posted by UK Model World Health Organization. "
      ]
    },
    {
      "cell_type": "code",
      "metadata": {
        "id": "vKw8Kp68N2D7",
        "colab": {
          "base_uri": "https://localhost:8080/",
          "height": 359
        },
        "outputId": "4a3f23c6-973e-42c8-c3f9-9fcc3f38fa99"
      },
      "source": [
        "import pandas as pd\n",
        "\n",
        "user_id = \"UKModelWHO\"\n",
        "\n",
        "## initialise list to be used to store tweets retrieved\n",
        "tweets_list = []\n",
        "\n",
        "## appending tweets retrieved into a list\n",
        "for tweet in tweepy.Cursor(api.user_timeline, id=user_id ,lang=\"en\", include_rts=False, exclude_replies=True, tweet_mode='extended').items(10):\n",
        "    try: # If it's Retweet\n",
        "        text = tweet.retweeted_status.full_text\n",
        "    except AttributeError:  # Not a Retweet\n",
        "        text = tweet.full_text\n",
        "#     print(f'Retweeted: {tweet.retweet_count}times')\n",
        "    tweets_list.append([tweet.user.screen_name, tweet.id, tweet.created_at, tweet.retweet_count, text])\n",
        "\n",
        "# populate dataframe with list of tweets specifying required column names\n",
        "tweet_df = pd.DataFrame(data=tweets_list, columns=['user','tweetid','created_at', 'retweet_count', 'text'])\n",
        "tweet_df\n",
        "\n"
      ],
      "execution_count": 72,
      "outputs": [
        {
          "output_type": "execute_result",
          "data": {
            "text/html": [
              "<div>\n",
              "<style scoped>\n",
              "    .dataframe tbody tr th:only-of-type {\n",
              "        vertical-align: middle;\n",
              "    }\n",
              "\n",
              "    .dataframe tbody tr th {\n",
              "        vertical-align: top;\n",
              "    }\n",
              "\n",
              "    .dataframe thead th {\n",
              "        text-align: right;\n",
              "    }\n",
              "</style>\n",
              "<table border=\"1\" class=\"dataframe\">\n",
              "  <thead>\n",
              "    <tr style=\"text-align: right;\">\n",
              "      <th></th>\n",
              "      <th>user</th>\n",
              "      <th>tweetid</th>\n",
              "      <th>created_at</th>\n",
              "      <th>retweet_count</th>\n",
              "      <th>text</th>\n",
              "    </tr>\n",
              "  </thead>\n",
              "  <tbody>\n",
              "    <tr>\n",
              "      <th>0</th>\n",
              "      <td>UKModelWHO</td>\n",
              "      <td>1423275390877847552</td>\n",
              "      <td>2021-08-05 13:31:11</td>\n",
              "      <td>0</td>\n",
              "      <td>Take part in the the UK's biggest cycling comm...</td>\n",
              "    </tr>\n",
              "    <tr>\n",
              "      <th>1</th>\n",
              "      <td>UKModelWHO</td>\n",
              "      <td>1422667678439940104</td>\n",
              "      <td>2021-08-03 21:16:21</td>\n",
              "      <td>0</td>\n",
              "      <td>🌎 World Breast Feeding Week falls annually bet...</td>\n",
              "    </tr>\n",
              "    <tr>\n",
              "      <th>2</th>\n",
              "      <td>UKModelWHO</td>\n",
              "      <td>1419421901638848513</td>\n",
              "      <td>2021-07-25 22:18:47</td>\n",
              "      <td>5</td>\n",
              "      <td>Apply NOW for a delegate position at @ParisWHO...</td>\n",
              "    </tr>\n",
              "    <tr>\n",
              "      <th>3</th>\n",
              "      <td>UKModelWHO</td>\n",
              "      <td>1418474733998428160</td>\n",
              "      <td>2021-07-23 07:35:05</td>\n",
              "      <td>1</td>\n",
              "      <td>🗣️Yesterday The Academy welcomed Cianne Jones ...</td>\n",
              "    </tr>\n",
              "    <tr>\n",
              "      <th>4</th>\n",
              "      <td>UKModelWHO</td>\n",
              "      <td>1413432015345516547</td>\n",
              "      <td>2021-07-09 09:37:07</td>\n",
              "      <td>2</td>\n",
              "      <td>🗣️On Wednesday The Academy welcomed it's first...</td>\n",
              "    </tr>\n",
              "    <tr>\n",
              "      <th>5</th>\n",
              "      <td>UKModelWHO</td>\n",
              "      <td>1410909642310422529</td>\n",
              "      <td>2021-07-02 10:34:06</td>\n",
              "      <td>8</td>\n",
              "      <td>🧠Yesterday saw the inaugural session of UK Mod...</td>\n",
              "    </tr>\n",
              "    <tr>\n",
              "      <th>6</th>\n",
              "      <td>UKModelWHO</td>\n",
              "      <td>1404393712852082689</td>\n",
              "      <td>2021-06-14 11:02:08</td>\n",
              "      <td>1</td>\n",
              "      <td>On August 26, the Academy programme will host ...</td>\n",
              "    </tr>\n",
              "    <tr>\n",
              "      <th>7</th>\n",
              "      <td>UKModelWHO</td>\n",
              "      <td>1403306603386900485</td>\n",
              "      <td>2021-06-11 11:02:21</td>\n",
              "      <td>1</td>\n",
              "      <td>On the 19th of August, 2021, the UK Model WHO ...</td>\n",
              "    </tr>\n",
              "    <tr>\n",
              "      <th>8</th>\n",
              "      <td>UKModelWHO</td>\n",
              "      <td>1402944092712194049</td>\n",
              "      <td>2021-06-10 11:01:51</td>\n",
              "      <td>4</td>\n",
              "      <td>On the 12th of August, The UK ModelWHO Academy...</td>\n",
              "    </tr>\n",
              "    <tr>\n",
              "      <th>9</th>\n",
              "      <td>UKModelWHO</td>\n",
              "      <td>1402581744730185729</td>\n",
              "      <td>2021-06-09 11:02:01</td>\n",
              "      <td>5</td>\n",
              "      <td>Introducing ‘Women’s Health: A Global Perspect...</td>\n",
              "    </tr>\n",
              "  </tbody>\n",
              "</table>\n",
              "</div>"
            ],
            "text/plain": [
              "         user  ...                                               text\n",
              "0  UKModelWHO  ...  Take part in the the UK's biggest cycling comm...\n",
              "1  UKModelWHO  ...  🌎 World Breast Feeding Week falls annually bet...\n",
              "2  UKModelWHO  ...  Apply NOW for a delegate position at @ParisWHO...\n",
              "3  UKModelWHO  ...  🗣️Yesterday The Academy welcomed Cianne Jones ...\n",
              "4  UKModelWHO  ...  🗣️On Wednesday The Academy welcomed it's first...\n",
              "5  UKModelWHO  ...  🧠Yesterday saw the inaugural session of UK Mod...\n",
              "6  UKModelWHO  ...  On August 26, the Academy programme will host ...\n",
              "7  UKModelWHO  ...  On the 19th of August, 2021, the UK Model WHO ...\n",
              "8  UKModelWHO  ...  On the 12th of August, The UK ModelWHO Academy...\n",
              "9  UKModelWHO  ...  Introducing ‘Women’s Health: A Global Perspect...\n",
              "\n",
              "[10 rows x 5 columns]"
            ]
          },
          "metadata": {},
          "execution_count": 72
        }
      ]
    },
    {
      "cell_type": "code",
      "metadata": {
        "id": "T63PtWjEN2D8"
      },
      "source": [
        "## save the data into a csv file\n",
        "tweet_df.to_csv('ukmodelwho_tweet.csv')"
      ],
      "execution_count": 73,
      "outputs": []
    },
    {
      "cell_type": "markdown",
      "metadata": {
        "id": "nHp2Hm9L9pAi"
      },
      "source": [
        "You can save tweets in their original json format"
      ]
    },
    {
      "cell_type": "code",
      "metadata": {
        "id": "1KHQF3C-N2D8"
      },
      "source": [
        "user_id = \"UKModelWHO\"\n",
        "\n",
        "tweets = tweepy.Cursor(api.user_timeline, id=user_id ,lang=\"en\", include_rts=False, exclude_replies=True, tweet_mode='extended').items(10)\n",
        "\n",
        "filename = f\"{mypath}/tweets_{user_id}.jsons\"\n",
        "with open(filename, \"w\") as output:\n",
        "    for tweet in tweets:\n",
        "        myjson = tweet._json\n",
        "        output.write(json.dumps(myjson)+\"\\n\")\n"
      ],
      "execution_count": 35,
      "outputs": []
    },
    {
      "cell_type": "markdown",
      "metadata": {
        "id": "-2PhlHoa9pAi"
      },
      "source": [
        "Create dataframe from json files"
      ]
    },
    {
      "cell_type": "code",
      "metadata": {
        "id": "VGPEq6mejE7R",
        "colab": {
          "base_uri": "https://localhost:8080/",
          "height": 359
        },
        "outputId": "ecb75be8-7f95-43ea-cd6b-e3fd8177eb09"
      },
      "source": [
        "tweets_list = []\n",
        "\n",
        "filename = f\"{mypath}/tweets_{user_id}.jsons\"\n",
        "with open(filename) as fi:\n",
        "    for line_cnt, line in enumerate(fi):\n",
        "\n",
        "        tweet = json.loads(line.strip())\n",
        "\n",
        "        tweetid = tweet['id']\n",
        "        created_at = tweet['created_at']\n",
        "        \n",
        "        retweet_count = tweet['retweet_count']\n",
        "        # # # Extended Mode\n",
        "        if 'retweeted_status' in tweet: # If it's Retweet\n",
        "            text = tweet['retweeted_status']['full_text']\n",
        "        else:  # Not a Retweet\n",
        "            text = tweet['full_text']\n",
        "\n",
        "            \n",
        "        user_screen_name = tweet['user']['screen_name']\n",
        "\n",
        "        tweets_list.append([user_screen_name, tweetid, created_at, retweet_count, text])\n",
        "\n",
        "# populate dataframe with list of tweets specifying required column names\n",
        "tweet_df = pd.DataFrame(data=tweets_list, columns=['user','tweetid', 'created_at', 'retweet_count', 'text'])\n",
        "tweet_df\n",
        "\n",
        "    "
      ],
      "execution_count": 36,
      "outputs": [
        {
          "output_type": "execute_result",
          "data": {
            "text/html": [
              "<div>\n",
              "<style scoped>\n",
              "    .dataframe tbody tr th:only-of-type {\n",
              "        vertical-align: middle;\n",
              "    }\n",
              "\n",
              "    .dataframe tbody tr th {\n",
              "        vertical-align: top;\n",
              "    }\n",
              "\n",
              "    .dataframe thead th {\n",
              "        text-align: right;\n",
              "    }\n",
              "</style>\n",
              "<table border=\"1\" class=\"dataframe\">\n",
              "  <thead>\n",
              "    <tr style=\"text-align: right;\">\n",
              "      <th></th>\n",
              "      <th>user</th>\n",
              "      <th>tweetid</th>\n",
              "      <th>created_at</th>\n",
              "      <th>retweet_count</th>\n",
              "      <th>text</th>\n",
              "    </tr>\n",
              "  </thead>\n",
              "  <tbody>\n",
              "    <tr>\n",
              "      <th>0</th>\n",
              "      <td>UKModelWHO</td>\n",
              "      <td>1423275390877847552</td>\n",
              "      <td>Thu Aug 05 13:31:11 +0000 2021</td>\n",
              "      <td>0</td>\n",
              "      <td>Take part in the the UK's biggest cycling comm...</td>\n",
              "    </tr>\n",
              "    <tr>\n",
              "      <th>1</th>\n",
              "      <td>UKModelWHO</td>\n",
              "      <td>1422667678439940104</td>\n",
              "      <td>Tue Aug 03 21:16:21 +0000 2021</td>\n",
              "      <td>0</td>\n",
              "      <td>🌎 World Breast Feeding Week falls annually bet...</td>\n",
              "    </tr>\n",
              "    <tr>\n",
              "      <th>2</th>\n",
              "      <td>UKModelWHO</td>\n",
              "      <td>1419421901638848513</td>\n",
              "      <td>Sun Jul 25 22:18:47 +0000 2021</td>\n",
              "      <td>5</td>\n",
              "      <td>Apply NOW for a delegate position at @ParisWHO...</td>\n",
              "    </tr>\n",
              "    <tr>\n",
              "      <th>3</th>\n",
              "      <td>UKModelWHO</td>\n",
              "      <td>1418474733998428160</td>\n",
              "      <td>Fri Jul 23 07:35:05 +0000 2021</td>\n",
              "      <td>1</td>\n",
              "      <td>🗣️Yesterday The Academy welcomed Cianne Jones ...</td>\n",
              "    </tr>\n",
              "    <tr>\n",
              "      <th>4</th>\n",
              "      <td>UKModelWHO</td>\n",
              "      <td>1413432015345516547</td>\n",
              "      <td>Fri Jul 09 09:37:07 +0000 2021</td>\n",
              "      <td>2</td>\n",
              "      <td>🗣️On Wednesday The Academy welcomed it's first...</td>\n",
              "    </tr>\n",
              "    <tr>\n",
              "      <th>5</th>\n",
              "      <td>UKModelWHO</td>\n",
              "      <td>1410909642310422529</td>\n",
              "      <td>Fri Jul 02 10:34:06 +0000 2021</td>\n",
              "      <td>8</td>\n",
              "      <td>🧠Yesterday saw the inaugural session of UK Mod...</td>\n",
              "    </tr>\n",
              "    <tr>\n",
              "      <th>6</th>\n",
              "      <td>UKModelWHO</td>\n",
              "      <td>1404393712852082689</td>\n",
              "      <td>Mon Jun 14 11:02:08 +0000 2021</td>\n",
              "      <td>1</td>\n",
              "      <td>On August 26, the Academy programme will host ...</td>\n",
              "    </tr>\n",
              "    <tr>\n",
              "      <th>7</th>\n",
              "      <td>UKModelWHO</td>\n",
              "      <td>1403306603386900485</td>\n",
              "      <td>Fri Jun 11 11:02:21 +0000 2021</td>\n",
              "      <td>1</td>\n",
              "      <td>On the 19th of August, 2021, the UK Model WHO ...</td>\n",
              "    </tr>\n",
              "    <tr>\n",
              "      <th>8</th>\n",
              "      <td>UKModelWHO</td>\n",
              "      <td>1402944092712194049</td>\n",
              "      <td>Thu Jun 10 11:01:51 +0000 2021</td>\n",
              "      <td>4</td>\n",
              "      <td>On the 12th of August, The UK ModelWHO Academy...</td>\n",
              "    </tr>\n",
              "    <tr>\n",
              "      <th>9</th>\n",
              "      <td>UKModelWHO</td>\n",
              "      <td>1402581744730185729</td>\n",
              "      <td>Wed Jun 09 11:02:01 +0000 2021</td>\n",
              "      <td>5</td>\n",
              "      <td>Introducing ‘Women’s Health: A Global Perspect...</td>\n",
              "    </tr>\n",
              "  </tbody>\n",
              "</table>\n",
              "</div>"
            ],
            "text/plain": [
              "         user  ...                                               text\n",
              "0  UKModelWHO  ...  Take part in the the UK's biggest cycling comm...\n",
              "1  UKModelWHO  ...  🌎 World Breast Feeding Week falls annually bet...\n",
              "2  UKModelWHO  ...  Apply NOW for a delegate position at @ParisWHO...\n",
              "3  UKModelWHO  ...  🗣️Yesterday The Academy welcomed Cianne Jones ...\n",
              "4  UKModelWHO  ...  🗣️On Wednesday The Academy welcomed it's first...\n",
              "5  UKModelWHO  ...  🧠Yesterday saw the inaugural session of UK Mod...\n",
              "6  UKModelWHO  ...  On August 26, the Academy programme will host ...\n",
              "7  UKModelWHO  ...  On the 19th of August, 2021, the UK Model WHO ...\n",
              "8  UKModelWHO  ...  On the 12th of August, The UK ModelWHO Academy...\n",
              "9  UKModelWHO  ...  Introducing ‘Women’s Health: A Global Perspect...\n",
              "\n",
              "[10 rows x 5 columns]"
            ]
          },
          "metadata": {},
          "execution_count": 36
        }
      ]
    },
    {
      "cell_type": "code",
      "metadata": {
        "id": "mN2KUSCKPW28"
      },
      "source": [
        "## save the data into a tsv file (tab-separated)\n",
        "tweet_df.to_csv('ukmodelwho_tweet_simple_2.csv')\n"
      ],
      "execution_count": 37,
      "outputs": []
    },
    {
      "cell_type": "code",
      "metadata": {
        "id": "WqoCfmqdpLTO"
      },
      "source": [
        ""
      ],
      "execution_count": null,
      "outputs": []
    },
    {
      "cell_type": "markdown",
      "metadata": {
        "id": "MS2InjZfjFea"
      },
      "source": [
        "#### Find the top three rows with highest retweet_count"
      ]
    },
    {
      "cell_type": "code",
      "metadata": {
        "id": "JBE07Q8KPW2-",
        "colab": {
          "base_uri": "https://localhost:8080/",
          "height": 142
        },
        "outputId": "8b919e69-1ca8-4404-bffd-3fc877a920ba"
      },
      "source": [
        "df1 = tweet_df.sort_values('retweet_count',ascending = False).head(3)\n",
        "df1"
      ],
      "execution_count": 38,
      "outputs": [
        {
          "output_type": "execute_result",
          "data": {
            "text/html": [
              "<div>\n",
              "<style scoped>\n",
              "    .dataframe tbody tr th:only-of-type {\n",
              "        vertical-align: middle;\n",
              "    }\n",
              "\n",
              "    .dataframe tbody tr th {\n",
              "        vertical-align: top;\n",
              "    }\n",
              "\n",
              "    .dataframe thead th {\n",
              "        text-align: right;\n",
              "    }\n",
              "</style>\n",
              "<table border=\"1\" class=\"dataframe\">\n",
              "  <thead>\n",
              "    <tr style=\"text-align: right;\">\n",
              "      <th></th>\n",
              "      <th>user</th>\n",
              "      <th>tweetid</th>\n",
              "      <th>created_at</th>\n",
              "      <th>retweet_count</th>\n",
              "      <th>text</th>\n",
              "    </tr>\n",
              "  </thead>\n",
              "  <tbody>\n",
              "    <tr>\n",
              "      <th>5</th>\n",
              "      <td>UKModelWHO</td>\n",
              "      <td>1410909642310422529</td>\n",
              "      <td>Fri Jul 02 10:34:06 +0000 2021</td>\n",
              "      <td>8</td>\n",
              "      <td>🧠Yesterday saw the inaugural session of UK Mod...</td>\n",
              "    </tr>\n",
              "    <tr>\n",
              "      <th>2</th>\n",
              "      <td>UKModelWHO</td>\n",
              "      <td>1419421901638848513</td>\n",
              "      <td>Sun Jul 25 22:18:47 +0000 2021</td>\n",
              "      <td>5</td>\n",
              "      <td>Apply NOW for a delegate position at @ParisWHO...</td>\n",
              "    </tr>\n",
              "    <tr>\n",
              "      <th>9</th>\n",
              "      <td>UKModelWHO</td>\n",
              "      <td>1402581744730185729</td>\n",
              "      <td>Wed Jun 09 11:02:01 +0000 2021</td>\n",
              "      <td>5</td>\n",
              "      <td>Introducing ‘Women’s Health: A Global Perspect...</td>\n",
              "    </tr>\n",
              "  </tbody>\n",
              "</table>\n",
              "</div>"
            ],
            "text/plain": [
              "         user  ...                                               text\n",
              "5  UKModelWHO  ...  🧠Yesterday saw the inaugural session of UK Mod...\n",
              "2  UKModelWHO  ...  Apply NOW for a delegate position at @ParisWHO...\n",
              "9  UKModelWHO  ...  Introducing ‘Women’s Health: A Global Perspect...\n",
              "\n",
              "[3 rows x 5 columns]"
            ]
          },
          "metadata": {},
          "execution_count": 38
        }
      ]
    },
    {
      "cell_type": "markdown",
      "metadata": {
        "id": "NZVTEDi5PW2-"
      },
      "source": [
        "#### Filter out rows that have more than 2 retweet_count\n",
        "\n",
        "You can filter dataframe by query(). See the official API from https://pandas.pydata.org/pandas-docs/stable/reference/api/pandas.DataFrame.query.html\n"
      ]
    },
    {
      "cell_type": "code",
      "metadata": {
        "id": "Q5ZQXygKPW2_",
        "colab": {
          "base_uri": "https://localhost:8080/"
        },
        "outputId": "2880c377-d902-413a-d5ba-8249dc827d92"
      },
      "source": [
        "# Let's see how many rows the current dataframe has \n",
        "tweet_df.shape"
      ],
      "execution_count": 39,
      "outputs": [
        {
          "output_type": "execute_result",
          "data": {
            "text/plain": [
              "(10, 5)"
            ]
          },
          "metadata": {},
          "execution_count": 39
        }
      ]
    },
    {
      "cell_type": "code",
      "metadata": {
        "id": "Fa0KZ8zIPW2_",
        "colab": {
          "base_uri": "https://localhost:8080/",
          "height": 221
        },
        "outputId": "334e0c5d-29f9-4906-b8e3-0c74cf67ed16"
      },
      "source": [
        "rt_tweet_df = tweet_df.query('retweet_count >= 2')\n",
        "print(rt_tweet_df.shape) # only half of the tweets have more than 2 retweet counts! (the value might be different to your case)\n",
        "rt_tweet_df"
      ],
      "execution_count": 40,
      "outputs": [
        {
          "output_type": "stream",
          "text": [
            "(5, 5)\n"
          ],
          "name": "stdout"
        },
        {
          "output_type": "execute_result",
          "data": {
            "text/html": [
              "<div>\n",
              "<style scoped>\n",
              "    .dataframe tbody tr th:only-of-type {\n",
              "        vertical-align: middle;\n",
              "    }\n",
              "\n",
              "    .dataframe tbody tr th {\n",
              "        vertical-align: top;\n",
              "    }\n",
              "\n",
              "    .dataframe thead th {\n",
              "        text-align: right;\n",
              "    }\n",
              "</style>\n",
              "<table border=\"1\" class=\"dataframe\">\n",
              "  <thead>\n",
              "    <tr style=\"text-align: right;\">\n",
              "      <th></th>\n",
              "      <th>user</th>\n",
              "      <th>tweetid</th>\n",
              "      <th>created_at</th>\n",
              "      <th>retweet_count</th>\n",
              "      <th>text</th>\n",
              "    </tr>\n",
              "  </thead>\n",
              "  <tbody>\n",
              "    <tr>\n",
              "      <th>2</th>\n",
              "      <td>UKModelWHO</td>\n",
              "      <td>1419421901638848513</td>\n",
              "      <td>Sun Jul 25 22:18:47 +0000 2021</td>\n",
              "      <td>5</td>\n",
              "      <td>Apply NOW for a delegate position at @ParisWHO...</td>\n",
              "    </tr>\n",
              "    <tr>\n",
              "      <th>4</th>\n",
              "      <td>UKModelWHO</td>\n",
              "      <td>1413432015345516547</td>\n",
              "      <td>Fri Jul 09 09:37:07 +0000 2021</td>\n",
              "      <td>2</td>\n",
              "      <td>🗣️On Wednesday The Academy welcomed it's first...</td>\n",
              "    </tr>\n",
              "    <tr>\n",
              "      <th>5</th>\n",
              "      <td>UKModelWHO</td>\n",
              "      <td>1410909642310422529</td>\n",
              "      <td>Fri Jul 02 10:34:06 +0000 2021</td>\n",
              "      <td>8</td>\n",
              "      <td>🧠Yesterday saw the inaugural session of UK Mod...</td>\n",
              "    </tr>\n",
              "    <tr>\n",
              "      <th>8</th>\n",
              "      <td>UKModelWHO</td>\n",
              "      <td>1402944092712194049</td>\n",
              "      <td>Thu Jun 10 11:01:51 +0000 2021</td>\n",
              "      <td>4</td>\n",
              "      <td>On the 12th of August, The UK ModelWHO Academy...</td>\n",
              "    </tr>\n",
              "    <tr>\n",
              "      <th>9</th>\n",
              "      <td>UKModelWHO</td>\n",
              "      <td>1402581744730185729</td>\n",
              "      <td>Wed Jun 09 11:02:01 +0000 2021</td>\n",
              "      <td>5</td>\n",
              "      <td>Introducing ‘Women’s Health: A Global Perspect...</td>\n",
              "    </tr>\n",
              "  </tbody>\n",
              "</table>\n",
              "</div>"
            ],
            "text/plain": [
              "         user  ...                                               text\n",
              "2  UKModelWHO  ...  Apply NOW for a delegate position at @ParisWHO...\n",
              "4  UKModelWHO  ...  🗣️On Wednesday The Academy welcomed it's first...\n",
              "5  UKModelWHO  ...  🧠Yesterday saw the inaugural session of UK Mod...\n",
              "8  UKModelWHO  ...  On the 12th of August, The UK ModelWHO Academy...\n",
              "9  UKModelWHO  ...  Introducing ‘Women’s Health: A Global Perspect...\n",
              "\n",
              "[5 rows x 5 columns]"
            ]
          },
          "metadata": {},
          "execution_count": 40
        }
      ]
    },
    {
      "cell_type": "markdown",
      "metadata": {
        "id": "6j9VR8zHPW2_"
      },
      "source": [
        "### Exercise 2\n",
        "\n",
        "Can you find the tweets with the highest favorites (likes)? \n",
        "\n",
        "Step 1: from JSON file, extract number of favorites of the tweet and add it to your dataframe.\n",
        "Step 2: Sort the rows based on likes and print the top 3. \n"
      ]
    },
    {
      "cell_type": "code",
      "metadata": {
        "id": "cEEZZY6iPW2_"
      },
      "source": [
        "tweets_list = []\n",
        "\n",
        "filename = f\"{mypath}/tweets_{user_id}.jsons\"\n",
        "with open(filename) as fi:\n",
        "    for line_cnt, line in enumerate(fi):\n",
        "        tweet = json.loads(line)\n",
        "\n",
        "        tweet = json.loads(line.strip())\n",
        "\n",
        "        tweetid = tweet['id']\n",
        "        created_at = tweet['created_at']\n",
        "        \n",
        "        favorite_count = tweet['favorite_count']\n",
        "        # # # Extended Mode\n",
        "        if 'retweeted_status' in tweet: # If it's Retweet\n",
        "            text = tweet['retweeted_status']['full_text']\n",
        "        else:  # Not a Retweet\n",
        "            text = tweet['full_text']\n",
        "\n",
        "        user_screen_name = tweet['user']['screen_name']\n",
        "\n",
        "        tweets_list.append([user_screen_name, tweetid, created_at, favorite_count, text])\n",
        "\n",
        "# populate dataframe with list of tweets specifying required column names\n",
        "tweet_df_2 = pd.DataFrame(data=tweets_list, columns=['user','tweetid', 'created_at', 'favorite_count', 'text'])\n",
        "\n",
        "df1 = tweet_df_2.sort_values('favorite_count',ascending = False).head(3)\n",
        "df1"
      ],
      "execution_count": null,
      "outputs": []
    },
    {
      "cell_type": "markdown",
      "metadata": {
        "id": "P8NAuESbPW2_"
      },
      "source": [
        "### Exercise 3 (Optional)\n",
        "\n",
        "Can you compute the correlation between two variables: favorite_count and retweet_count in the data? \n",
        "\n",
        "For computing the correlation for two variables, you can use ```scipy.stats.pearsonr``` function. \n",
        "\n",
        "Find more information about it [here](https://docs.scipy.org/doc/scipy-0.14.0/reference/generated/scipy.stats.pearsonr.html). \n",
        "\n",
        "Don't forget that you will need to import the library! \n",
        "```from scipy.stats.stats import pearsonr```\n"
      ]
    },
    {
      "cell_type": "code",
      "metadata": {
        "id": "SyqAUIX3PW2_",
        "colab": {
          "base_uri": "https://localhost:8080/",
          "height": 193
        },
        "outputId": "fa805bd6-7121-48b4-f3c3-ff22b1df109a"
      },
      "source": [
        "tweets_list = []\n",
        "\n",
        "filename = f\"{mypath}/tweets_{user_id}.jsons\"\n",
        "with open(filename) as fi:\n",
        "    for line_cnt, line in enumerate(fi):\n",
        "        tweet = json.loads(line)\n",
        "\n",
        "        tweet = json.loads(line.strip())\n",
        "\n",
        "        tweetid = tweet['id']\n",
        "        created_at = tweet['created_at']\n",
        "        \n",
        "        favorite_count = tweet['favorite_count']\n",
        "        retweet_count = tweet['retweet_count']\n",
        "        \n",
        "        # # # Extended Mode\n",
        "        if 'retweeted_status' in tweet: # If it's Retweet\n",
        "            text = tweet['retweeted_status']['full_text']\n",
        "        else:  # Not a Retweet\n",
        "            text = tweet['full_text']\n",
        "\n",
        "        user_screen_name = tweet['user']['screen_name']\n",
        "\n",
        "        tweets_list.append([user_screen_name, tweetid, created_at, retweet_count, favorite_count, text])\n",
        "\n",
        "# populate dataframe with list of tweets specifying required column names\n",
        "tweet_df_2 = pd.DataFrame(data=tweets_list, columns=['user','tweetid', 'created_at', 'retweet_count', 'favorite_count', 'text'])\n",
        "\n",
        "df1 = tweet_df_2.sort_values('favorite_count',ascending = False).head(3)\n",
        "df1"
      ],
      "execution_count": 41,
      "outputs": [
        {
          "output_type": "execute_result",
          "data": {
            "text/html": [
              "<div>\n",
              "<style scoped>\n",
              "    .dataframe tbody tr th:only-of-type {\n",
              "        vertical-align: middle;\n",
              "    }\n",
              "\n",
              "    .dataframe tbody tr th {\n",
              "        vertical-align: top;\n",
              "    }\n",
              "\n",
              "    .dataframe thead th {\n",
              "        text-align: right;\n",
              "    }\n",
              "</style>\n",
              "<table border=\"1\" class=\"dataframe\">\n",
              "  <thead>\n",
              "    <tr style=\"text-align: right;\">\n",
              "      <th></th>\n",
              "      <th>user</th>\n",
              "      <th>tweetid</th>\n",
              "      <th>created_at</th>\n",
              "      <th>retweet_count</th>\n",
              "      <th>favorite_count</th>\n",
              "      <th>text</th>\n",
              "    </tr>\n",
              "  </thead>\n",
              "  <tbody>\n",
              "    <tr>\n",
              "      <th>5</th>\n",
              "      <td>UKModelWHO</td>\n",
              "      <td>1410909642310422529</td>\n",
              "      <td>Fri Jul 02 10:34:06 +0000 2021</td>\n",
              "      <td>8</td>\n",
              "      <td>11</td>\n",
              "      <td>🧠Yesterday saw the inaugural session of UK Mod...</td>\n",
              "    </tr>\n",
              "    <tr>\n",
              "      <th>9</th>\n",
              "      <td>UKModelWHO</td>\n",
              "      <td>1402581744730185729</td>\n",
              "      <td>Wed Jun 09 11:02:01 +0000 2021</td>\n",
              "      <td>5</td>\n",
              "      <td>7</td>\n",
              "      <td>Introducing ‘Women’s Health: A Global Perspect...</td>\n",
              "    </tr>\n",
              "    <tr>\n",
              "      <th>3</th>\n",
              "      <td>UKModelWHO</td>\n",
              "      <td>1418474733998428160</td>\n",
              "      <td>Fri Jul 23 07:35:05 +0000 2021</td>\n",
              "      <td>1</td>\n",
              "      <td>5</td>\n",
              "      <td>🗣️Yesterday The Academy welcomed Cianne Jones ...</td>\n",
              "    </tr>\n",
              "  </tbody>\n",
              "</table>\n",
              "</div>"
            ],
            "text/plain": [
              "         user  ...                                               text\n",
              "5  UKModelWHO  ...  🧠Yesterday saw the inaugural session of UK Mod...\n",
              "9  UKModelWHO  ...  Introducing ‘Women’s Health: A Global Perspect...\n",
              "3  UKModelWHO  ...  🗣️Yesterday The Academy welcomed Cianne Jones ...\n",
              "\n",
              "[3 rows x 6 columns]"
            ]
          },
          "metadata": {},
          "execution_count": 41
        }
      ]
    },
    {
      "cell_type": "code",
      "metadata": {
        "id": "fqohID9WPW2_"
      },
      "source": [
        "from scipy.stats.stats import pearsonr"
      ],
      "execution_count": 42,
      "outputs": []
    },
    {
      "cell_type": "code",
      "metadata": {
        "id": "YZZwQKcBPW3A",
        "colab": {
          "base_uri": "https://localhost:8080/"
        },
        "outputId": "f3f4bde4-0e71-4354-fc66-f085aa5fa2ad"
      },
      "source": [
        "pearsonr(df1['retweet_count'], df1['favorite_count'])"
      ],
      "execution_count": 43,
      "outputs": [
        {
          "output_type": "execute_result",
          "data": {
            "text/plain": [
              "(0.9631231373018598, 0.17342665114532418)"
            ]
          },
          "metadata": {},
          "execution_count": 43
        }
      ]
    },
    {
      "cell_type": "code",
      "metadata": {
        "id": "LYco8tbwPW3A"
      },
      "source": [
        ""
      ],
      "execution_count": null,
      "outputs": []
    },
    {
      "cell_type": "markdown",
      "metadata": {
        "id": "1If29S-EPW3B"
      },
      "source": [
        "## 4) Draw a word cloud\n",
        "\n",
        "A word cloud, which has been popularly used as a tag cloud in the era of Blogs, is often used to show which words frequently appear. Detail explanations are available on https://en.wikipedia.org/wiki/Tag_cloud"
      ]
    },
    {
      "cell_type": "code",
      "metadata": {
        "id": "ytr_v5w29pAk"
      },
      "source": [
        "## This it OPTIONAL if you are running the current notebook using Google Colab\n",
        "!conda install --yes -c conda-forge wordcloud"
      ],
      "execution_count": null,
      "outputs": []
    },
    {
      "cell_type": "code",
      "metadata": {
        "id": "Wcd9WVi89pAk"
      },
      "source": [
        "# Import relevant libraries\n",
        "\n",
        "from wordcloud import WordCloud, STOPWORDS\n",
        "import matplotlib.pyplot as plt"
      ],
      "execution_count": 45,
      "outputs": []
    },
    {
      "cell_type": "markdown",
      "metadata": {
        "id": "WPDNA_k7PW3B"
      },
      "source": [
        "#### Let's draw WordCloud of the collected tweets\n",
        "\n",
        "Loading a data into dataframe"
      ]
    },
    {
      "cell_type": "code",
      "metadata": {
        "colab": {
          "base_uri": "https://localhost:8080/",
          "height": 221
        },
        "id": "CvmYPNBqio4a",
        "outputId": "540d9f8c-fd0e-473a-9103-9c45dc6ecd14"
      },
      "source": [
        "infilename = f\"{mypath}/covid_tweet.csv\" \n",
        "df = pd.read_csv(infilename, sep=\",\")\n",
        "print(df.shape)\n",
        "df.head()\n"
      ],
      "execution_count": 94,
      "outputs": [
        {
          "output_type": "stream",
          "text": [
            "(30, 4)\n"
          ],
          "name": "stdout"
        },
        {
          "output_type": "execute_result",
          "data": {
            "text/html": [
              "<div>\n",
              "<style scoped>\n",
              "    .dataframe tbody tr th:only-of-type {\n",
              "        vertical-align: middle;\n",
              "    }\n",
              "\n",
              "    .dataframe tbody tr th {\n",
              "        vertical-align: top;\n",
              "    }\n",
              "\n",
              "    .dataframe thead th {\n",
              "        text-align: right;\n",
              "    }\n",
              "</style>\n",
              "<table border=\"1\" class=\"dataframe\">\n",
              "  <thead>\n",
              "    <tr style=\"text-align: right;\">\n",
              "      <th></th>\n",
              "      <th>user</th>\n",
              "      <th>created_at</th>\n",
              "      <th>location</th>\n",
              "      <th>text</th>\n",
              "    </tr>\n",
              "  </thead>\n",
              "  <tbody>\n",
              "    <tr>\n",
              "      <th>0</th>\n",
              "      <td>Marianna19561</td>\n",
              "      <td>2021-08-30 15:11:54</td>\n",
              "      <td>Bergen County, NJ</td>\n",
              "      <td>@Juliaathomas59 @DixieBear_55 Wish I lived clo...</td>\n",
              "    </tr>\n",
              "    <tr>\n",
              "      <th>1</th>\n",
              "      <td>ac1r3</td>\n",
              "      <td>2021-08-30 15:11:54</td>\n",
              "      <td>Dallas,Tx</td>\n",
              "      <td>So 2021 really ain’t for me huh? Tested positi...</td>\n",
              "    </tr>\n",
              "    <tr>\n",
              "      <th>2</th>\n",
              "      <td>LouisLoukmh</td>\n",
              "      <td>2021-08-30 15:11:54</td>\n",
              "      <td>NaN</td>\n",
              "      <td>Fauci Says It Would Be a \"Good Idea\" to Mandat...</td>\n",
              "    </tr>\n",
              "    <tr>\n",
              "      <th>3</th>\n",
              "      <td>sherry6767</td>\n",
              "      <td>2021-08-30 15:11:53</td>\n",
              "      <td>❤️ In OBX &amp; VA born/raised -MI</td>\n",
              "      <td>@TheJusticeDept is it legal for leaders to enc...</td>\n",
              "    </tr>\n",
              "    <tr>\n",
              "      <th>4</th>\n",
              "      <td>POCX100</td>\n",
              "      <td>2021-08-30 15:11:53</td>\n",
              "      <td>Little Englandshire</td>\n",
              "      <td>The Brexiters are running out of excuses, they...</td>\n",
              "    </tr>\n",
              "  </tbody>\n",
              "</table>\n",
              "</div>"
            ],
            "text/plain": [
              "            user  ...                                               text\n",
              "0  Marianna19561  ...  @Juliaathomas59 @DixieBear_55 Wish I lived clo...\n",
              "1          ac1r3  ...  So 2021 really ain’t for me huh? Tested positi...\n",
              "2    LouisLoukmh  ...  Fauci Says It Would Be a \"Good Idea\" to Mandat...\n",
              "3     sherry6767  ...  @TheJusticeDept is it legal for leaders to enc...\n",
              "4        POCX100  ...  The Brexiters are running out of excuses, they...\n",
              "\n",
              "[5 rows x 4 columns]"
            ]
          },
          "metadata": {},
          "execution_count": 94
        }
      ]
    },
    {
      "cell_type": "markdown",
      "metadata": {
        "id": "0_bI_YouPW3C"
      },
      "source": [
        "As WordCloud() function requires a **string** as a parameter, we need to concatenate all the rows of the 'text' column in the dataframe to a single string by join().\n",
        "\n",
        "This can be done in one line of code using list comprehension, \n",
        "```all_tweets = \" \".join(one_row for one_row in df['text'])```\n",
        "\n",
        "Let's disagreggate this code and check how it works."
      ]
    },
    {
      "cell_type": "code",
      "metadata": {
        "id": "T5cqZahtPW3C",
        "colab": {
          "base_uri": "https://localhost:8080/",
          "height": 52
        },
        "outputId": "2c55014d-bd85-46ad-ed78-7856ced9dafe"
      },
      "source": [
        "# access 2nd item of df['text']\n",
        "df['text'][2]"
      ],
      "execution_count": 95,
      "outputs": [
        {
          "output_type": "execute_result",
          "data": {
            "application/vnd.google.colaboratory.intrinsic+json": {
              "type": "string"
            },
            "text/plain": [
              "'Fauci Says It Would Be a \"Good Idea\" to Mandate Covid-19 Vaccines for School Children https://t.co/PpGwhHSF6f via @politicususa'"
            ]
          },
          "metadata": {},
          "execution_count": 95
        }
      ]
    },
    {
      "cell_type": "code",
      "metadata": {
        "id": "PeTOZ5MsPW3C",
        "colab": {
          "base_uri": "https://localhost:8080/"
        },
        "outputId": "dc02f842-5d37-4d5a-da4c-5ae23ad49ba8"
      },
      "source": [
        "# access the first five rows of df['text']\n",
        "df['text'][:5]"
      ],
      "execution_count": 96,
      "outputs": [
        {
          "output_type": "execute_result",
          "data": {
            "text/plain": [
              "0    @Juliaathomas59 @DixieBear_55 Wish I lived clo...\n",
              "1    So 2021 really ain’t for me huh? Tested positi...\n",
              "2    Fauci Says It Would Be a \"Good Idea\" to Mandat...\n",
              "3    @TheJusticeDept is it legal for leaders to enc...\n",
              "4    The Brexiters are running out of excuses, they...\n",
              "Name: text, dtype: object"
            ]
          },
          "metadata": {},
          "execution_count": 96
        }
      ]
    },
    {
      "cell_type": "code",
      "metadata": {
        "id": "HOkdiE9RPW3C",
        "colab": {
          "base_uri": "https://localhost:8080/"
        },
        "outputId": "3b37ac4e-c1b5-47f2-a93f-3aaa3027dc59"
      },
      "source": [
        "# you can print the first 5 rows of df['text'] \n",
        "for one_row in df['text'][:5]:\n",
        "    print(one_row)"
      ],
      "execution_count": 97,
      "outputs": [
        {
          "output_type": "stream",
          "text": [
            "@Juliaathomas59 @DixieBear_55 Wish I lived closer.. then again I gained way too much weight with all this dumb COVID bullshit..\n",
            "So 2021 really ain’t for me huh? Tested positive for covid and now I have to cancel Vegas that was lined up for here in a week 😒\n",
            "Fauci Says It Would Be a \"Good Idea\" to Mandate Covid-19 Vaccines for School Children https://t.co/PpGwhHSF6f via @politicususa\n",
            "@TheJusticeDept is it legal for leaders to encoutrage people to take actions that will ensure their infection especially when they profit from Covid infections?\n",
            "is it legal for leaders to tell people to take action causing death, disinfectants, hydroxy, horse paste, purple lights https://t.co/aBhgAmsSzo\n",
            "The Brexiters are running out of excuses, they’ve lost control so they’ll have to focus on blaming migrants, COVID and the EU.\n",
            "\n",
            "The worse is yet to come.\n",
            "\n",
            "#BrexitChaos\n"
          ],
          "name": "stdout"
        }
      ]
    },
    {
      "cell_type": "code",
      "metadata": {
        "id": "XsiSejUTPW3C",
        "colab": {
          "base_uri": "https://localhost:8080/"
        },
        "outputId": "6117857c-e7c3-4b9c-bb9b-e1e2d189ce58"
      },
      "source": [
        "# below will read the first 5 rows of df['text'] and reture as a list \n",
        "[one_row for one_row in df['text'][:5]]"
      ],
      "execution_count": 98,
      "outputs": [
        {
          "output_type": "execute_result",
          "data": {
            "text/plain": [
              "['@Juliaathomas59 @DixieBear_55 Wish I lived closer.. then again I gained way too much weight with all this dumb COVID bullshit..',\n",
              " 'So 2021 really ain’t for me huh? Tested positive for covid and now I have to cancel Vegas that was lined up for here in a week 😒',\n",
              " 'Fauci Says It Would Be a \"Good Idea\" to Mandate Covid-19 Vaccines for School Children https://t.co/PpGwhHSF6f via @politicususa',\n",
              " '@TheJusticeDept is it legal for leaders to encoutrage people to take actions that will ensure their infection especially when they profit from Covid infections?\\nis it legal for leaders to tell people to take action causing death, disinfectants, hydroxy, horse paste, purple lights https://t.co/aBhgAmsSzo',\n",
              " 'The Brexiters are running out of excuses, they’ve lost control so they’ll have to focus on blaming migrants, COVID and the EU.\\n\\nThe worse is yet to come.\\n\\n#BrexitChaos']"
            ]
          },
          "metadata": {},
          "execution_count": 98
        }
      ]
    },
    {
      "cell_type": "code",
      "metadata": {
        "id": "NTpe09LGPW3C",
        "colab": {
          "base_uri": "https://localhost:8080/",
          "height": 35
        },
        "outputId": "779944e3-73a9-4750-ef76-614e25f93d0a"
      },
      "source": [
        "# how join function works, it concatenates items in the list and return a single sentence\n",
        "sample = ['jisun is cool', 'michelle is cool', 'we all are cool']\n",
        "\" \".join(sample)"
      ],
      "execution_count": 99,
      "outputs": [
        {
          "output_type": "execute_result",
          "data": {
            "application/vnd.google.colaboratory.intrinsic+json": {
              "type": "string"
            },
            "text/plain": [
              "'jisun is cool michelle is cool we all are cool'"
            ]
          },
          "metadata": {},
          "execution_count": 99
        }
      ]
    },
    {
      "cell_type": "code",
      "metadata": {
        "id": "-cKE_WxpPW3D",
        "colab": {
          "base_uri": "https://localhost:8080/",
          "height": 142
        },
        "outputId": "799ab337-466a-48b5-f82d-e158e5dbafd8"
      },
      "source": [
        "\" \".join([one_row for one_row in df['text'][:5]])"
      ],
      "execution_count": 100,
      "outputs": [
        {
          "output_type": "execute_result",
          "data": {
            "application/vnd.google.colaboratory.intrinsic+json": {
              "type": "string"
            },
            "text/plain": [
              "'@Juliaathomas59 @DixieBear_55 Wish I lived closer.. then again I gained way too much weight with all this dumb COVID bullshit.. So 2021 really ain’t for me huh? Tested positive for covid and now I have to cancel Vegas that was lined up for here in a week 😒 Fauci Says It Would Be a \"Good Idea\" to Mandate Covid-19 Vaccines for School Children https://t.co/PpGwhHSF6f via @politicususa @TheJusticeDept is it legal for leaders to encoutrage people to take actions that will ensure their infection especially when they profit from Covid infections?\\nis it legal for leaders to tell people to take action causing death, disinfectants, hydroxy, horse paste, purple lights https://t.co/aBhgAmsSzo The Brexiters are running out of excuses, they’ve lost control so they’ll have to focus on blaming migrants, COVID and the EU.\\n\\nThe worse is yet to come.\\n\\n#BrexitChaos'"
            ]
          },
          "metadata": {},
          "execution_count": 100
        }
      ]
    },
    {
      "cell_type": "code",
      "metadata": {
        "id": "vukcwMdkPW3D"
      },
      "source": [
        "# this will concatenate all rows in df['text'] and return one single sentence!\n",
        "all_tweets = \" \".join([one_row for one_row in df['text']])"
      ],
      "execution_count": 101,
      "outputs": []
    },
    {
      "cell_type": "code",
      "metadata": {
        "id": "R5bwxYhz7c_D",
        "colab": {
          "base_uri": "https://localhost:8080/",
          "height": 198
        },
        "outputId": "e9fe1fbe-d0a7-478c-dbee-9702e18f87a1"
      },
      "source": [
        "# Enter your code to draw WordCloud\n",
        "wordcloud = WordCloud(stopwords=STOPWORDS, background_color=\"white\", width=1000, height=500).generate(all_tweets)\n",
        "\n",
        "# Display the generated image:\n",
        "plt.imshow(wordcloud, interpolation='bilinear')\n",
        "plt.axis(\"off\")\n",
        "plt.show()"
      ],
      "execution_count": 102,
      "outputs": [
        {
          "output_type": "display_data",
          "data": {
            "image/png": "[encoded data removed]",
            "text/plain": [
              "<Figure size 432x288 with 1 Axes>"
            ]
          },
          "metadata": {
            "needs_background": "light"
          }
        }
      ]
    },
    {
      "cell_type": "markdown",
      "metadata": {
        "id": "y77TkMiSPW3D"
      },
      "source": [
        "We are curious about the context of 'vaccine'. \n",
        "You can search dataframe like below:"
      ]
    },
    {
      "cell_type": "code",
      "metadata": {
        "id": "_FURya-gPW3D",
        "colab": {
          "base_uri": "https://localhost:8080/",
          "height": 637
        },
        "outputId": "c8179611-846b-4af0-eebb-d81000b27bd4"
      },
      "source": [
        "df[df[\"text\"].str.contains(\"vaccine\", na=False)]"
      ],
      "execution_count": 93,
      "outputs": [
        {
          "output_type": "execute_result",
          "data": {
            "text/html": [
              "<div>\n",
              "<style scoped>\n",
              "    .dataframe tbody tr th:only-of-type {\n",
              "        vertical-align: middle;\n",
              "    }\n",
              "\n",
              "    .dataframe tbody tr th {\n",
              "        vertical-align: top;\n",
              "    }\n",
              "\n",
              "    .dataframe thead th {\n",
              "        text-align: right;\n",
              "    }\n",
              "</style>\n",
              "<table border=\"1\" class=\"dataframe\">\n",
              "  <thead>\n",
              "    <tr style=\"text-align: right;\">\n",
              "      <th></th>\n",
              "      <th>user</th>\n",
              "      <th>created_at</th>\n",
              "      <th>location</th>\n",
              "      <th>text</th>\n",
              "    </tr>\n",
              "  </thead>\n",
              "  <tbody>\n",
              "    <tr>\n",
              "      <th>13</th>\n",
              "      <td>RNS</td>\n",
              "      <td>2021-08-30 15:15:00</td>\n",
              "      <td>USA</td>\n",
              "      <td>A spokesman for Myanmar’s military-installed g...</td>\n",
              "    </tr>\n",
              "    <tr>\n",
              "      <th>15</th>\n",
              "      <td>HealthyCollier</td>\n",
              "      <td>2021-08-30 15:15:00</td>\n",
              "      <td>NaN</td>\n",
              "      <td>Crush COVID, Collier! Get your #COVID19 vaccin...</td>\n",
              "    </tr>\n",
              "    <tr>\n",
              "      <th>17</th>\n",
              "      <td>SETADC</td>\n",
              "      <td>2021-08-30 15:15:00</td>\n",
              "      <td>Washington, DC</td>\n",
              "      <td>Turkey’s three largest cities now fall under t...</td>\n",
              "    </tr>\n",
              "    <tr>\n",
              "      <th>18</th>\n",
              "      <td>SpecNews1SoCal</td>\n",
              "      <td>2021-08-30 15:15:00</td>\n",
              "      <td>Los Angeles, CA</td>\n",
              "      <td>\"During this period of high transmission, prot...</td>\n",
              "    </tr>\n",
              "    <tr>\n",
              "      <th>34</th>\n",
              "      <td>IvorGoodbody</td>\n",
              "      <td>2021-08-30 15:14:57</td>\n",
              "      <td>NaN</td>\n",
              "      <td>#Covid sceptic dies of #Covid in hospital at t...</td>\n",
              "    </tr>\n",
              "    <tr>\n",
              "      <th>38</th>\n",
              "      <td>DeannaSpingola</td>\n",
              "      <td>2021-08-30 15:14:55</td>\n",
              "      <td>https://screeningsandyhook.net</td>\n",
              "      <td>Refusing the COVID vaccine; setting the record...</td>\n",
              "    </tr>\n",
              "    <tr>\n",
              "      <th>39</th>\n",
              "      <td>Tempegov</td>\n",
              "      <td>2021-08-30 15:14:55</td>\n",
              "      <td>Tempe, AZ 85280</td>\n",
              "      <td>Don’t Wait. Vaccinate. Today at Laird School C...</td>\n",
              "    </tr>\n",
              "    <tr>\n",
              "      <th>46</th>\n",
              "      <td>TodayHeadline42</td>\n",
              "      <td>2021-08-30 15:14:54</td>\n",
              "      <td>United States</td>\n",
              "      <td>Reuters gives insight into how Pfizer, Moderna...</td>\n",
              "    </tr>\n",
              "    <tr>\n",
              "      <th>55</th>\n",
              "      <td>HarryAu05753100</td>\n",
              "      <td>2021-08-30 15:14:51</td>\n",
              "      <td>NaN</td>\n",
              "      <td>@DaveNaylor18 @MickWest A review of the topic ...</td>\n",
              "    </tr>\n",
              "    <tr>\n",
              "      <th>56</th>\n",
              "      <td>Brayden_3smith3</td>\n",
              "      <td>2021-08-30 15:14:51</td>\n",
              "      <td>Hell</td>\n",
              "      <td>From our economy, to the Middle East, Covid an...</td>\n",
              "    </tr>\n",
              "    <tr>\n",
              "      <th>59</th>\n",
              "      <td>leader_truth</td>\n",
              "      <td>2021-08-30 15:14:50</td>\n",
              "      <td>Global Citizen</td>\n",
              "      <td>#COVID #Covid_19 #COVID19nsw \\n#vaccine #Vacci...</td>\n",
              "    </tr>\n",
              "    <tr>\n",
              "      <th>65</th>\n",
              "      <td>chriske52963146</td>\n",
              "      <td>2021-08-30 15:14:49</td>\n",
              "      <td>NaN</td>\n",
              "      <td>Andy Murray says pro players have a responsibi...</td>\n",
              "    </tr>\n",
              "    <tr>\n",
              "      <th>69</th>\n",
              "      <td>mtclifford84</td>\n",
              "      <td>2021-08-30 15:14:48</td>\n",
              "      <td>Michigan, USA</td>\n",
              "      <td>@MemesonMarilyn @ScorpioJanie The majority of ...</td>\n",
              "    </tr>\n",
              "    <tr>\n",
              "      <th>71</th>\n",
              "      <td>LibbynOrd</td>\n",
              "      <td>2021-08-30 15:14:48</td>\n",
              "      <td>California, USA</td>\n",
              "      <td>@DanielGriffinMD What the f do we, the public,...</td>\n",
              "    </tr>\n",
              "    <tr>\n",
              "      <th>75</th>\n",
              "      <td>Kzoo_Gazette</td>\n",
              "      <td>2021-08-30 15:14:47</td>\n",
              "      <td>Kalamazoo, MI</td>\n",
              "      <td>Is it safe to get a flu shot and COVID vaccine...</td>\n",
              "    </tr>\n",
              "    <tr>\n",
              "      <th>78</th>\n",
              "      <td>Santanumalbum</td>\n",
              "      <td>2021-08-30 15:14:47</td>\n",
              "      <td>Long Island, New York</td>\n",
              "      <td>Florida radio host Marc Bernier, 65, who calle...</td>\n",
              "    </tr>\n",
              "    <tr>\n",
              "      <th>83</th>\n",
              "      <td>helpcoincom</td>\n",
              "      <td>2021-08-30 15:14:46</td>\n",
              "      <td>Earth</td>\n",
              "      <td>@erdocAA @DFisman @OntarioPCCaucus What about ...</td>\n",
              "    </tr>\n",
              "    <tr>\n",
              "      <th>87</th>\n",
              "      <td>BortolanMelissa</td>\n",
              "      <td>2021-08-30 15:14:45</td>\n",
              "      <td>NaN</td>\n",
              "      <td>If you’re referring to the covid vaccine as “t...</td>\n",
              "    </tr>\n",
              "    <tr>\n",
              "      <th>95</th>\n",
              "      <td>InghamHealth</td>\n",
              "      <td>2021-08-30 15:14:42</td>\n",
              "      <td>Lansing, Michigan</td>\n",
              "      <td>The Ingham County Health Department will be of...</td>\n",
              "    </tr>\n",
              "  </tbody>\n",
              "</table>\n",
              "</div>"
            ],
            "text/plain": [
              "               user  ...                                               text\n",
              "13              RNS  ...  A spokesman for Myanmar’s military-installed g...\n",
              "15   HealthyCollier  ...  Crush COVID, Collier! Get your #COVID19 vaccin...\n",
              "17           SETADC  ...  Turkey’s three largest cities now fall under t...\n",
              "18   SpecNews1SoCal  ...  \"During this period of high transmission, prot...\n",
              "34     IvorGoodbody  ...  #Covid sceptic dies of #Covid in hospital at t...\n",
              "38   DeannaSpingola  ...  Refusing the COVID vaccine; setting the record...\n",
              "39         Tempegov  ...  Don’t Wait. Vaccinate. Today at Laird School C...\n",
              "46  TodayHeadline42  ...  Reuters gives insight into how Pfizer, Moderna...\n",
              "55  HarryAu05753100  ...  @DaveNaylor18 @MickWest A review of the topic ...\n",
              "56  Brayden_3smith3  ...  From our economy, to the Middle East, Covid an...\n",
              "59     leader_truth  ...  #COVID #Covid_19 #COVID19nsw \\n#vaccine #Vacci...\n",
              "65  chriske52963146  ...  Andy Murray says pro players have a responsibi...\n",
              "69     mtclifford84  ...  @MemesonMarilyn @ScorpioJanie The majority of ...\n",
              "71        LibbynOrd  ...  @DanielGriffinMD What the f do we, the public,...\n",
              "75     Kzoo_Gazette  ...  Is it safe to get a flu shot and COVID vaccine...\n",
              "78    Santanumalbum  ...  Florida radio host Marc Bernier, 65, who calle...\n",
              "83      helpcoincom  ...  @erdocAA @DFisman @OntarioPCCaucus What about ...\n",
              "87  BortolanMelissa  ...  If you’re referring to the covid vaccine as “t...\n",
              "95     InghamHealth  ...  The Ingham County Health Department will be of...\n",
              "\n",
              "[19 rows x 4 columns]"
            ]
          },
          "metadata": {},
          "execution_count": 93
        }
      ]
    },
    {
      "cell_type": "code",
      "metadata": {
        "colab": {
          "base_uri": "https://localhost:8080/",
          "height": 114
        },
        "id": "Ru9PDijclZq0",
        "outputId": "8fb46c3c-bbf0-4e4a-94c0-2db5d8aa5390"
      },
      "source": [
        ""
      ],
      "execution_count": 70,
      "outputs": [
        {
          "output_type": "execute_result",
          "data": {
            "text/html": [
              "<div>\n",
              "<style scoped>\n",
              "    .dataframe tbody tr th:only-of-type {\n",
              "        vertical-align: middle;\n",
              "    }\n",
              "\n",
              "    .dataframe tbody tr th {\n",
              "        vertical-align: top;\n",
              "    }\n",
              "\n",
              "    .dataframe thead th {\n",
              "        text-align: right;\n",
              "    }\n",
              "</style>\n",
              "<table border=\"1\" class=\"dataframe\">\n",
              "  <thead>\n",
              "    <tr style=\"text-align: right;\">\n",
              "      <th></th>\n",
              "      <th>Unnamed: 0</th>\n",
              "      <th>user</th>\n",
              "      <th>tweetid</th>\n",
              "      <th>created_at</th>\n",
              "      <th>retweet_count</th>\n",
              "      <th>text</th>\n",
              "    </tr>\n",
              "  </thead>\n",
              "  <tbody>\n",
              "    <tr>\n",
              "      <th>2</th>\n",
              "      <td>2</td>\n",
              "      <td>UKModelWHO</td>\n",
              "      <td>1419421901638848513</td>\n",
              "      <td>Sun Jul 25 22:18:47 +0000 2021</td>\n",
              "      <td>5</td>\n",
              "      <td>Apply NOW for a delegate position at @ParisWHO...</td>\n",
              "    </tr>\n",
              "  </tbody>\n",
              "</table>\n",
              "</div>"
            ],
            "text/plain": [
              "   Unnamed: 0  ...                                               text\n",
              "2           2  ...  Apply NOW for a delegate position at @ParisWHO...\n",
              "\n",
              "[1 rows x 6 columns]"
            ]
          },
          "metadata": {},
          "execution_count": 70
        }
      ]
    },
    {
      "cell_type": "markdown",
      "metadata": {
        "id": "Dv3fiB5CPW3D"
      },
      "source": [
        "### Exercise 4 - Let's compare two hashtags\n",
        "\n",
        "People use hashtags to discuss a certain topics and to express their opinions. For example, in the discussion of vaccination, pro-vaccine people have used #vaccinessavelives and anti-vaccine people have used #mybodymychoice. By collecting tweets including those hashtag, you can understand what people are talking about pro-vaccine or anti-vaccine issue. In this exercise, you will collect tweets about vaccination and analyze the differences between the two groups. \n",
        "\n",
        "Please collect tweets using two different hahstags: **#vaccinessavelives** and **#mybodymychoice**, which are *opposing* to each other, and then draw wordclouds to compare the context around the two hashtags. Please note that you don't need to add # for the keyword when searching.  \n",
        "\n",
        "\n",
        "1) Create a function named ```searchTweet``` whose input is ```search_words```, ```date_since```, and ```max_tweets```, and output is a file named ```tweets_{search_words}.jsons``` where it stores tweets in a JSON format. \n",
        "\n",
        "2) Create a fuction named ```parseTweet``` whose input is ```search_words``` and output is a file named ```simple_stream_tweets_{search_words}.tsv,``` which is tab-separated file and includes the following tweet information, ```tweetid```, ```user_screen_name```, ```created_at```, and ```text.``` \n",
        "\n",
        "2) Collect tweets for two hashtags: #vaccinessavelives and #mybodymychoice for the last 3-7 days with max_tweets=100. \n",
        "\n",
        "3) Draw word clouds for each hashtagh. You can create a function named ```drawWordcloud``` whose input is ```search_words``` and output is the plot. \n"
      ]
    },
    {
      "cell_type": "code",
      "metadata": {
        "id": "aQHkPl97VnrH"
      },
      "source": [
        "# # Import relevant libraries\n",
        "# import pandas as pd\n",
        "# import json \n",
        "# from wordcloud import WordCloud, STOPWORDS\n",
        "# import matplotlib.pyplot as plt\n",
        "# import tweepy\n",
        "# from tweepy import OAuthHandler\n",
        "\n",
        "# # Consumer/Access key/secret/token obtained from Twitter\n",
        "# # You should have created a Twitter app and gotten these keys.\n",
        "# # Do NOT share your key/secret/token with other students.\n",
        "# consumer_key    = ''\n",
        "# consumer_secret = ''\n",
        "# access_token    = ''\n",
        "# access_secret   = ''\n",
        "\n",
        "# auth = OAuthHandler(consumer_key, consumer_secret)\n",
        "# auth.set_access_token(access_token, access_secret)\n",
        "\n",
        "# # This line finally calls Twitter's Rest API.\n",
        "# api = tweepy.API(auth)\n",
        "\n",
        "# try:\n",
        "#     api.verify_credentials()\n",
        "#     print(\"Authentication OK\")\n",
        "# except Exception as e:\n",
        "#     print(\"Error during authentication:\", e)\n"
      ],
      "execution_count": null,
      "outputs": []
    },
    {
      "cell_type": "code",
      "metadata": {
        "id": "vq4tX_i9VnrH"
      },
      "source": [
        "def searchTweet(search_words, date_since, max_tweets):\n",
        "\n",
        "    # set location for files to be saved\n",
        "    mypath = \".\"\n",
        "    tweets = tweepy.Cursor(api.search, q=search_words, lang=\"en\", since=date_since, tweet_mode='extended').items(max_tweets)\n",
        "\n",
        "    # Write data into a file\n",
        "    filename = f\"{mypath}/tweets_{search_words}.jsons\"\n",
        "    with open(filename, \"w\") as output:\n",
        "        for tweet in tweets:\n",
        "            myjson = tweet._json\n",
        "            output.write(json.dumps(myjson)+\"\\n\")\n",
        " \n",
        "    "
      ],
      "execution_count": null,
      "outputs": []
    },
    {
      "cell_type": "code",
      "metadata": {
        "id": "MUkHogcDVnrH"
      },
      "source": [
        "def parseTweet(search_words):\n",
        "    infilename = f\"{mypath}/tweets_{search_words}.jsons\"\n",
        "    outfilename = f\"{mypath}/simple_search_tweets_{search_words}.tsv\" \n",
        "    with open(infilename) as fi, open(outfilename, 'w') as output:\n",
        "        # Write header in the file to load the file into dataframe\n",
        "        output.write(\"\\t\".join(['tweetid', 'user_screen_name', 'created_at', 'text'])+\"\\n\")\n",
        "\n",
        "        for line_cnt, line in enumerate(fi):\n",
        "            try:\n",
        "                tweet = json.loads(line.strip())\n",
        "            except: # The last json is not complate \n",
        "                continue\n",
        "\n",
        "            if 'limit' in tweet:\n",
        "                continue\n",
        "\n",
        "            tweetid = tweet['id']\n",
        "\n",
        "            created_at = tweet['created_at']\n",
        "            user_screen_name = tweet['user']['screen_name']\n",
        "\n",
        "            text = tweet['full_text']\n",
        "\n",
        "            text = \" \".join(text.split())\n",
        "\n",
        "            output.write(\"\\t\".join([str(tweetid), user_screen_name, created_at, text])+\"\\n\")   "
      ],
      "execution_count": null,
      "outputs": []
    },
    {
      "cell_type": "code",
      "metadata": {
        "id": "cOZmS4mpVnrI"
      },
      "source": [
        "date_since = \"2021-08-23\" \n",
        "max_tweets = 100"
      ],
      "execution_count": null,
      "outputs": []
    },
    {
      "cell_type": "code",
      "metadata": {
        "id": "MWF4vi_KVnrI"
      },
      "source": [
        "search_words = \"vaccinessavelives\"\n",
        "searchTweet(search_words, date_since, max_tweets)\n",
        "parseTweet(search_words)"
      ],
      "execution_count": null,
      "outputs": []
    },
    {
      "cell_type": "code",
      "metadata": {
        "id": "eKNAifEOVnrJ"
      },
      "source": [
        "search_words = \"mybodymychoice\"\n",
        "searchTweet(search_words, date_since, max_tweets)\n",
        "parseTweet(search_words)"
      ],
      "execution_count": null,
      "outputs": []
    },
    {
      "cell_type": "code",
      "metadata": {
        "id": "_mOSeaOpVnrJ"
      },
      "source": [
        ""
      ],
      "execution_count": null,
      "outputs": []
    },
    {
      "cell_type": "code",
      "metadata": {
        "id": "49ewFLi8VnrJ"
      },
      "source": [
        "def drawWordcloud(search_words):\n",
        "    infilename = f\"{mypath}/simple_search_tweets_{search_words}.tsv\" \n",
        "    df = pd.read_csv(infilename, sep=\"\\t\")\n",
        "    print(df.shape)\n",
        "\n",
        "    # this will concatenate all rows in df['text'] and return one single sentence!\n",
        "    all_tweets = \" \".join([one_row for one_row in df['text']])\n",
        "\n",
        "    # Enter your code to draw WordCloud\n",
        "    wordcloud = WordCloud(stopwords=STOPWORDS, background_color=\"white\", width=1000, height=500).generate(all_tweets)\n",
        "\n",
        "    # Display the generated image:\n",
        "    plt.imshow(wordcloud, interpolation='bilinear')\n",
        "    plt.axis(\"off\")\n",
        "    plt.show()"
      ],
      "execution_count": null,
      "outputs": []
    },
    {
      "cell_type": "code",
      "metadata": {
        "id": "rS1ivIhPVnrJ",
        "outputId": "41543e25-60eb-4d00-9199-8ba0581f0a52"
      },
      "source": [
        "search_words = \"vaccinessavelives\"\n",
        "drawWordcloud(search_words)\n"
      ],
      "execution_count": null,
      "outputs": [
        {
          "name": "stdout",
          "output_type": "stream",
          "text": [
            "(100, 4)\n"
          ]
        },
        {
          "data": {
            "image/png": "[encoded data removed]",
            "text/plain": [
              "<Figure size 432x288 with 1 Axes>"
            ]
          },
          "metadata": {
            "needs_background": "light"
          },
          "output_type": "display_data"
        }
      ]
    },
    {
      "cell_type": "code",
      "metadata": {
        "id": "Jmhvsjz6VnrK",
        "outputId": "b203a691-329b-4555-c4bf-e7ca0096275f"
      },
      "source": [
        "search_words = \"mybodymychoice\"\n",
        "drawWordcloud(search_words)\n"
      ],
      "execution_count": null,
      "outputs": [
        {
          "name": "stdout",
          "output_type": "stream",
          "text": [
            "(100, 4)\n"
          ]
        },
        {
          "data": {
            "image/png": "[encoded data removed]",
            "text/plain": [
              "<Figure size 432x288 with 1 Axes>"
            ]
          },
          "metadata": {
            "needs_background": "light"
          },
          "output_type": "display_data"
        }
      ]
    },
    {
      "cell_type": "code",
      "metadata": {
        "id": "qLfwkWeBVnrL"
      },
      "source": [
        ""
      ],
      "execution_count": null,
      "outputs": []
    },
    {
      "cell_type": "markdown",
      "metadata": {
        "id": "oNWUcvwvXLCd"
      },
      "source": [
        "## 5) Streaming API [Optional]\n",
        "\n",
        "For details of Streaming API, see [Twitter Streaming API Documentation](https://developer.twitter.com/en/docs/tweets/filter-realtime/overview)\n",
        "\n",
        "Step 1: Creating a StreamListener\n",
        "\n",
        "`on_data()` is called when new data comes in\n"
      ]
    },
    {
      "cell_type": "code",
      "metadata": {
        "id": "9Gijq6e4PW3E"
      },
      "source": [
        "class MyStreamListener(tweepy.StreamListener):\n",
        "\n",
        "    \"\"\" A listener handles tweets are the received from the stream.\n",
        "    This is a basic listener that just prints received tweets to stdout.\n",
        "\n",
        "    \"\"\"\n",
        "    def on_data(self, data):\n",
        "        myjson=data[:-1]\n",
        "        myoutput.write(myjson+\"\\n\")\n",
        "        return True\n",
        "\n",
        "    def on_error(self, status):\n",
        "        print (\"Error\", status)\n"
      ],
      "execution_count": null,
      "outputs": []
    },
    {
      "cell_type": "markdown",
      "metadata": {
        "id": "Qk5xbBM4XR1H"
      },
      "source": [
        "Step 2: Creating a Stream"
      ]
    },
    {
      "cell_type": "code",
      "metadata": {
        "id": "xyf4oH9V9pAo"
      },
      "source": [
        "myStreamListener = MyStreamListener()\n",
        "myStream = tweepy.Stream(auth = api.auth, listener=myStreamListener, tweet_mode='extended')\n"
      ],
      "execution_count": null,
      "outputs": []
    },
    {
      "cell_type": "markdown",
      "metadata": {
        "id": "Y5aUP10lXVMa"
      },
      "source": [
        "You need to stop the process before it collects too much data!!"
      ]
    },
    {
      "cell_type": "code",
      "metadata": {
        "id": "mFpHKQ5x9pAp"
      },
      "source": [
        "keyword = 'covid'\n",
        "\n",
        "myfilename = f'{mypath}/stream_tweets_{keyword}.jsons'\n",
        "myoutput = open(myfilename, 'w')\n",
        "\n",
        "while True:\n",
        "    try:\n",
        "        # myStream.filter(track=['coronavirus', 'covid', 'chinese virus', 'wuhan', 'ncov', 'sars-cov-2', 'koronavirus', 'corona', 'cdc', 'N95', 'kungflu', 'epidemic', 'outbreak', 'sinophobia', 'china', 'pandemic', 'covd'])\n",
        "        myStream.filter(track=[keyword])\n",
        "\n",
        "    except Exception as e:\n",
        "        raise\n"
      ],
      "execution_count": null,
      "outputs": []
    },
    {
      "cell_type": "code",
      "metadata": {
        "id": "YLBDhXbS9pAq"
      },
      "source": [
        "outfilename = f\"{mypath}/simple_stream_tweets_{keyword}.tsv\" \n",
        "\n",
        "with open(myfilename) as fi, open(outfilename, 'w') as output:\n",
        "    # Write header in the file to load the file into dataframe\n",
        "    output.write(\"\\t\".join(['user_screen_name', 'tweetid', 'created_at', 'text'])+\"\\n\")\n",
        "    \n",
        "    for line_cnt, line in enumerate(fi):\n",
        "        try:\n",
        "            tweet = json.loads(line.strip())\n",
        "        except: # The last json is not complate \n",
        "            continue\n",
        "        \n",
        "        if 'limit' in tweet:\n",
        "            continue\n",
        "        \n",
        "        tweetid = tweet['id']\n",
        "        \n",
        "        created_at = tweet['created_at']\n",
        "        user_screen_name = tweet['user']['screen_name']\n",
        "\n",
        "        # Extract Tweet text from Streaming API when in Extended Mode \n",
        "        text = tweet['text']\n",
        "        try:\n",
        "            text = tweet['extended_tweet']['full_text']\n",
        "        except:\n",
        "            pass\n",
        "\n",
        "        # Below line will remove all tabs and line breaks from text\n",
        "        text = \" \".join(text.split())\n",
        "\n",
        "        output.write(\"\\t\".join([user_screen_name, str(tweetid), created_at, text])+\"\\n\")\n"
      ],
      "execution_count": null,
      "outputs": []
    },
    {
      "cell_type": "code",
      "metadata": {
        "id": "tzCAPde_PW3E"
      },
      "source": [
        "infilename = f\"{mypath}/simple_stream_tweets_{keyword}.tsv\" \n",
        "df = pd.read_csv(infilename, sep=\"\\t\")\n",
        "print(df.shape)\n",
        "df.head()"
      ],
      "execution_count": null,
      "outputs": []
    },
    {
      "cell_type": "code",
      "metadata": {
        "id": "on5CN8ZUPW3E"
      },
      "source": [
        ""
      ],
      "execution_count": null,
      "outputs": []
    },
    {
      "cell_type": "code",
      "metadata": {
        "id": "63fCRC2o9pAq"
      },
      "source": [
        ""
      ],
      "execution_count": null,
      "outputs": []
    },
    {
      "cell_type": "code",
      "metadata": {
        "id": "ubeZcANQ9pAr"
      },
      "source": [
        ""
      ],
      "execution_count": null,
      "outputs": []
    },
    {
      "cell_type": "code",
      "metadata": {
        "id": "Uuu2pP069pAr"
      },
      "source": [
        ""
      ],
      "execution_count": null,
      "outputs": []
    }
  ]
}