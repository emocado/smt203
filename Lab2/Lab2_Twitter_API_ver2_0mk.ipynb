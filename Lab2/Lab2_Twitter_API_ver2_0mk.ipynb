{
  "nbformat": 4,
  "nbformat_minor": 0,
  "metadata": {
    "colab": {
      "name": "Lab2_Twitter_API_ver2.0mk.ipynb",
      "provenance": [],
      "collapsed_sections": [],
      "toc_visible": true,
      "include_colab_link": true
    },
    "kernelspec": {
      "display_name": "Python 3",
      "language": "python",
      "name": "python3"
    },
    "language_info": {
      "codemirror_mode": {
        "name": "ipython",
        "version": 3
      },
      "file_extension": ".py",
      "mimetype": "text/x-python",
      "name": "python",
      "nbconvert_exporter": "python",
      "pygments_lexer": "ipython3",
      "version": "3.8.3"
    }
  },
  "cells": [
    {
      "cell_type": "markdown",
      "metadata": {
        "id": "view-in-github",
        "colab_type": "text"
      },
      "source": [
        "<a href=\"https://colab.research.google.com/github/michellekan/smt203/blob/main/Lab2/Lab2_Twitter_API_ver2_0mk.ipynb\" target=\"_parent\"><img src=\"https://colab.research.google.com/assets/colab-badge.svg\" alt=\"Open In Colab\"/></a>"
      ]
    },
    {
      "cell_type": "markdown",
      "metadata": {
        "id": "VKVp54FJN2Do"
      },
      "source": [
        "# Lab 2 - Twitter API (v2)\n",
        "\n",
        "In this lab, you will learn how to retrieve tweets data from Twitter by using an open source library called [Tweepy](https://docs.tweepy.org/en/latest/). Tweepy gives you a very convenient way to access the Twitter API with Python.  \n",
        "\n",
        "Also, check the official [Twitter API](https://developer.twitter.com/en/docs/twitter-api/getting-started/guide).\n",
        "\n",
        "This lab is written by Michelle KAN (michellekan@smu.edu.sg) and Jisun AN (jisunan@smu.edu.sg). \n",
        "\n",
        "Let's first install the tweepy library:<br>"
      ]
    },
    {
      "cell_type": "code",
      "metadata": {
        "id": "riNSHhDAN2Du",
        "scrolled": true
      },
      "source": [
        "## This it OPTIONAL if you are running the current notebook using Google Colab\n",
        "!pip install tweepy"
      ],
      "execution_count": null,
      "outputs": []
    },
    {
      "cell_type": "code",
      "metadata": {
        "id": "U6P4Qr8dgqlk",
        "colab": {
          "base_uri": "https://localhost:8080/"
        },
        "outputId": "fbb24a78-6366-46f8-88c2-cf5616939ef2"
      },
      "source": [
        "# The following step is optional if you are running from Jupyter Notebook\n",
        "\n",
        "# Add Google Drive as an accessible path\n",
        "from google.colab import drive\n",
        "drive.mount('/content/drive')\n",
        "\n",
        "# change path to the designated google drive folder\n",
        "# otherwise, data will be saved in /content folder which you may have issue locating\n",
        "%cd /content/drive/My Drive/Colab Notebooks/"
      ],
      "execution_count": 24,
      "outputs": [
        {
          "output_type": "stream",
          "text": [
            "Drive already mounted at /content/drive; to attempt to forcibly remount, call drive.mount(\"/content/drive\", force_remount=True).\n",
            "/content/drive/My Drive/Colab Notebooks\n"
          ],
          "name": "stdout"
        }
      ]
    },
    {
      "cell_type": "markdown",
      "metadata": {
        "id": "NnKJQw2xN2Dv"
      },
      "source": [
        "## 1) Authentication\n",
        "\n",
        "The following code imports the tweepy library and other required libraries. Twitter API uses the [tweepy.AuthHandler](https://docs.tweepy.org/en/v3.5.0/auth_tutorial.html) class for authentication. "
      ]
    },
    {
      "cell_type": "code",
      "metadata": {
        "id": "5MsX2ofHN2Dw"
      },
      "source": [
        "import tweepy\n",
        "from tweepy import OAuthHandler"
      ],
      "execution_count": 25,
      "outputs": []
    },
    {
      "cell_type": "markdown",
      "metadata": {
        "id": "fLfR_UPZN2Dw"
      },
      "source": [
        "Before using the Twitter API, you will need a Twitter account, and to have obtained Twitter API authentication credentials.<br>Set your authentication credentials below. <br>"
      ]
    },
    {
      "cell_type": "code",
      "metadata": {
        "id": "ZG3CTaj_N2Dx"
      },
      "source": [
        "# Consumer/Access key/secret/token obtained from Twitter\n",
        "# You should have created a Twitter app and gotten these keys.\n",
        "# Do NOT share your key/secret/token with other students.\n",
        "consumer_key    = '1X4O2pwAII4uuazGFnbFUmEyG'\n",
        "consumer_secret = 'lCh8cJHsSEsdoFwkHev9Yog57NOfcfe0Dck0XK5XLvbgbbkK9X'\n",
        "access_token    = '1347176054184574976-EHMScHDG6zr5KevYPcfoTi2RBejw3Z'\n",
        "access_secret   = 'QHsmsona0mBnEVqtUOUSFI4qxlNqzIvISCTpk2p89AMz6'\n"
      ],
      "execution_count": 26,
      "outputs": []
    },
    {
      "cell_type": "markdown",
      "metadata": {
        "id": "TMYJNw7KN2Dx"
      },
      "source": [
        "The following code creates an authorization object with your above authentication info and calls the Twitter's API."
      ]
    },
    {
      "cell_type": "code",
      "metadata": {
        "id": "FZBc-9SfN2Dz",
        "colab": {
          "base_uri": "https://localhost:8080/"
        },
        "outputId": "68a3bf85-314a-42ca-d360-1e3baf84a4ee"
      },
      "source": [
        "auth = OAuthHandler(consumer_key, consumer_secret)\n",
        "auth.set_access_token(access_token, access_secret)\n",
        "\n",
        "# This line finally calls Twitter's Rest API.\n",
        "api = tweepy.API(auth)\n",
        "#api = tweepy.API(auth,wait_on_rate_limit=True, wait_on_rate_limit_notify=True)\n",
        "\n",
        "# The following codes verify if the authentication is successful\n",
        "# If all goes well, you should see a message saying Authentication OK.\n",
        "# Otherwise, check your Consumer/Access key/secret/token\n",
        "try:\n",
        "    api.verify_credentials()\n",
        "    print(\"Authentication OK\")\n",
        "except Exception as e:\n",
        "    print(\"Error during authentication:\", e)\n"
      ],
      "execution_count": 27,
      "outputs": [
        {
          "output_type": "stream",
          "text": [
            "Authentication OK\n"
          ],
          "name": "stdout"
        }
      ]
    },
    {
      "cell_type": "markdown",
      "metadata": {
        "id": "Jam99XujaXu7"
      },
      "source": [
        "## 2) Types of Twitter API & Tweepy Cursor\n",
        "\n",
        "### 2-1) Twitter REST API\n",
        "\n",
        "The REST API is to pull data from Twitter. \n",
        "\n",
        "We can retrieve tweets based on query or tweets of all users using `tweepy.Cursor.` \n",
        "\n",
        "`tweepy.Cursor` method deals with the pagination -- if there's many tweets returned, it makes it easy to iterate the data.\n",
        "\n",
        "\n",
        "#### a) Search tweets using Keywords\n",
        "\n",
        "Below will return five tweets containing search words \n",
        "\n",
        "```\n",
        "search_words = 'covid'\n",
        "max_tweets = 5\n",
        "tweets = tweepy.Cursor(api.search, q=search_words, tweet_mode='extended').items(max_tweets)\n",
        "```\n",
        "\n",
        "\n",
        "#### b) Users tweets\n",
        "\n",
        "Below will return 5 tweets posted by BillGates\n",
        "\n",
        "```\n",
        "username = 'BillGates'\n",
        "max_tweets = 5\n",
        "tweets = tweepy.Cursor(api.user_timeline, id=username, tweet_mode='extended').items(max_tweets)\n",
        "```\n",
        "\n",
        "\n",
        "### 2-2) Streaming API tweets\n",
        "The Twitter streaming API is used to download twitter messages in real time. It is useful for obtaining a high volume of tweets, or for creating a live feed using a site stream or user stream. See the [Twitter Streaming API Documentation](https://developer.twitter.com/en/docs/tweets/filter-realtime/overview).\n",
        "\n",
        "```\n",
        "keyword = 'covid'\n",
        "myStream.filter(track=[keyword])\n",
        "```\n",
        "\n",
        "\n",
        "\n"
      ]
    },
    {
      "cell_type": "markdown",
      "metadata": {
        "id": "DIg2gAt3N2D1"
      },
      "source": [
        "## 3) Search Tweets\n",
        "\n",
        "Now you are ready to search Twitter for recent tweets! \n",
        "\n"
      ]
    },
    {
      "cell_type": "markdown",
      "metadata": {
        "id": "m_y2-qtBbrU4"
      },
      "source": [
        "### a) Search Tweets using Keywords\n",
        "\n",
        "\n",
        "To create this query, you will define the:\n",
        "- Search term \n",
        "- start date of your search (optional)\n",
        " \n",
        "Note: Search API returns tweets with specific search terms, posted in the last 7 days. You need a premium account for going further than 7 days.\n",
        "\n",
        "(Optional) Uncomment and run the following code snippet if you wish to enable Python logging to know what's happening underlying in the API call."
      ]
    },
    {
      "cell_type": "code",
      "metadata": {
        "id": "ocLOaD9zN2D0"
      },
      "source": [
        "# import logging\n",
        "# logging.basicConfig(level=logging.DEBUG,\n",
        "#                     format='%(asctime)s %(name)-12s %(levelname)-8s %(message)s',\n",
        "#                     datefmt='%m-%d %H:%M:%S')\n",
        "# logger = logging.getLogger(__name__)"
      ],
      "execution_count": null,
      "outputs": []
    },
    {
      "cell_type": "code",
      "metadata": {
        "id": "0Ejl9xb7PW2v"
      },
      "source": [
        "# Define the search term and the date_since date as variables\n",
        "search_words = 'covid'\n",
        "date_since = \"2021-08-29\" #if you want to collect data from yesterday\n",
        "\n",
        "max_tweets = 5"
      ],
      "execution_count": 28,
      "outputs": []
    },
    {
      "cell_type": "markdown",
      "metadata": {
        "id": "Db16LM5TN2D1"
      },
      "source": [
        "Below we use `tweepy.Cursor()` to search for tweets containing the specified search_words and perform pagination. Parameters:\n",
        "-   `api.search` – tweepy api method that returns a collection of relevant Tweets matching a specified query\n",
        "- \t`q` – the search query string of 500 characters maximum, including operators. Queries may additionally be limited by complexity.\n",
        "-   `lang` – restricts tweets to the given language\n",
        "-   `since` – returns tweet created on or after this date. Date should be formatted as YYYY-MM-DD.\n",
        "\n",
        "You can restrict the number of tweets returned by specifying a number in the `.items()` method. `.items(5)` will return 5 of the most recent tweets"
      ]
    },
    {
      "cell_type": "code",
      "metadata": {
        "id": "twLFHAVlZzPP"
      },
      "source": [
        "# Below will return five tweets containing search words \n",
        "tweets = tweepy.Cursor(api.search, q=search_words, tweet_mode='extended').items(max_tweets)\n"
      ],
      "execution_count": null,
      "outputs": []
    },
    {
      "cell_type": "code",
      "metadata": {
        "id": "-brNt50TN2D2"
      },
      "source": [
        "# You can add other parameters like lang, since, etc) \n",
        "tweets = tweepy.Cursor(api.search, q=search_words, lang=\"en\", since=date_since, tweet_mode='extended').items(max_tweets)"
      ],
      "execution_count": null,
      "outputs": []
    },
    {
      "cell_type": "markdown",
      "metadata": {
        "id": "chixNUKMN2D2"
      },
      "source": [
        "`tweets.Cursor()` returns an object `ItemIterator` that you can iterate to access the tweet data collected. Each tweet item in the iterator has various attributes including:\n",
        "\n",
        "- the text of the tweet\n",
        "- the date the tweet was sent\n",
        "- and more. \n",
        "\n",
        "The code below loops through the object and prints the text associated with each tweet."
      ]
    },
    {
      "cell_type": "code",
      "metadata": {
        "id": "Nugg_TxHo6dL",
        "colab": {
          "base_uri": "https://localhost:8080/"
        },
        "outputId": "50186741-6b8b-4496-fda9-8d2ded76a561"
      },
      "source": [
        "tweets = tweepy.Cursor(api.search, q=search_words, lang=\"en\", since=date_since, tweet_mode='extended').items(max_tweets)\n",
        "\n",
        "# Iterate tweets\n",
        "for tweet in tweets:\n",
        "    # print out user's screen name & tweet text\n",
        "    print(\"----------------------------------------------------\")\n",
        "    print ('Tweet ID ' + str(tweet.id))\n",
        "    print ('Created at ' + str(tweet.created_at))\n",
        "    \n",
        "    # Extracting tweet text when in Extended Mode\n",
        "    try: # If it's Retweet\n",
        "        text = tweet.retweeted_status.full_text\n",
        "    except AttributeError:  # Not a Retweet\n",
        "        text = tweet.full_text\n",
        "    print('\\t Tweet: ' + text)\n"
      ],
      "execution_count": 29,
      "outputs": [
        {
          "output_type": "stream",
          "text": [
            "----------------------------------------------------\n",
            "Tweet ID 1431872185715601410\n",
            "Created at 2021-08-29 06:51:46\n",
            "\t Tweet: cw // covid, death. \"It's worse than last year.\" 💔\n",
            "\n",
            "This is NOT just a pandemic of the unvaccinated. We have a second pandemic: a whole generation of healthcare workers who will suffer from severe PTSD for years, if not for life.\n",
            "\n",
            "We NEED to do something. https://t.co/VVZGaKm8cN\n",
            "----------------------------------------------------\n",
            "Tweet ID 1431872185186996224\n",
            "Created at 2021-08-29 06:51:46\n",
            "\t Tweet: 🛌🎋The 8th Infantry Regiment assembled bamboo beds for COVID-19 patients in the field hospitals in Loei Province.\n",
            "\n",
            "#RTA #HelpPeople #COVID19 \n",
            "#fieldhospital https://t.co/EtcbR8ch1y\n",
            "----------------------------------------------------\n",
            "Tweet ID 1431872183622590464\n",
            "Created at 2021-08-29 06:51:46\n",
            "\t Tweet: A sharp drop in flu cases during COVID-19 pandemic https://t.co/La4tL76aWX\n",
            "----------------------------------------------------\n",
            "Tweet ID 1431872182041268225\n",
            "Created at 2021-08-29 06:51:45\n",
            "\t Tweet: @RahulGandhi Petrol &amp; Disel hike is in international world market also &amp; as per report given by foreign countries govt &amp; due to (covid 19 pandemic &amp; lockdown/curfews etc)in india also &amp; foreign countries etc also by the their govt etc across our country &amp; worldwide\n",
            "----------------------------------------------------\n",
            "Tweet ID 1431872179898130432\n",
            "Created at 2021-08-29 06:51:45\n",
            "\t Tweet: On Aug 2nd Douglas Ross called for an end to *all* Covid restrictions in Scotland. With numbers rising this leaves him exposed. But he won't be challenged. We now expect him to change his attack line to 'slow vaccinations' and for BBC Scotland promote it.\n",
            "\n",
            "https://t.co/SfHBWmUJ9v\n"
          ],
          "name": "stdout"
        }
      ]
    },
    {
      "cell_type": "markdown",
      "metadata": {
        "id": "g-Bv1I7gN2D3"
      },
      "source": [
        "#### <img align=\"left\" src=\"https://docs.google.com/uc?id=1m3oi2yHQnNISJ5EhmWVhRsqPFao6qSU4\" width=\"50\"/><br><br>Who is Tweeting About 'covid'?\n",
        "\n",
        "You can access a wealth of information associated with each tweet. \n",
        "\n",
        "Below is an example of accessing information of users who are sending the tweets including users' screen name and their locations. Note that user locations are manually entered into Twitter by the user. Thus, you will see a lot of variation in the format of this value.\n",
        "\n",
        "- tweet.user.screen_name provides the user’s twitter handle associated with each tweet.\n",
        "- tweet.user.location provides the user’s provided location.\n",
        "\n",
        "You can try to include other items available within each tweet by checking out the [twitter developer documentation](https://developer.twitter.com/en/docs/twitter-api/v1/data-dictionary/object-model/tweet)."
      ]
    },
    {
      "cell_type": "code",
      "metadata": {
        "id": "ybY9g0hJm8n_",
        "scrolled": false,
        "colab": {
          "base_uri": "https://localhost:8080/"
        },
        "outputId": "17988dbf-f875-4ec3-e849-2d85762ec61c"
      },
      "source": [
        "tweets = tweepy.Cursor(api.search, q=search_words, lang=\"en\", since=date_since, tweet_mode='extended').items(max_tweets)\n",
        "\n",
        "for tweet in tweets:\n",
        "    print(\"----------------------------------------------------\")\n",
        "    print ('Tweet ID ' + str(tweet.id))\n",
        "    print (f'Tweeted by: @{tweet.user.screen_name} Created at: {str(tweet.created_at)} Location: {tweet.user.location}' )\n",
        "    # Extract text when in Extended Mode\n",
        "    try: # If it's Retweet\n",
        "        text = tweet.retweeted_status.full_text\n",
        "    except AttributeError:  # Not a Retweet\n",
        "        text = tweet.full_text\n",
        "    print('\\t' + text)\n",
        "    "
      ],
      "execution_count": 30,
      "outputs": [
        {
          "output_type": "stream",
          "text": [
            "----------------------------------------------------\n",
            "Tweet ID 1431872185715601410\n",
            "Tweeted by: @elPandr0soBLM Created at: 2021-08-29 06:51:46 Location: \n",
            "\tcw // covid, death. \"It's worse than last year.\" 💔\n",
            "\n",
            "This is NOT just a pandemic of the unvaccinated. We have a second pandemic: a whole generation of healthcare workers who will suffer from severe PTSD for years, if not for life.\n",
            "\n",
            "We NEED to do something. https://t.co/VVZGaKm8cN\n",
            "----------------------------------------------------\n",
            "Tweet ID 1431872185186996224\n",
            "Tweeted by: @ukrit746 Created at: 2021-08-29 06:51:46 Location: \n",
            "\t🛌🎋The 8th Infantry Regiment assembled bamboo beds for COVID-19 patients in the field hospitals in Loei Province.\n",
            "\n",
            "#RTA #HelpPeople #COVID19 \n",
            "#fieldhospital https://t.co/EtcbR8ch1y\n",
            "----------------------------------------------------\n",
            "Tweet ID 1431872183622590464\n",
            "Tweeted by: @Dems4Congress18 Created at: 2021-08-29 06:51:46 Location: California & Texas USA\n",
            "\tA sharp drop in flu cases during COVID-19 pandemic https://t.co/La4tL76aWX\n",
            "----------------------------------------------------\n",
            "Tweet ID 1431872182041268225\n",
            "Tweeted by: @SanketS44665485 Created at: 2021-08-29 06:51:45 Location: मेरठ, भारत\n",
            "\t@RahulGandhi Petrol &amp; Disel hike is in international world market also &amp; as per report given by foreign countries govt &amp; due to (covid 19 pandemic &amp; lockdown/curfews etc)in india also &amp; foreign countries etc also by the their govt etc across our country &amp; worldwide\n",
            "----------------------------------------------------\n",
            "Tweet ID 1431872179898130432\n",
            "Tweeted by: @AnEvilScotsman Created at: 2021-08-29 06:51:45 Location: Glasgow, Scotland\n",
            "\tOn Aug 2nd Douglas Ross called for an end to *all* Covid restrictions in Scotland. With numbers rising this leaves him exposed. But he won't be challenged. We now expect him to change his attack line to 'slow vaccinations' and for BBC Scotland promote it.\n",
            "\n",
            "https://t.co/SfHBWmUJ9v\n"
          ],
          "name": "stdout"
        }
      ]
    },
    {
      "cell_type": "markdown",
      "metadata": {
        "id": "GWBj4H83nf85"
      },
      "source": [
        "#### Save Tweets in a JSON format into a File\n",
        "\n",
        "\n",
        "Twitter API has limits in how many times we can call APIs to collect the data (Twitter Rate Limit). So, it's always better to save the data in the file. "
      ]
    },
    {
      "cell_type": "markdown",
      "metadata": {
        "id": "vsp2KB43qTwT"
      },
      "source": [
        "__What is JSON?__\n",
        "\n",
        "JavaScript Object Notation (JSON) is a standard text-based format for representing structured data based on JavaScript object notation syntax.\n",
        "- Data is in key-value pairs\n",
        "- Data is separated by commas\n",
        "- Curly braces hold objects\n",
        "- Square brackets hold arrays\n",
        "\n",
        "Table / Database --> Text format\n",
        "\n",
        "| id        | name           | tweet  |\n",
        "| ------------- |:-------------:| -----:|\n",
        "| 123      | Jisun | Hello |\n",
        "| 456      | Michelle      |  Welcome |\n",
        "\n",
        "JSON \n",
        "`[{'id':123, 'name':'Jisun', 'tweet':'Hello'},{'id':456, 'name':'Michelle', 'tweet':'Welcome'}]`\n",
        "\n",
        "Other examples of JSON format:<br>\n",
        "`{'code':'SMT203', 'desc':'CSS', num_of_students:46}`<br>\n",
        "`{'code':'SMT203', 'desc':'CSS', 'students':{'qty':46, 'school':'SCIS'}}`<br><br>\n",
        "\n",
        "We can use `json.dumps()` to save json objects in string format into a file, while `json.loads()` reads in a string (e.g., from a jsons file) and returns a json object.\n",
        "\n",
        "<img align=\"middle\" src=\"https://docs.google.com/uc?id=1m8uElP-ak8FeUNlhpQ6xBO_Fwx4Zitv4\" width=\"450\"/>\n",
        "\n"
      ]
    },
    {
      "cell_type": "code",
      "metadata": {
        "id": "CMzh9Dbu9pAd"
      },
      "source": [
        "import json"
      ],
      "execution_count": 31,
      "outputs": []
    },
    {
      "cell_type": "code",
      "metadata": {
        "id": "1oHn7Fgkm-e9"
      },
      "source": [
        "# set location for files to be saved\n",
        "mypath = \".\"\n",
        "\n",
        "tweets = tweepy.Cursor(api.search, q=search_words, lang=\"en\", since=date_since, tweet_mode='extended').items(max_tweets)\n",
        "# Write data into a file\n",
        "filename = f\"{mypath}/tweets_{search_words}.jsons\"\n",
        "\n",
        "with open(filename, \"w\") as output:\n",
        "    for tweet in tweets:\n",
        "        myjson = tweet._json\n",
        "        output.write(json.dumps(myjson)+\"\\n\")\n"
      ],
      "execution_count": 33,
      "outputs": []
    },
    {
      "cell_type": "markdown",
      "metadata": {
        "id": "mK6ab00Zp2G7"
      },
      "source": [
        "Read tweets from the file.\n",
        "\n",
        "Let's read the first tweet."
      ]
    },
    {
      "cell_type": "code",
      "metadata": {
        "id": "lHp8kO02p0gR"
      },
      "source": [
        "# Read data from a file\n",
        "filename = f\"{mypath}/tweets_{search_words}.jsons\"\n",
        "\n",
        "with open(filename) as fi:\n",
        "    for line_cnt, line in enumerate(fi):\n",
        "        tweet_json = json.loads(line.strip())\n",
        "        break # Break here so that we read the first line of the file\n",
        "        "
      ],
      "execution_count": 35,
      "outputs": []
    },
    {
      "cell_type": "code",
      "metadata": {
        "id": "adG1FgMGqHvB",
        "colab": {
          "base_uri": "https://localhost:8080/"
        },
        "outputId": "a12e0c2e-d1eb-4e5b-e31c-3b1a515478aa"
      },
      "source": [
        "# Print JSON formated text in pretty way\n",
        "import pprint\n",
        "\n",
        "pprint.pprint(tweet_json)"
      ],
      "execution_count": 36,
      "outputs": [
        {
          "output_type": "stream",
          "text": [
            "{'contributors': None,\n",
            " 'coordinates': None,\n",
            " 'created_at': 'Sun Aug 29 06:51:46 +0000 2021',\n",
            " 'display_text_range': [0, 140],\n",
            " 'entities': {'hashtags': [],\n",
            "              'symbols': [],\n",
            "              'urls': [],\n",
            "              'user_mentions': [{'id': 98575337,\n",
            "                                 'id_str': '98575337',\n",
            "                                 'indices': [3, 13],\n",
            "                                 'name': 'Chad Loder',\n",
            "                                 'screen_name': 'chadloder'}]},\n",
            " 'favorite_count': 0,\n",
            " 'favorited': False,\n",
            " 'full_text': 'RT @chadloder: cw // covid, death. \"It\\'s worse than last '\n",
            "              'year.\" 💔\\n'\n",
            "              '\\n'\n",
            "              'This is NOT just a pandemic of the unvaccinated. We have a '\n",
            "              'second pandem…',\n",
            " 'geo': None,\n",
            " 'id': 1431872185715601410,\n",
            " 'id_str': '1431872185715601410',\n",
            " 'in_reply_to_screen_name': None,\n",
            " 'in_reply_to_status_id': None,\n",
            " 'in_reply_to_status_id_str': None,\n",
            " 'in_reply_to_user_id': None,\n",
            " 'in_reply_to_user_id_str': None,\n",
            " 'is_quote_status': False,\n",
            " 'lang': 'en',\n",
            " 'metadata': {'iso_language_code': 'en', 'result_type': 'recent'},\n",
            " 'place': None,\n",
            " 'retweet_count': 36,\n",
            " 'retweeted': False,\n",
            " 'retweeted_status': {'contributors': None,\n",
            "                      'coordinates': None,\n",
            "                      'created_at': 'Sun Aug 29 06:34:01 +0000 2021',\n",
            "                      'display_text_range': [0, 279],\n",
            "                      'entities': {'hashtags': [],\n",
            "                                   'media': [{'display_url': 'pic.twitter.com/VVZGaKm8cN',\n",
            "                                              'expanded_url': 'https://twitter.com/cwebbonline/status/1431774976407867393/video/1',\n",
            "                                              'id': 1431774678276665347,\n",
            "                                              'id_str': '1431774678276665347',\n",
            "                                              'indices': [256, 279],\n",
            "                                              'media_url': 'http://pbs.twimg.com/ext_tw_video_thumb/1431774678276665347/pu/img/1H0vnevpErlSzMe6.jpg',\n",
            "                                              'media_url_https': 'https://pbs.twimg.com/ext_tw_video_thumb/1431774678276665347/pu/img/1H0vnevpErlSzMe6.jpg',\n",
            "                                              'sizes': {'large': {'h': 930,\n",
            "                                                                  'resize': 'fit',\n",
            "                                                                  'w': 550},\n",
            "                                                        'medium': {'h': 930,\n",
            "                                                                   'resize': 'fit',\n",
            "                                                                   'w': 550},\n",
            "                                                        'small': {'h': 680,\n",
            "                                                                  'resize': 'fit',\n",
            "                                                                  'w': 402},\n",
            "                                                        'thumb': {'h': 150,\n",
            "                                                                  'resize': 'crop',\n",
            "                                                                  'w': 150}},\n",
            "                                              'source_status_id': 1431774976407867393,\n",
            "                                              'source_status_id_str': '1431774976407867393',\n",
            "                                              'source_user_id': 399178595,\n",
            "                                              'source_user_id_str': '399178595',\n",
            "                                              'type': 'photo',\n",
            "                                              'url': 'https://t.co/VVZGaKm8cN'}],\n",
            "                                   'symbols': [],\n",
            "                                   'urls': [],\n",
            "                                   'user_mentions': []},\n",
            "                      'extended_entities': {'media': [{'additional_media_info': {'monetizable': False},\n",
            "                                                       'display_url': 'pic.twitter.com/VVZGaKm8cN',\n",
            "                                                       'expanded_url': 'https://twitter.com/cwebbonline/status/1431774976407867393/video/1',\n",
            "                                                       'id': 1431774678276665347,\n",
            "                                                       'id_str': '1431774678276665347',\n",
            "                                                       'indices': [256, 279],\n",
            "                                                       'media_url': 'http://pbs.twimg.com/ext_tw_video_thumb/1431774678276665347/pu/img/1H0vnevpErlSzMe6.jpg',\n",
            "                                                       'media_url_https': 'https://pbs.twimg.com/ext_tw_video_thumb/1431774678276665347/pu/img/1H0vnevpErlSzMe6.jpg',\n",
            "                                                       'sizes': {'large': {'h': 930,\n",
            "                                                                           'resize': 'fit',\n",
            "                                                                           'w': 550},\n",
            "                                                                 'medium': {'h': 930,\n",
            "                                                                            'resize': 'fit',\n",
            "                                                                            'w': 550},\n",
            "                                                                 'small': {'h': 680,\n",
            "                                                                           'resize': 'fit',\n",
            "                                                                           'w': 402},\n",
            "                                                                 'thumb': {'h': 150,\n",
            "                                                                           'resize': 'crop',\n",
            "                                                                           'w': 150}},\n",
            "                                                       'source_status_id': 1431774976407867393,\n",
            "                                                       'source_status_id_str': '1431774976407867393',\n",
            "                                                       'source_user_id': 399178595,\n",
            "                                                       'source_user_id_str': '399178595',\n",
            "                                                       'type': 'video',\n",
            "                                                       'url': 'https://t.co/VVZGaKm8cN',\n",
            "                                                       'video_info': {'aspect_ratio': [55,\n",
            "                                                                                       93],\n",
            "                                                                      'duration_millis': 118412,\n",
            "                                                                      'variants': [{'bitrate': 950000,\n",
            "                                                                                    'content_type': 'video/mp4',\n",
            "                                                                                    'url': 'https://video.twimg.com/ext_tw_video/1431774678276665347/pu/vid/480x810/_xMh4whUtrgUjWD7.mp4?tag=12'},\n",
            "                                                                                   {'bitrate': 2176000,\n",
            "                                                                                    'content_type': 'video/mp4',\n",
            "                                                                                    'url': 'https://video.twimg.com/ext_tw_video/1431774678276665347/pu/vid/550x930/kMw8W10p1VaAgMAG.mp4?tag=12'},\n",
            "                                                                                   {'bitrate': 632000,\n",
            "                                                                                    'content_type': 'video/mp4',\n",
            "                                                                                    'url': 'https://video.twimg.com/ext_tw_video/1431774678276665347/pu/vid/320x540/FX8R4lu29ei88wS_.mp4?tag=12'},\n",
            "                                                                                   {'content_type': 'application/x-mpegURL',\n",
            "                                                                                    'url': 'https://video.twimg.com/ext_tw_video/1431774678276665347/pu/pl/zrRiTnf0461aVxQS.m3u8?tag=12&container=fmp4'}]}}]},\n",
            "                      'favorite_count': 110,\n",
            "                      'favorited': False,\n",
            "                      'full_text': 'cw // covid, death. \"It\\'s worse than last '\n",
            "                                   'year.\" 💔\\n'\n",
            "                                   '\\n'\n",
            "                                   'This is NOT just a pandemic of the '\n",
            "                                   'unvaccinated. We have a second pandemic: a '\n",
            "                                   'whole generation of healthcare workers who '\n",
            "                                   'will suffer from severe PTSD for years, if '\n",
            "                                   'not for life.\\n'\n",
            "                                   '\\n'\n",
            "                                   'We NEED to do something. '\n",
            "                                   'https://t.co/VVZGaKm8cN',\n",
            "                      'geo': None,\n",
            "                      'id': 1431867716864921600,\n",
            "                      'id_str': '1431867716864921600',\n",
            "                      'in_reply_to_screen_name': None,\n",
            "                      'in_reply_to_status_id': None,\n",
            "                      'in_reply_to_status_id_str': None,\n",
            "                      'in_reply_to_user_id': None,\n",
            "                      'in_reply_to_user_id_str': None,\n",
            "                      'is_quote_status': False,\n",
            "                      'lang': 'en',\n",
            "                      'metadata': {'iso_language_code': 'en',\n",
            "                                   'result_type': 'recent'},\n",
            "                      'place': None,\n",
            "                      'possibly_sensitive': False,\n",
            "                      'retweet_count': 36,\n",
            "                      'retweeted': False,\n",
            "                      'source': '<a href=\"http://twitter.com/download/iphone\" '\n",
            "                                'rel=\"nofollow\">Twitter for iPhone</a>',\n",
            "                      'truncated': False,\n",
            "                      'user': {'contributors_enabled': False,\n",
            "                               'created_at': 'Tue Dec 22 07:11:56 +0000 2009',\n",
            "                               'default_profile': False,\n",
            "                               'default_profile_image': False,\n",
            "                               'description': 'I write sometimes. '\n",
            "                                              '#BlackLivesMatter #AbolishICE. '\n",
            "                                              'Pronouns: they/them',\n",
            "                               'entities': {'description': {'urls': []},\n",
            "                                            'url': {'urls': [{'display_url': 'bit.ly/free-jw',\n",
            "                                                              'expanded_url': 'https://bit.ly/free-jw',\n",
            "                                                              'indices': [0,\n",
            "                                                                          23],\n",
            "                                                              'url': 'https://t.co/VzvZRfmNyq'}]}},\n",
            "                               'favourites_count': 111222,\n",
            "                               'follow_request_sent': False,\n",
            "                               'followers_count': 102169,\n",
            "                               'following': False,\n",
            "                               'friends_count': 5250,\n",
            "                               'geo_enabled': True,\n",
            "                               'has_extended_profile': False,\n",
            "                               'id': 98575337,\n",
            "                               'id_str': '98575337',\n",
            "                               'is_translation_enabled': False,\n",
            "                               'is_translator': False,\n",
            "                               'lang': None,\n",
            "                               'listed_count': 785,\n",
            "                               'location': 'Los Angeles, CA',\n",
            "                               'name': 'Chad Loder',\n",
            "                               'notifications': False,\n",
            "                               'profile_background_color': 'C0DEED',\n",
            "                               'profile_background_image_url': 'http://abs.twimg.com/images/themes/theme1/bg.png',\n",
            "                               'profile_background_image_url_https': 'https://abs.twimg.com/images/themes/theme1/bg.png',\n",
            "                               'profile_background_tile': False,\n",
            "                               'profile_banner_url': 'https://pbs.twimg.com/profile_banners/98575337/1629952533',\n",
            "                               'profile_image_url': 'http://pbs.twimg.com/profile_images/1390734860449288193/GK2lltlb_normal.jpg',\n",
            "                               'profile_image_url_https': 'https://pbs.twimg.com/profile_images/1390734860449288193/GK2lltlb_normal.jpg',\n",
            "                               'profile_link_color': 'F0CBCA',\n",
            "                               'profile_sidebar_border_color': 'C0DEED',\n",
            "                               'profile_sidebar_fill_color': 'DDEEF6',\n",
            "                               'profile_text_color': '333333',\n",
            "                               'profile_use_background_image': True,\n",
            "                               'protected': False,\n",
            "                               'screen_name': 'chadloder',\n",
            "                               'statuses_count': 70254,\n",
            "                               'time_zone': None,\n",
            "                               'translator_type': 'none',\n",
            "                               'url': 'https://t.co/VzvZRfmNyq',\n",
            "                               'utc_offset': None,\n",
            "                               'verified': False,\n",
            "                               'withheld_in_countries': []}},\n",
            " 'source': '<a href=\"http://twitter.com/#!/download/ipad\" '\n",
            "           'rel=\"nofollow\">Twitter for iPad</a>',\n",
            " 'truncated': False,\n",
            " 'user': {'contributors_enabled': False,\n",
            "          'created_at': 'Sun Nov 04 21:33:31 +0000 2018',\n",
            "          'default_profile': True,\n",
            "          'default_profile_image': False,\n",
            "          'description': '',\n",
            "          'entities': {'description': {'urls': []}},\n",
            "          'favourites_count': 21878,\n",
            "          'follow_request_sent': False,\n",
            "          'followers_count': 29,\n",
            "          'following': False,\n",
            "          'friends_count': 2282,\n",
            "          'geo_enabled': False,\n",
            "          'has_extended_profile': False,\n",
            "          'id': 1059196970022158341,\n",
            "          'id_str': '1059196970022158341',\n",
            "          'is_translation_enabled': False,\n",
            "          'is_translator': False,\n",
            "          'lang': None,\n",
            "          'listed_count': 0,\n",
            "          'location': '',\n",
            "          'name': 'Alonzo',\n",
            "          'notifications': False,\n",
            "          'profile_background_color': 'F5F8FA',\n",
            "          'profile_background_image_url': None,\n",
            "          'profile_background_image_url_https': None,\n",
            "          'profile_background_tile': False,\n",
            "          'profile_image_url': 'http://pbs.twimg.com/profile_images/1326722041463132161/TtjamqwI_normal.jpg',\n",
            "          'profile_image_url_https': 'https://pbs.twimg.com/profile_images/1326722041463132161/TtjamqwI_normal.jpg',\n",
            "          'profile_link_color': '1DA1F2',\n",
            "          'profile_sidebar_border_color': 'C0DEED',\n",
            "          'profile_sidebar_fill_color': 'DDEEF6',\n",
            "          'profile_text_color': '333333',\n",
            "          'profile_use_background_image': True,\n",
            "          'protected': False,\n",
            "          'screen_name': 'elPandr0soBLM',\n",
            "          'statuses_count': 6206,\n",
            "          'time_zone': None,\n",
            "          'translator_type': 'none',\n",
            "          'url': None,\n",
            "          'utc_offset': None,\n",
            "          'verified': False,\n",
            "          'withheld_in_countries': []}}\n"
          ],
          "name": "stdout"
        }
      ]
    },
    {
      "cell_type": "code",
      "metadata": {
        "id": "q57bFeKOp7OX",
        "colab": {
          "base_uri": "https://localhost:8080/"
        },
        "outputId": "11a7f51b-8e10-4618-9388-69a391918544"
      },
      "source": [
        "# Check keys in json\n",
        "tweet_json.keys()"
      ],
      "execution_count": 37,
      "outputs": [
        {
          "output_type": "execute_result",
          "data": {
            "text/plain": [
              "dict_keys(['created_at', 'id', 'id_str', 'full_text', 'truncated', 'display_text_range', 'entities', 'metadata', 'source', 'in_reply_to_status_id', 'in_reply_to_status_id_str', 'in_reply_to_user_id', 'in_reply_to_user_id_str', 'in_reply_to_screen_name', 'user', 'geo', 'coordinates', 'place', 'contributors', 'retweeted_status', 'is_quote_status', 'retweet_count', 'favorite_count', 'favorited', 'retweeted', 'lang'])"
            ]
          },
          "metadata": {},
          "execution_count": 37
        }
      ]
    },
    {
      "cell_type": "code",
      "metadata": {
        "id": "-gdr9UZSq8y_",
        "colab": {
          "base_uri": "https://localhost:8080/"
        },
        "outputId": "de27027b-3718-48c7-f715-0ef2b3aae627"
      },
      "source": [
        "# How to access values in json\n",
        "print(tweet_json['id'])\n",
        "print(tweet_json['user']['name'])\n"
      ],
      "execution_count": 38,
      "outputs": [
        {
          "output_type": "stream",
          "text": [
            "1431872185715601410\n",
            "Alonzo\n"
          ],
          "name": "stdout"
        }
      ]
    },
    {
      "cell_type": "markdown",
      "metadata": {
        "id": "aQmweDFR9pAf"
      },
      "source": [
        "#### Extract data from json"
      ]
    },
    {
      "cell_type": "code",
      "metadata": {
        "id": "jHv_zg7jjord"
      },
      "source": [
        "# Read data from a file\n",
        "mypath= \".\"\n",
        "filename = f\"{mypath}/tweets_{search_words}.jsons\"\n",
        "\n",
        "with open(filename) as fi:\n",
        "    for line_cnt, line in enumerate(fi):\n",
        "        tweet = json.loads(line.strip())\n",
        "\n",
        "        tweetid = tweet['id']\n",
        "        created_at = tweet['created_at']\n",
        "\n",
        "        # Extract text from tweets in Extended Mode\n",
        "        if 'retweeted_status' in tweet: # If it's Retweet\n",
        "            text = tweet['retweeted_status']['full_text']\n",
        "        else:  # Not a Retweet\n",
        "            text = tweet['full_text']\n",
        "\n",
        "        user_screen_name = tweet['user']['screen_name']\n",
        "        user_location = tweet['user']['location']\n",
        "\n",
        "        print(\"--------------------------\")\n",
        "        print (f'Tweet ID: {tweetid}')\n",
        "        print (f'Tweeted by: @{user_screen_name}, Created at {created_at}, User Location: {user_location}' )\n",
        "        print(f'\\t {text}')\n",
        "\n",
        "        break #If you want to read other lines, comment this out\n"
      ],
      "execution_count": null,
      "outputs": []
    },
    {
      "cell_type": "markdown",
      "metadata": {
        "id": "Lk_6twn8N2D4"
      },
      "source": [
        "### Exercise 1\n",
        "\n",
        "Using the tweets retrieval code example given above, add on the following details for each tweet retrieved:\n",
        "- Number of times the Tweet has been retweeted (a retweet is when someone shares someone else’s tweet.)\n",
        "- Source/application used to post the Tweet.\n",
        "- User's name and friends count in Twitter\n",
        "\n",
        "You may take reference to the [twitter developer documentation](https://developer.twitter.com/en/docs/twitter-api/v1/data-dictionary/object-model/tweet). \n",
        "\n",
        "An example of the expected tweet output is given as follows: the tweet has been retweeted 21 times, the tweet has been posted using 'Twitter for Android' and user 'Cotonete' has 82 friends in Twitter:<br>\n",
        "<img align=\"center\" src='https://drive.google.com/uc?export=view&id=1WHGR9Q9ou4_w_zMhioEfVyhV1VxYNenk' style=\"height: 110px;\">\n",
        "\n",
        "As shown above there could be two ways to get this done. You can use Tweepy API or you can use the saved file. \n",
        "\n",
        "Try both!\n"
      ]
    },
    {
      "cell_type": "code",
      "metadata": {
        "id": "9a8JQZPPN2D4",
        "colab": {
          "base_uri": "https://localhost:8080/"
        },
        "outputId": "19608530-5994-4526-d0bb-e4db52d5b3c8"
      },
      "source": [
        "## Enter your code below using Tweepy API\n",
        "\n",
        "tweets = tweepy.Cursor(api.search, q=search_words, lang=\"en\", since=date_since, tweet_mode='extended').items(max_tweets)\n",
        "\n",
        "# Iterate tweets\n",
        "for tweet in tweets:\n",
        "    # print out user's screen name & tweet text\n",
        "    print(\"--------------------------\")    \n",
        "    print (f'Tweeted by: @{tweet.user.screen_name} Created at: {str(tweet.created_at)} Location: {tweet.user.location}' )\n",
        "    # Extract text when in Extended Mode\n",
        "    try: # If it's Retweet\n",
        "        text = tweet.retweeted_status.full_text\n",
        "    except AttributeError:  # Not a Retweet\n",
        "        text = tweet.full_text\n",
        "    print('\\t' + text)\n",
        "    \n",
        "    print(f'Retweeted: {tweet.retweet_count}times')\n",
        "    print(f'Posted using: {tweet.source}')\n",
        "    print(f'{tweet.user.screen_name} has {tweet.user.friends_count} friends')\n"
      ],
      "execution_count": 39,
      "outputs": [
        {
          "output_type": "stream",
          "text": [
            "--------------------------\n",
            "Tweeted by: @SusanJi25561557 Created at: 2021-08-29 06:57:13 Location: \n",
            "\tA friend who works for a large corporation in Charlotte, NC, told me \"thousands\" of employees are refusing to take the COVID-19 vaccine based on \"religious exemptions.\" The religious reason? \"My body is a temple, and I'm not taking the mark of the beast\" (her words). 😖\n",
            "Retweeted: 994times\n",
            "Posted using: Twitter for iPhone\n",
            "SusanJi25561557 has 3287 friends\n",
            "--------------------------\n",
            "Tweeted by: @ZeljkoKisa Created at: 2021-08-29 06:57:13 Location: Belgrade, Serbia\n",
            "\tAustralia's COVID-19 cases hit new record as 'reopening' debate heats up https://t.co/l8BRc3S90R\n",
            "Retweeted: 0times\n",
            "Posted using: Twitter for Android\n",
            "ZeljkoKisa has 7504 friends\n",
            "--------------------------\n",
            "Tweeted by: @Dedanimabhunu2 Created at: 2021-08-29 06:57:13 Location: \n",
            "\t@_amandzing Covid is a propaganda to justify experimenting on humanity. https://t.co/v1Y67lfDjh\n",
            "Retweeted: 0times\n",
            "Posted using: Twitter for iPhone\n",
            "Dedanimabhunu2 has 104 friends\n",
            "--------------------------\n",
            "Tweeted by: @CollProff Created at: 2021-08-29 06:57:12 Location: KwaZulu-Natal South Africa\n",
            "\tCollating local press I pulled this week about people taking horse/cow meds that pro-Trump groups, conservative media, and Facebook groups are shilling as a quack COVID cure or vaccine alternative.\n",
            "\n",
            "Surprised by the sheer number of states where this has had to be page one news. https://t.co/GSsbp7IB2r\n",
            "Retweeted: 1244times\n",
            "Posted using: Twitter for iPhone\n",
            "CollProff has 1578 friends\n",
            "--------------------------\n",
            "Tweeted by: @couchycraig Created at: 2021-08-29 06:57:12 Location: Australia\n",
            "\tWhen an indepdent drug assessment centre finds that all four COVID-19 vaccines should be withdrawn immediately as they are experimental with poor quality control, 6 days ahead of a vote by MEPs on a vaccine pass, those MEPs need to be put on notice. \n",
            "\n",
            "https://t.co/1lZRM30fHL https://t.co/yTYSLLbYhw https://t.co/OwG8DHPNHW\n",
            "Retweeted: 1933times\n",
            "Posted using: Twitter Web App\n",
            "couchycraig has 3821 friends\n"
          ],
          "name": "stdout"
        }
      ]
    },
    {
      "cell_type": "code",
      "metadata": {
        "id": "eGHKW63LwYqX",
        "colab": {
          "base_uri": "https://localhost:8080/"
        },
        "outputId": "d0bf3ba3-d60b-417c-ff30-6837884d7509"
      },
      "source": [
        "## Enter your code below using the saved file\n",
        "mypath= \".\"\n",
        "filename = f\"{mypath}/tweets_{search_words}.jsons\"\n",
        "\n",
        "with open(filename) as fi:\n",
        "    for line_cnt, line in enumerate(fi):\n",
        "        tweet = json.loads(line.strip())\n",
        "\n",
        "        tweetid = tweet['id']\n",
        "        created_at = tweet['created_at']\n",
        "\n",
        "        # Extract text from tweets in Extended Mode\n",
        "        if 'retweeted_status' in tweet: # If it's Retweet\n",
        "            text = tweet['retweeted_status']['full_text']\n",
        "        else:  # Not a Retweet\n",
        "            text = tweet['full_text']\n",
        "\n",
        "        user_screen_name = tweet['user']['screen_name']\n",
        "        user_location = tweet['user']['location']\n",
        "\n",
        "        friends_count = tweet['user']['friends_count']\n",
        "        source = tweet['source']\n",
        "        retweet_count = tweet['retweet_count']\n",
        "\n",
        "        print(\"--------------------------\")\n",
        "        print (f'Tweet ID: {tweetid}')\n",
        "        print (f'Tweeted by: @{user_screen_name}, Created at {created_at}, Location: {user_location}' )\n",
        "        print(f'\\t {text}')\n",
        "        print(f'Retweeted: {retweet_count}times')\n",
        "        print(f'Posted using: {source}')\n",
        "        print(f'{user_screen_name} has {friends_count} friends')\n",
        "\n",
        "        break #If you want to read other lines, comment this out\n"
      ],
      "execution_count": 40,
      "outputs": [
        {
          "output_type": "stream",
          "text": [
            "--------------------------\n",
            "Tweet ID: 1431872185715601410\n",
            "Tweeted by: @elPandr0soBLM, Created at Sun Aug 29 06:51:46 +0000 2021, Location: \n",
            "\t cw // covid, death. \"It's worse than last year.\" 💔\n",
            "\n",
            "This is NOT just a pandemic of the unvaccinated. We have a second pandemic: a whole generation of healthcare workers who will suffer from severe PTSD for years, if not for life.\n",
            "\n",
            "We NEED to do something. https://t.co/VVZGaKm8cN\n",
            "Retweeted: 36times\n",
            "Posted using: <a href=\"http://twitter.com/#!/download/ipad\" rel=\"nofollow\">Twitter for iPad</a>\n",
            "elPandr0soBLM has 2282 friends\n"
          ],
          "name": "stdout"
        }
      ]
    },
    {
      "cell_type": "markdown",
      "metadata": {
        "id": "1WcJviiCN2D5"
      },
      "source": [
        "#### Removing Retweets\n",
        "\n",
        "In the above example, some of the tweets retrieved may contain prefix 'RT' which means they are retweets. A retweet is when someone shares someone else’s tweet. It is similar to sharing in Facebook. Sometimes you may want to remove retweets as they contain duplicate content that might skew your analysis if you are only looking at word frequency. Other times, you may want to keep retweets.\n",
        "\n",
        "Below you ignore all retweets by adding `-filter:retweets` to your query. You may wish to check out the [Twitter API](https://docs.tweepy.org/en/latest/api.html) documentation on other ways to customize your queries"
      ]
    },
    {
      "cell_type": "code",
      "metadata": {
        "id": "j5C8b-izN2D5",
        "scrolled": false
      },
      "source": [
        "new_search = search_words + \" -filter:retweets\" \n",
        "# new_search has the value \"clean energy -filter:retweets\"\n",
        "\n",
        "tweets = tweepy.Cursor(api.search,q=new_search, lang=\"en\",since=date_since).items(8)\n",
        "\n",
        "for tweet in tweets:\n",
        "    print(\"----------------------------------------------------\")\n",
        "    print (f'Tweeted by: @{tweet.user.screen_name} Created at: {str(tweet.created_at)} Location: {tweet.user.location}' )\n",
        "    print(f'\\tText: {tweet.text}')\n",
        "    "
      ],
      "execution_count": null,
      "outputs": []
    },
    {
      "cell_type": "markdown",
      "metadata": {
        "id": "M76tDLKeN2D5"
      },
      "source": [
        "### Create a Pandas Dataframe From A List of Tweet Data\n",
        "\n",
        "Instead of displaying on screen, you can also populate a pandas dataframe using tweets data retrieved.\n",
        "\n",
        "[Pandas](https://pandas.pydata.org/) are widely used libraries to support handling tabular data. \n",
        "I can say that pandas is the defacto standard libarary.\n",
        "Let's import pandas.\n",
        "\n",
        "As typing 'pandas' is hard (...), in most cases, pandas is imported like below:"
      ]
    },
    {
      "cell_type": "code",
      "metadata": {
        "id": "p2DGXbMKPW24"
      },
      "source": [
        "import pandas as pd"
      ],
      "execution_count": 43,
      "outputs": []
    },
    {
      "cell_type": "markdown",
      "metadata": {
        "id": "o7gabRHePW24"
      },
      "source": [
        "Then, you can create pandas data frame from collected data.\n",
        "\n",
        "You first append your data as a list, then conver it to dataframe.\n",
        "\n",
        "You can imagine that the dataframe is a table. "
      ]
    },
    {
      "cell_type": "code",
      "metadata": {
        "id": "oPZl5GzYN2D6",
        "colab": {
          "base_uri": "https://localhost:8080/",
          "height": 297
        },
        "outputId": "57f94d38-a2d8-49b0-8eca-812a57f2028c"
      },
      "source": [
        "# setting parameters and retrieving tweets\n",
        "new_search = search_words + \" -filter:retweets\" \n",
        "tweets = tweepy.Cursor(api.search,q=new_search, lang=\"en\",since=date_since,tweet_mode='extended').items(8)\n",
        "\n",
        "## initialise list to be used to store tweets retrieved\n",
        "tweets_list = []\n",
        "\n",
        "## appending tweets retrieved into a list\n",
        "for tweet in tweets:\n",
        "    \n",
        "    try: # If it's Retweet\n",
        "        text = tweet.retweeted_status.full_text\n",
        "    except AttributeError:  # Not a Retweet\n",
        "        text = tweet.full_text\n",
        "\n",
        "    tweets_list.append([tweet.user.screen_name, tweet.created_at, tweet.user.location, text])\n",
        "\n",
        "# populate dataframe with list of tweets\n",
        "tweet_df = pd.DataFrame(data=tweets_list, columns=['user','created_at','location','text'])\n",
        "tweet_df"
      ],
      "execution_count": 44,
      "outputs": [
        {
          "output_type": "execute_result",
          "data": {
            "text/html": [
              "<div>\n",
              "<style scoped>\n",
              "    .dataframe tbody tr th:only-of-type {\n",
              "        vertical-align: middle;\n",
              "    }\n",
              "\n",
              "    .dataframe tbody tr th {\n",
              "        vertical-align: top;\n",
              "    }\n",
              "\n",
              "    .dataframe thead th {\n",
              "        text-align: right;\n",
              "    }\n",
              "</style>\n",
              "<table border=\"1\" class=\"dataframe\">\n",
              "  <thead>\n",
              "    <tr style=\"text-align: right;\">\n",
              "      <th></th>\n",
              "      <th>user</th>\n",
              "      <th>created_at</th>\n",
              "      <th>location</th>\n",
              "      <th>text</th>\n",
              "    </tr>\n",
              "  </thead>\n",
              "  <tbody>\n",
              "    <tr>\n",
              "      <th>0</th>\n",
              "      <td>ChanderSJoshi</td>\n",
              "      <td>2021-08-29 06:59:34</td>\n",
              "      <td>New Delhi, India</td>\n",
              "      <td>Important Decision by Delhi Govt for those chi...</td>\n",
              "    </tr>\n",
              "    <tr>\n",
              "      <th>1</th>\n",
              "      <td>KB_Bulletin</td>\n",
              "      <td>2021-08-29 06:59:33</td>\n",
              "      <td>Jammu And Kashmir</td>\n",
              "      <td>#Kerala logs nearly 1.5 lakh #Covid-19 cases i...</td>\n",
              "    </tr>\n",
              "    <tr>\n",
              "      <th>2</th>\n",
              "      <td>DoubleK2628</td>\n",
              "      <td>2021-08-29 06:59:32</td>\n",
              "      <td>United States</td>\n",
              "      <td>Dr Zaw Myint Maung, a prime minister of Mandal...</td>\n",
              "    </tr>\n",
              "    <tr>\n",
              "      <th>3</th>\n",
              "      <td>5Eyes_insider</td>\n",
              "      <td>2021-08-29 06:59:32</td>\n",
              "      <td></td>\n",
              "      <td>@LaborIsTrash @FeralFox3 Your comment\\n\\n'some...</td>\n",
              "    </tr>\n",
              "    <tr>\n",
              "      <th>4</th>\n",
              "      <td>j17352671</td>\n",
              "      <td>2021-08-29 06:59:31</td>\n",
              "      <td>Thailand</td>\n",
              "      <td>Dr Zaw Myint Maung, a prime minister of Mandal...</td>\n",
              "    </tr>\n",
              "    <tr>\n",
              "      <th>5</th>\n",
              "      <td>Chaw_C_K</td>\n",
              "      <td>2021-08-29 06:59:31</td>\n",
              "      <td>Myanmar</td>\n",
              "      <td>Dr Zaw Myint Maung, a prime minister of Mandal...</td>\n",
              "    </tr>\n",
              "    <tr>\n",
              "      <th>6</th>\n",
              "      <td>ianm3631</td>\n",
              "      <td>2021-08-29 06:59:30</td>\n",
              "      <td>Shepparton, Victoria, Aust.</td>\n",
              "      <td>@EmmaKealyMP Yep, lockdown is undesirable, but...</td>\n",
              "    </tr>\n",
              "    <tr>\n",
              "      <th>7</th>\n",
              "      <td>JosePena33</td>\n",
              "      <td>2021-08-29 06:59:30</td>\n",
              "      <td>Las Vegas, NV</td>\n",
              "      <td>@RonFilipkowski also why would you even bash a...</td>\n",
              "    </tr>\n",
              "  </tbody>\n",
              "</table>\n",
              "</div>"
            ],
            "text/plain": [
              "            user  ...                                               text\n",
              "0  ChanderSJoshi  ...  Important Decision by Delhi Govt for those chi...\n",
              "1    KB_Bulletin  ...  #Kerala logs nearly 1.5 lakh #Covid-19 cases i...\n",
              "2    DoubleK2628  ...  Dr Zaw Myint Maung, a prime minister of Mandal...\n",
              "3  5Eyes_insider  ...  @LaborIsTrash @FeralFox3 Your comment\\n\\n'some...\n",
              "4      j17352671  ...  Dr Zaw Myint Maung, a prime minister of Mandal...\n",
              "5       Chaw_C_K  ...  Dr Zaw Myint Maung, a prime minister of Mandal...\n",
              "6       ianm3631  ...  @EmmaKealyMP Yep, lockdown is undesirable, but...\n",
              "7     JosePena33  ...  @RonFilipkowski also why would you even bash a...\n",
              "\n",
              "[8 rows x 4 columns]"
            ]
          },
          "metadata": {},
          "execution_count": 44
        }
      ]
    },
    {
      "cell_type": "code",
      "metadata": {
        "id": "9BRZaiiLN2D6"
      },
      "source": [
        "## save the data into a csv file\n",
        "mypath= \".\"\n",
        "tweet_df.to_csv(f'{mypath}/covid_tweet.csv', index=False)"
      ],
      "execution_count": 45,
      "outputs": []
    },
    {
      "cell_type": "markdown",
      "metadata": {
        "id": "eEOMgZPPPW25"
      },
      "source": [
        "### Pandas basic \n",
        "\n",
        "(You can skip this sub-section if you are already familiar with Pandas.) \n",
        "\n",
        "Let's read csv file using pandas. "
      ]
    },
    {
      "cell_type": "code",
      "metadata": {
        "id": "srDKXyeXPW25",
        "colab": {
          "base_uri": "https://localhost:8080/",
          "height": 204
        },
        "outputId": "67e6f96b-ddf9-4ce8-aa58-b71e8cfb658e"
      },
      "source": [
        "## By default, read_csv() function assumes that the separator as ','. Thus, we can omit it as well. \n",
        "\n",
        "df = pd.read_csv(f'{mypath}/covid_tweet.csv', sep=',')\n",
        "df.head(n=5)"
      ],
      "execution_count": 48,
      "outputs": [
        {
          "output_type": "execute_result",
          "data": {
            "text/html": [
              "<div>\n",
              "<style scoped>\n",
              "    .dataframe tbody tr th:only-of-type {\n",
              "        vertical-align: middle;\n",
              "    }\n",
              "\n",
              "    .dataframe tbody tr th {\n",
              "        vertical-align: top;\n",
              "    }\n",
              "\n",
              "    .dataframe thead th {\n",
              "        text-align: right;\n",
              "    }\n",
              "</style>\n",
              "<table border=\"1\" class=\"dataframe\">\n",
              "  <thead>\n",
              "    <tr style=\"text-align: right;\">\n",
              "      <th></th>\n",
              "      <th>user</th>\n",
              "      <th>created_at</th>\n",
              "      <th>location</th>\n",
              "      <th>text</th>\n",
              "    </tr>\n",
              "  </thead>\n",
              "  <tbody>\n",
              "    <tr>\n",
              "      <th>0</th>\n",
              "      <td>ChanderSJoshi</td>\n",
              "      <td>2021-08-29 06:59:34</td>\n",
              "      <td>New Delhi, India</td>\n",
              "      <td>Important Decision by Delhi Govt for those chi...</td>\n",
              "    </tr>\n",
              "    <tr>\n",
              "      <th>1</th>\n",
              "      <td>KB_Bulletin</td>\n",
              "      <td>2021-08-29 06:59:33</td>\n",
              "      <td>Jammu And Kashmir</td>\n",
              "      <td>#Kerala logs nearly 1.5 lakh #Covid-19 cases i...</td>\n",
              "    </tr>\n",
              "    <tr>\n",
              "      <th>2</th>\n",
              "      <td>DoubleK2628</td>\n",
              "      <td>2021-08-29 06:59:32</td>\n",
              "      <td>United States</td>\n",
              "      <td>Dr Zaw Myint Maung, a prime minister of Mandal...</td>\n",
              "    </tr>\n",
              "    <tr>\n",
              "      <th>3</th>\n",
              "      <td>5Eyes_insider</td>\n",
              "      <td>2021-08-29 06:59:32</td>\n",
              "      <td>NaN</td>\n",
              "      <td>@LaborIsTrash @FeralFox3 Your comment\\n\\n'some...</td>\n",
              "    </tr>\n",
              "    <tr>\n",
              "      <th>4</th>\n",
              "      <td>j17352671</td>\n",
              "      <td>2021-08-29 06:59:31</td>\n",
              "      <td>Thailand</td>\n",
              "      <td>Dr Zaw Myint Maung, a prime minister of Mandal...</td>\n",
              "    </tr>\n",
              "  </tbody>\n",
              "</table>\n",
              "</div>"
            ],
            "text/plain": [
              "            user  ...                                               text\n",
              "0  ChanderSJoshi  ...  Important Decision by Delhi Govt for those chi...\n",
              "1    KB_Bulletin  ...  #Kerala logs nearly 1.5 lakh #Covid-19 cases i...\n",
              "2    DoubleK2628  ...  Dr Zaw Myint Maung, a prime minister of Mandal...\n",
              "3  5Eyes_insider  ...  @LaborIsTrash @FeralFox3 Your comment\\n\\n'some...\n",
              "4      j17352671  ...  Dr Zaw Myint Maung, a prime minister of Mandal...\n",
              "\n",
              "[5 rows x 4 columns]"
            ]
          },
          "metadata": {},
          "execution_count": 48
        }
      ]
    },
    {
      "cell_type": "markdown",
      "metadata": {
        "id": "_ifegmrRPW25"
      },
      "source": [
        "You can also see the n rows from the bottom by tail()."
      ]
    },
    {
      "cell_type": "code",
      "metadata": {
        "id": "HQbfSuFxPW25",
        "colab": {
          "base_uri": "https://localhost:8080/",
          "height": 204
        },
        "outputId": "0fc31314-0b9d-44ab-8c14-a078564a7a8f"
      },
      "source": [
        "df.tail(n=5)"
      ],
      "execution_count": 49,
      "outputs": [
        {
          "output_type": "execute_result",
          "data": {
            "text/html": [
              "<div>\n",
              "<style scoped>\n",
              "    .dataframe tbody tr th:only-of-type {\n",
              "        vertical-align: middle;\n",
              "    }\n",
              "\n",
              "    .dataframe tbody tr th {\n",
              "        vertical-align: top;\n",
              "    }\n",
              "\n",
              "    .dataframe thead th {\n",
              "        text-align: right;\n",
              "    }\n",
              "</style>\n",
              "<table border=\"1\" class=\"dataframe\">\n",
              "  <thead>\n",
              "    <tr style=\"text-align: right;\">\n",
              "      <th></th>\n",
              "      <th>user</th>\n",
              "      <th>created_at</th>\n",
              "      <th>location</th>\n",
              "      <th>text</th>\n",
              "    </tr>\n",
              "  </thead>\n",
              "  <tbody>\n",
              "    <tr>\n",
              "      <th>3</th>\n",
              "      <td>5Eyes_insider</td>\n",
              "      <td>2021-08-29 06:59:32</td>\n",
              "      <td>NaN</td>\n",
              "      <td>@LaborIsTrash @FeralFox3 Your comment\\n\\n'some...</td>\n",
              "    </tr>\n",
              "    <tr>\n",
              "      <th>4</th>\n",
              "      <td>j17352671</td>\n",
              "      <td>2021-08-29 06:59:31</td>\n",
              "      <td>Thailand</td>\n",
              "      <td>Dr Zaw Myint Maung, a prime minister of Mandal...</td>\n",
              "    </tr>\n",
              "    <tr>\n",
              "      <th>5</th>\n",
              "      <td>Chaw_C_K</td>\n",
              "      <td>2021-08-29 06:59:31</td>\n",
              "      <td>Myanmar</td>\n",
              "      <td>Dr Zaw Myint Maung, a prime minister of Mandal...</td>\n",
              "    </tr>\n",
              "    <tr>\n",
              "      <th>6</th>\n",
              "      <td>ianm3631</td>\n",
              "      <td>2021-08-29 06:59:30</td>\n",
              "      <td>Shepparton, Victoria, Aust.</td>\n",
              "      <td>@EmmaKealyMP Yep, lockdown is undesirable, but...</td>\n",
              "    </tr>\n",
              "    <tr>\n",
              "      <th>7</th>\n",
              "      <td>JosePena33</td>\n",
              "      <td>2021-08-29 06:59:30</td>\n",
              "      <td>Las Vegas, NV</td>\n",
              "      <td>@RonFilipkowski also why would you even bash a...</td>\n",
              "    </tr>\n",
              "  </tbody>\n",
              "</table>\n",
              "</div>"
            ],
            "text/plain": [
              "            user  ...                                               text\n",
              "3  5Eyes_insider  ...  @LaborIsTrash @FeralFox3 Your comment\\n\\n'some...\n",
              "4      j17352671  ...  Dr Zaw Myint Maung, a prime minister of Mandal...\n",
              "5       Chaw_C_K  ...  Dr Zaw Myint Maung, a prime minister of Mandal...\n",
              "6       ianm3631  ...  @EmmaKealyMP Yep, lockdown is undesirable, but...\n",
              "7     JosePena33  ...  @RonFilipkowski also why would you even bash a...\n",
              "\n",
              "[5 rows x 4 columns]"
            ]
          },
          "metadata": {},
          "execution_count": 49
        }
      ]
    },
    {
      "cell_type": "markdown",
      "metadata": {
        "id": "QHPwFEk9PW25"
      },
      "source": [
        "You can check the number of rows and columns by .shape\n"
      ]
    },
    {
      "cell_type": "code",
      "metadata": {
        "id": "STEFYfXzPW25",
        "colab": {
          "base_uri": "https://localhost:8080/"
        },
        "outputId": "3ea2d16e-81e1-4958-ad99-def764878026"
      },
      "source": [
        "df.shape"
      ],
      "execution_count": 50,
      "outputs": [
        {
          "output_type": "execute_result",
          "data": {
            "text/plain": [
              "(8, 4)"
            ]
          },
          "metadata": {},
          "execution_count": 50
        }
      ]
    },
    {
      "cell_type": "code",
      "metadata": {
        "id": "rAZUvpVAPW26",
        "colab": {
          "base_uri": "https://localhost:8080/"
        },
        "outputId": "fe2ebc49-5c19-43e5-fde8-6f34d34d2e93"
      },
      "source": [
        "## below if how you can access the values of df.shape \n",
        "print (f'{df.shape[0]} rows and {df.shape[1]} columns')"
      ],
      "execution_count": 51,
      "outputs": [
        {
          "output_type": "stream",
          "text": [
            "8 rows and 4 columns\n"
          ],
          "name": "stdout"
        }
      ]
    },
    {
      "cell_type": "markdown",
      "metadata": {
        "id": "qOFF8s0kPW26"
      },
      "source": [
        "We will work with pandas more later in this lab."
      ]
    },
    {
      "cell_type": "markdown",
      "metadata": {
        "id": "EyMvH1JoN2D7"
      },
      "source": [
        "### b) Search Tweets by Specific User\n",
        "\n",
        "Besides keyword, we can also retrieve tweets posted by specific Twitter user. \n",
        "\n",
        "Parameters:\n",
        "-   `api.user_timeline` – tweepy api method that returns the most recent statuses (up to 20) posted from the user specified.\n",
        "-   `id` – unique user ID or screen name of a user\n",
        "-   `lang` – restricts tweets to the given language\n",
        "-   `include_rts` – boolean indicator to specify whether to include retweets\n",
        "-   `exclude_replies` – boolean indicator to specify whether to exclude tweet replies\n",
        "\n",
        "Similarly, you can restrict the number of tweets returned by specifying a number in the `.items()` method. `.items(10)` will return 10 of the most recent tweets.\n",
        "\n",
        "Let's look at the following example that retrieves tweets posted by UK Model World Health Organization. "
      ]
    },
    {
      "cell_type": "code",
      "metadata": {
        "id": "vKw8Kp68N2D7"
      },
      "source": [
        "import pandas as pd\n",
        "\n",
        "user_id = \"UKModelWHO\"\n",
        "\n",
        "## initialise list to be used to store tweets retrieved\n",
        "tweets_list = []\n",
        "\n",
        "## appending tweets retrieved into a list\n",
        "for tweet in tweepy.Cursor(api.user_timeline, id=user_id ,lang=\"en\", include_rts=False, exclude_replies=True, tweet_mode='extended').items(10):\n",
        "    try: # If it's Retweet\n",
        "        text = tweet.retweeted_status.full_text\n",
        "    except AttributeError:  # Not a Retweet\n",
        "        text = tweet.full_text\n",
        "#     print(f'Retweeted: {tweet.retweet_count}times')\n",
        "    tweets_list.append([tweet.user.screen_name, tweet.id, tweet.created_at, tweet.retweet_count, text])\n",
        "\n",
        "# populate dataframe with list of tweets specifying required column names\n",
        "tweet_df = pd.DataFrame(data=tweets_list, columns=['user','tweetid','created_at', 'retweet_count', 'text'])\n",
        "tweet_df\n",
        "\n"
      ],
      "execution_count": null,
      "outputs": []
    },
    {
      "cell_type": "code",
      "metadata": {
        "id": "T63PtWjEN2D8"
      },
      "source": [
        "## save the data into a csv file\n",
        "tweet_df.to_csv('ukmodelwho_tweet.csv')"
      ],
      "execution_count": null,
      "outputs": []
    },
    {
      "cell_type": "markdown",
      "metadata": {
        "id": "nHp2Hm9L9pAi"
      },
      "source": [
        "You can save tweets in their original json format"
      ]
    },
    {
      "cell_type": "code",
      "metadata": {
        "id": "1KHQF3C-N2D8"
      },
      "source": [
        "user_id = \"UKModelWHO\"\n",
        "\n",
        "tweets = tweepy.Cursor(api.user_timeline, id=user_id ,lang=\"en\", include_rts=False, exclude_replies=True, tweet_mode='extended').items(10)\n",
        "\n",
        "filename = f\"{mypath}/tweets_{user_id}.jsons\"\n",
        "with open(filename, \"w\") as output:\n",
        "    for tweet in tweets:\n",
        "        myjson = tweet._json\n",
        "        output.write(json.dumps(myjson)+\"\\n\")\n"
      ],
      "execution_count": null,
      "outputs": []
    },
    {
      "cell_type": "markdown",
      "metadata": {
        "id": "-2PhlHoa9pAi"
      },
      "source": [
        "Create dataframe from json files"
      ]
    },
    {
      "cell_type": "code",
      "metadata": {
        "id": "VGPEq6mejE7R"
      },
      "source": [
        "tweets_list = []\n",
        "\n",
        "filename = f\"{mypath}/tweets_{user_id}.jsons\"\n",
        "with open(filename) as fi:\n",
        "    for line_cnt, line in enumerate(fi):\n",
        "\n",
        "        tweet = json.loads(line.strip())\n",
        "\n",
        "        tweetid = tweet['id']\n",
        "        created_at = tweet['created_at']\n",
        "        \n",
        "        retweet_count = tweet['retweet_count']\n",
        "        # # # Extended Mode\n",
        "        if 'retweeted_status' in tweet: # If it's Retweet\n",
        "            text = tweet['retweeted_status']['full_text']\n",
        "        else:  # Not a Retweet\n",
        "            text = tweet['full_text']\n",
        "\n",
        "            \n",
        "        user_screen_name = tweet['user']['screen_name']\n",
        "\n",
        "        tweets_list.append([user_screen_name, tweetid, created_at, retweet_count, text])\n",
        "\n",
        "# populate dataframe with list of tweets specifying required column names\n",
        "tweet_df = pd.DataFrame(data=tweets_list, columns=['user','tweetid', 'created_at', 'retweet_count', 'text'])\n",
        "tweet_df\n",
        "\n",
        "    "
      ],
      "execution_count": null,
      "outputs": []
    },
    {
      "cell_type": "code",
      "metadata": {
        "id": "mN2KUSCKPW28"
      },
      "source": [
        "## save the data into a tsv file (tab-separated)\n",
        "tweet_df.to_csv('ukmodelwho_tweet_simple_2.csv')\n"
      ],
      "execution_count": null,
      "outputs": []
    },
    {
      "cell_type": "markdown",
      "metadata": {
        "id": "MS2InjZfjFea"
      },
      "source": [
        "#### Find the top three rows with highest retweet_count"
      ]
    },
    {
      "cell_type": "code",
      "metadata": {
        "id": "JBE07Q8KPW2-"
      },
      "source": [
        "df1 = tweet_df.sort_values('retweet_count',ascending = False).head(3)\n",
        "df1"
      ],
      "execution_count": null,
      "outputs": []
    },
    {
      "cell_type": "markdown",
      "metadata": {
        "id": "NZVTEDi5PW2-"
      },
      "source": [
        "#### Filter out rows that have more than 2 retweet_count\n",
        "\n",
        "You can filter dataframe by query(). See the official API from https://pandas.pydata.org/pandas-docs/stable/reference/api/pandas.DataFrame.query.html\n"
      ]
    },
    {
      "cell_type": "code",
      "metadata": {
        "id": "Q5ZQXygKPW2_"
      },
      "source": [
        "# Let's see how many rows the current dataframe has \n",
        "tweet_df.shape"
      ],
      "execution_count": null,
      "outputs": []
    },
    {
      "cell_type": "code",
      "metadata": {
        "id": "Fa0KZ8zIPW2_"
      },
      "source": [
        "rt_tweet_df = tweet_df.query('retweet_count >= 2')\n",
        "print(rt_tweet_df.shape) # only half of the tweets have more than 2 retweet counts! (the value might be different to your case)\n",
        "rt_tweet_df"
      ],
      "execution_count": null,
      "outputs": []
    },
    {
      "cell_type": "markdown",
      "metadata": {
        "id": "6j9VR8zHPW2_"
      },
      "source": [
        "### Exercise 2\n",
        "\n",
        "Can you find the tweets with the highest favorites (likes)? \n",
        "\n",
        "Step 1: from JSON file, extract number of favorites of the tweet and add it to your dataframe.\n",
        "Step 2: Sort the rows based on likes and print the top 3. \n"
      ]
    },
    {
      "cell_type": "code",
      "metadata": {
        "id": "cEEZZY6iPW2_"
      },
      "source": [
        "tweets_list = []\n",
        "\n",
        "filename = f\"{mypath}/tweets_{user_id}.jsons\"\n",
        "with open(filename) as fi:\n",
        "    for line_cnt, line in enumerate(fi):\n",
        "        tweet = json.loads(line)\n",
        "\n",
        "        tweet = json.loads(line.strip())\n",
        "\n",
        "        tweetid = tweet['id']\n",
        "        created_at = tweet['created_at']\n",
        "        \n",
        "        favorite_count = tweet['favorite_count']\n",
        "        # # # Extended Mode\n",
        "        if 'retweeted_status' in tweet: # If it's Retweet\n",
        "            text = tweet['retweeted_status']['full_text']\n",
        "        else:  # Not a Retweet\n",
        "            text = tweet['full_text']\n",
        "\n",
        "        user_screen_name = tweet['user']['screen_name']\n",
        "\n",
        "        tweets_list.append([user_screen_name, tweetid, created_at, favorite_count, text])\n",
        "\n",
        "# populate dataframe with list of tweets specifying required column names\n",
        "tweet_df_2 = pd.DataFrame(data=tweets_list, columns=['user','tweetid', 'created_at', 'favorite_count', 'text'])\n",
        "\n",
        "df1 = tweet_df_2.sort_values('favorite_count',ascending = False).head(3)\n",
        "df1"
      ],
      "execution_count": null,
      "outputs": []
    },
    {
      "cell_type": "markdown",
      "metadata": {
        "id": "P8NAuESbPW2_"
      },
      "source": [
        "### Exercise 3 (Optional)\n",
        "\n",
        "Can you compute the correlation between two variables: favorite_count and retweet_count in the data? \n",
        "\n",
        "For computing the correlation for two variables, you can use ```scipy.stats.pearsonr``` function. \n",
        "\n",
        "Find more information about it [here](https://docs.scipy.org/doc/scipy-0.14.0/reference/generated/scipy.stats.pearsonr.html). \n",
        "\n",
        "Don't forget that you will need to import the library! \n",
        "```from scipy.stats.stats import pearsonr```\n"
      ]
    },
    {
      "cell_type": "code",
      "metadata": {
        "id": "SyqAUIX3PW2_"
      },
      "source": [
        "tweets_list = []\n",
        "\n",
        "filename = f\"{mypath}/tweets_{user_id}.jsons\"\n",
        "with open(filename) as fi:\n",
        "    for line_cnt, line in enumerate(fi):\n",
        "        tweet = json.loads(line)\n",
        "\n",
        "        tweet = json.loads(line.strip())\n",
        "\n",
        "        tweetid = tweet['id']\n",
        "        created_at = tweet['created_at']\n",
        "        \n",
        "        favorite_count = tweet['favorite_count']\n",
        "        retweet_count = tweet['retweet_count']\n",
        "        \n",
        "        # # # Extended Mode\n",
        "        if 'retweeted_status' in tweet: # If it's Retweet\n",
        "            text = tweet['retweeted_status']['full_text']\n",
        "        else:  # Not a Retweet\n",
        "            text = tweet['full_text']\n",
        "\n",
        "        user_screen_name = tweet['user']['screen_name']\n",
        "\n",
        "        tweets_list.append([user_screen_name, tweetid, created_at, retweet_count, favorite_count, text])\n",
        "\n",
        "# populate dataframe with list of tweets specifying required column names\n",
        "tweet_df_2 = pd.DataFrame(data=tweets_list, columns=['user','tweetid', 'created_at', 'retweet_count', 'favorite_count', 'text'])\n",
        "\n",
        "df1 = tweet_df_2.sort_values('favorite_count',ascending = False).head(3)\n",
        "df1"
      ],
      "execution_count": null,
      "outputs": []
    },
    {
      "cell_type": "code",
      "metadata": {
        "id": "fqohID9WPW2_"
      },
      "source": [
        "from scipy.stats.stats import pearsonr"
      ],
      "execution_count": null,
      "outputs": []
    },
    {
      "cell_type": "code",
      "metadata": {
        "id": "YZZwQKcBPW3A"
      },
      "source": [
        "pearsonr(df1['retweet_count'], df1['favorite_count'])"
      ],
      "execution_count": null,
      "outputs": []
    },
    {
      "cell_type": "code",
      "metadata": {
        "id": "LYco8tbwPW3A"
      },
      "source": [
        ""
      ],
      "execution_count": null,
      "outputs": []
    },
    {
      "cell_type": "markdown",
      "metadata": {
        "id": "-3W9zqUk0xor"
      },
      "source": [
        "## 4) Streaming API"
      ]
    },
    {
      "cell_type": "markdown",
      "metadata": {
        "id": "UD_cwfQv04gL"
      },
      "source": [
        "Step 1: Creating a StreamListener\n",
        "\n",
        "`on_data()` is called when new data comes in\n"
      ]
    },
    {
      "cell_type": "code",
      "metadata": {
        "id": "SEoXjLD60xZ3"
      },
      "source": [
        "class MyStreamListener(tweepy.StreamListener):\n",
        "\n",
        "    \"\"\" A listener handles tweets are the received from the stream.\n",
        "    This is a basic listener that just prints received tweets to stdout.\n",
        "\n",
        "    \"\"\"\n",
        "    def on_data(self, data):\n",
        "        myjson=data[:-1]\n",
        "        myoutput.write(myjson+\"\\n\")\n",
        "        return True\n",
        "\n",
        "    def on_error(self, status):\n",
        "        print (\"Error\", status)\n",
        "        "
      ],
      "execution_count": null,
      "outputs": []
    },
    {
      "cell_type": "markdown",
      "metadata": {
        "id": "Jux7RER92OV6"
      },
      "source": [
        "Step 2: Creating a Stream\n"
      ]
    },
    {
      "cell_type": "code",
      "metadata": {
        "id": "RzHJkcfB2OAs"
      },
      "source": [
        "myStreamListener = MyStreamListener()\n",
        "myStream = tweepy.Stream(auth = api.auth, listener=myStreamListener, tweet_mode='extended')\n"
      ],
      "execution_count": null,
      "outputs": []
    },
    {
      "cell_type": "markdown",
      "metadata": {
        "id": "Dp3EceDp9pAj"
      },
      "source": [
        "You need to stop the process before it collects too much data!!"
      ]
    },
    {
      "cell_type": "code",
      "metadata": {
        "id": "GxctUZCUjFkH",
        "colab": {
          "base_uri": "https://localhost:8080/",
          "height": 397
        },
        "outputId": "9dce3313-8e49-40f3-9020-efc47ce8b974"
      },
      "source": [
        "keyword = 'covid'\n",
        "\n",
        "myfilename = f'{mypath}/stream_tweets_{keyword}.jsons'\n",
        "myoutput = open(myfilename, 'w')\n",
        "\n",
        "while True:\n",
        "    try:\n",
        "        # myStream.filter(track=['coronavirus', 'covid', 'chinese virus', 'wuhan', 'ncov', 'sars-cov-2', 'koronavirus', 'corona', 'cdc', 'N95', 'kungflu', 'epidemic', 'outbreak', 'sinophobia', 'china', 'pandemic', 'covd'])\n",
        "        myStream.filter(track=[keyword])\n",
        "\n",
        "    except Exception as e:\n",
        "        raise\n"
      ],
      "execution_count": null,
      "outputs": [
        {
          "output_type": "error",
          "ename": "TweepError",
          "evalue": "ignored",
          "traceback": [
            "\u001b[0;31m---------------------------------------------------------------------------\u001b[0m",
            "\u001b[0;31mTweepError\u001b[0m                                Traceback (most recent call last)",
            "\u001b[0;32m<ipython-input-30-1dc35839bd25>\u001b[0m in \u001b[0;36m<module>\u001b[0;34m()\u001b[0m\n\u001b[1;32m      7\u001b[0m     \u001b[0;32mtry\u001b[0m\u001b[0;34m:\u001b[0m\u001b[0;34m\u001b[0m\u001b[0;34m\u001b[0m\u001b[0m\n\u001b[1;32m      8\u001b[0m         \u001b[0;31m# myStream.filter(track=['coronavirus', 'covid', 'chinese virus', 'wuhan', 'ncov', 'sars-cov-2', 'koronavirus', 'corona', 'cdc', 'N95', 'kungflu', 'epidemic', 'outbreak', 'sinophobia', 'china', 'pandemic', 'covd'])\u001b[0m\u001b[0;34m\u001b[0m\u001b[0;34m\u001b[0m\u001b[0;34m\u001b[0m\u001b[0m\n\u001b[0;32m----> 9\u001b[0;31m         \u001b[0mmyStream\u001b[0m\u001b[0;34m.\u001b[0m\u001b[0mfilter\u001b[0m\u001b[0;34m(\u001b[0m\u001b[0mtrack\u001b[0m\u001b[0;34m=\u001b[0m\u001b[0;34m[\u001b[0m\u001b[0mkeyword\u001b[0m\u001b[0;34m]\u001b[0m\u001b[0;34m)\u001b[0m\u001b[0;34m\u001b[0m\u001b[0;34m\u001b[0m\u001b[0m\n\u001b[0m\u001b[1;32m     10\u001b[0m \u001b[0;34m\u001b[0m\u001b[0m\n\u001b[1;32m     11\u001b[0m     \u001b[0;32mexcept\u001b[0m \u001b[0mException\u001b[0m \u001b[0;32mas\u001b[0m \u001b[0me\u001b[0m\u001b[0;34m:\u001b[0m\u001b[0;34m\u001b[0m\u001b[0;34m\u001b[0m\u001b[0m\n",
            "\u001b[0;32m/usr/local/lib/python3.7/dist-packages/tweepy/streaming.py\u001b[0m in \u001b[0;36mfilter\u001b[0;34m(self, follow, track, is_async, locations, stall_warnings, languages, encoding, filter_level)\u001b[0m\n\u001b[1;32m    454\u001b[0m         \u001b[0mself\u001b[0m\u001b[0;34m.\u001b[0m\u001b[0msession\u001b[0m\u001b[0;34m.\u001b[0m\u001b[0mheaders\u001b[0m\u001b[0;34m[\u001b[0m\u001b[0;34m'Content-type'\u001b[0m\u001b[0;34m]\u001b[0m \u001b[0;34m=\u001b[0m \u001b[0;34m\"application/x-www-form-urlencoded\"\u001b[0m\u001b[0;34m\u001b[0m\u001b[0;34m\u001b[0m\u001b[0m\n\u001b[1;32m    455\u001b[0m         \u001b[0;32mif\u001b[0m \u001b[0mself\u001b[0m\u001b[0;34m.\u001b[0m\u001b[0mrunning\u001b[0m\u001b[0;34m:\u001b[0m\u001b[0;34m\u001b[0m\u001b[0;34m\u001b[0m\u001b[0m\n\u001b[0;32m--> 456\u001b[0;31m             \u001b[0;32mraise\u001b[0m \u001b[0mTweepError\u001b[0m\u001b[0;34m(\u001b[0m\u001b[0;34m'Stream object already connected!'\u001b[0m\u001b[0;34m)\u001b[0m\u001b[0;34m\u001b[0m\u001b[0;34m\u001b[0m\u001b[0m\n\u001b[0m\u001b[1;32m    457\u001b[0m         \u001b[0mself\u001b[0m\u001b[0;34m.\u001b[0m\u001b[0murl\u001b[0m \u001b[0;34m=\u001b[0m \u001b[0;34m'/%s/statuses/filter.json'\u001b[0m \u001b[0;34m%\u001b[0m \u001b[0mSTREAM_VERSION\u001b[0m\u001b[0;34m\u001b[0m\u001b[0;34m\u001b[0m\u001b[0m\n\u001b[1;32m    458\u001b[0m         \u001b[0;32mif\u001b[0m \u001b[0mfollow\u001b[0m\u001b[0;34m:\u001b[0m\u001b[0;34m\u001b[0m\u001b[0;34m\u001b[0m\u001b[0m\n",
            "\u001b[0;31mTweepError\u001b[0m: Stream object already connected!"
          ]
        }
      ]
    },
    {
      "cell_type": "code",
      "metadata": {
        "id": "FwKZLG_K25IR"
      },
      "source": [
        "outfilename = f\"{mypath}/simple_stream_tweets_{keyword}.tsv\" \n",
        "\n",
        "with open(myfilename) as fi, open(outfilename, 'w') as output:\n",
        "    # Write header in the file to load the file into dataframe\n",
        "    output.write(\"\\t\".join(['user_screen_name', 'tweetid', 'created_at', 'text'])+\"\\n\")\n",
        "    \n",
        "    for line_cnt, line in enumerate(fi):\n",
        "        try:\n",
        "            tweet = json.loads(line.strip())\n",
        "        except: # The last json is not complate \n",
        "            continue\n",
        "        \n",
        "        if 'limit' in tweet:\n",
        "            continue\n",
        "        \n",
        "        tweetid = tweet['id']\n",
        "        \n",
        "        created_at = tweet['created_at']\n",
        "        user_screen_name = tweet['user']['screen_name']\n",
        "\n",
        "        # Extract Tweet text from Streaming API when in Extended Mode \n",
        "        text = tweet['text']\n",
        "        try:\n",
        "            text = tweet['extended_tweet']['full_text']\n",
        "        except:\n",
        "            pass\n",
        "\n",
        "        # Below line will remove all tabs and line breaks from text\n",
        "        text = \" \".join(text.split())\n",
        "\n",
        "        output.write(\"\\t\".join([user_screen_name, str(tweetid), created_at, text])+\"\\n\")\n",
        "\n",
        "    "
      ],
      "execution_count": null,
      "outputs": []
    },
    {
      "cell_type": "code",
      "metadata": {
        "id": "g7fEXrhg7dKT",
        "colab": {
          "base_uri": "https://localhost:8080/",
          "height": 221
        },
        "outputId": "1b560b76-119d-4907-9aa7-48c8c2b1209c"
      },
      "source": [
        "infilename = f\"{mypath}/simple_stream_tweets_{keyword}.tsv\" \n",
        "df = pd.read_csv(infilename, sep=\"\\t\")\n",
        "print(df.shape)\n",
        "df.head()"
      ],
      "execution_count": null,
      "outputs": [
        {
          "output_type": "stream",
          "text": [
            "(6, 4)\n"
          ],
          "name": "stdout"
        },
        {
          "output_type": "execute_result",
          "data": {
            "text/html": [
              "<div>\n",
              "<style scoped>\n",
              "    .dataframe tbody tr th:only-of-type {\n",
              "        vertical-align: middle;\n",
              "    }\n",
              "\n",
              "    .dataframe tbody tr th {\n",
              "        vertical-align: top;\n",
              "    }\n",
              "\n",
              "    .dataframe thead th {\n",
              "        text-align: right;\n",
              "    }\n",
              "</style>\n",
              "<table border=\"1\" class=\"dataframe\">\n",
              "  <thead>\n",
              "    <tr style=\"text-align: right;\">\n",
              "      <th></th>\n",
              "      <th>user_screen_name</th>\n",
              "      <th>tweetid</th>\n",
              "      <th>created_at</th>\n",
              "      <th>text</th>\n",
              "    </tr>\n",
              "  </thead>\n",
              "  <tbody>\n",
              "    <tr>\n",
              "      <th>0</th>\n",
              "      <td>BernieUpstateNY</td>\n",
              "      <td>1431664346267009024</td>\n",
              "      <td>Sat Aug 28 17:05:53 +0000 2021</td>\n",
              "      <td>@yaelisa1111 @cascamike @BernieSanders We SHOU...</td>\n",
              "    </tr>\n",
              "    <tr>\n",
              "      <th>1</th>\n",
              "      <td>LunaCurativa</td>\n",
              "      <td>1431664346573254662</td>\n",
              "      <td>Sat Aug 28 17:05:53 +0000 2021</td>\n",
              "      <td>RT @SoSocialism: There is no labor shortage. I...</td>\n",
              "    </tr>\n",
              "    <tr>\n",
              "      <th>2</th>\n",
              "      <td>fredfarcos</td>\n",
              "      <td>1431664346690633728</td>\n",
              "      <td>Sat Aug 28 17:05:53 +0000 2021</td>\n",
              "      <td>RT @DWUhlfelderLaw: 5,822 Floridians have repo...</td>\n",
              "    </tr>\n",
              "    <tr>\n",
              "      <th>3</th>\n",
              "      <td>Americanlll</td>\n",
              "      <td>1431664346866745348</td>\n",
              "      <td>Sat Aug 28 17:05:53 +0000 2021</td>\n",
              "      <td>RT @MagaFarley: You know what spreads faster t...</td>\n",
              "    </tr>\n",
              "    <tr>\n",
              "      <th>4</th>\n",
              "      <td>rwinn319</td>\n",
              "      <td>1431664346980040707</td>\n",
              "      <td>Sat Aug 28 17:05:54 +0000 2021</td>\n",
              "      <td>RT @RushieMaha: Previous Covid Prevents Delta ...</td>\n",
              "    </tr>\n",
              "  </tbody>\n",
              "</table>\n",
              "</div>"
            ],
            "text/plain": [
              "  user_screen_name  ...                                               text\n",
              "0  BernieUpstateNY  ...  @yaelisa1111 @cascamike @BernieSanders We SHOU...\n",
              "1     LunaCurativa  ...  RT @SoSocialism: There is no labor shortage. I...\n",
              "2       fredfarcos  ...  RT @DWUhlfelderLaw: 5,822 Floridians have repo...\n",
              "3      Americanlll  ...  RT @MagaFarley: You know what spreads faster t...\n",
              "4         rwinn319  ...  RT @RushieMaha: Previous Covid Prevents Delta ...\n",
              "\n",
              "[5 rows x 4 columns]"
            ]
          },
          "metadata": {},
          "execution_count": 32
        }
      ]
    },
    {
      "cell_type": "code",
      "metadata": {
        "id": "TA9rVXbiPW3B"
      },
      "source": [
        ""
      ],
      "execution_count": null,
      "outputs": []
    },
    {
      "cell_type": "code",
      "metadata": {
        "id": "MSGkFxCSPW3B"
      },
      "source": [
        ""
      ],
      "execution_count": null,
      "outputs": []
    },
    {
      "cell_type": "markdown",
      "metadata": {
        "id": "1If29S-EPW3B"
      },
      "source": [
        "## 5) Draw a word cloud\n",
        "\n",
        "A word cloud, which has been popularly used as a tag cloud in the era of Blogs, is often used to show which words frequently appear. Detail explanations are available on https://en.wikipedia.org/wiki/Tag_cloud"
      ]
    },
    {
      "cell_type": "code",
      "metadata": {
        "id": "ytr_v5w29pAk",
        "colab": {
          "base_uri": "https://localhost:8080/"
        },
        "outputId": "f83ec463-5a32-4a85-f182-a96233d1bbdf"
      },
      "source": [
        "## This it OPTIONAL if you are running the current notebook using Google Colab\n",
        "!conda install --yes -c conda-forge wordcloud"
      ],
      "execution_count": null,
      "outputs": [
        {
          "output_type": "stream",
          "text": [
            "/bin/bash: conda: command not found\n"
          ],
          "name": "stdout"
        }
      ]
    },
    {
      "cell_type": "code",
      "metadata": {
        "id": "Wcd9WVi89pAk"
      },
      "source": [
        "# Import relevant libraries\n",
        "\n",
        "from wordcloud import WordCloud, STOPWORDS\n",
        "import matplotlib.pyplot as plt"
      ],
      "execution_count": 53,
      "outputs": []
    },
    {
      "cell_type": "markdown",
      "metadata": {
        "id": "WPDNA_k7PW3B"
      },
      "source": [
        "#### Let's draw WordCloud of the collected tweets\n",
        "\n",
        "Loading a data into dataframe"
      ]
    },
    {
      "cell_type": "code",
      "metadata": {
        "id": "tjmtNtPiPW3B",
        "colab": {
          "base_uri": "https://localhost:8080/",
          "height": 221
        },
        "outputId": "e76cbee2-95dc-4af1-fbcf-c54b4327cd9d"
      },
      "source": [
        "infilename = f\"{mypath}/simple_stream_tweets_{keyword}.tsv\" \n",
        "df = pd.read_csv(infilename, sep=\"\\t\")\n",
        "print(df.shape)\n",
        "df.head()"
      ],
      "execution_count": null,
      "outputs": [
        {
          "output_type": "stream",
          "text": [
            "(6, 4)\n"
          ],
          "name": "stdout"
        },
        {
          "output_type": "execute_result",
          "data": {
            "text/html": [
              "<div>\n",
              "<style scoped>\n",
              "    .dataframe tbody tr th:only-of-type {\n",
              "        vertical-align: middle;\n",
              "    }\n",
              "\n",
              "    .dataframe tbody tr th {\n",
              "        vertical-align: top;\n",
              "    }\n",
              "\n",
              "    .dataframe thead th {\n",
              "        text-align: right;\n",
              "    }\n",
              "</style>\n",
              "<table border=\"1\" class=\"dataframe\">\n",
              "  <thead>\n",
              "    <tr style=\"text-align: right;\">\n",
              "      <th></th>\n",
              "      <th>user_screen_name</th>\n",
              "      <th>tweetid</th>\n",
              "      <th>created_at</th>\n",
              "      <th>text</th>\n",
              "    </tr>\n",
              "  </thead>\n",
              "  <tbody>\n",
              "    <tr>\n",
              "      <th>0</th>\n",
              "      <td>BernieUpstateNY</td>\n",
              "      <td>1431664346267009024</td>\n",
              "      <td>Sat Aug 28 17:05:53 +0000 2021</td>\n",
              "      <td>@yaelisa1111 @cascamike @BernieSanders We SHOU...</td>\n",
              "    </tr>\n",
              "    <tr>\n",
              "      <th>1</th>\n",
              "      <td>LunaCurativa</td>\n",
              "      <td>1431664346573254662</td>\n",
              "      <td>Sat Aug 28 17:05:53 +0000 2021</td>\n",
              "      <td>RT @SoSocialism: There is no labor shortage. I...</td>\n",
              "    </tr>\n",
              "    <tr>\n",
              "      <th>2</th>\n",
              "      <td>fredfarcos</td>\n",
              "      <td>1431664346690633728</td>\n",
              "      <td>Sat Aug 28 17:05:53 +0000 2021</td>\n",
              "      <td>RT @DWUhlfelderLaw: 5,822 Floridians have repo...</td>\n",
              "    </tr>\n",
              "    <tr>\n",
              "      <th>3</th>\n",
              "      <td>Americanlll</td>\n",
              "      <td>1431664346866745348</td>\n",
              "      <td>Sat Aug 28 17:05:53 +0000 2021</td>\n",
              "      <td>RT @MagaFarley: You know what spreads faster t...</td>\n",
              "    </tr>\n",
              "    <tr>\n",
              "      <th>4</th>\n",
              "      <td>rwinn319</td>\n",
              "      <td>1431664346980040707</td>\n",
              "      <td>Sat Aug 28 17:05:54 +0000 2021</td>\n",
              "      <td>RT @RushieMaha: Previous Covid Prevents Delta ...</td>\n",
              "    </tr>\n",
              "  </tbody>\n",
              "</table>\n",
              "</div>"
            ],
            "text/plain": [
              "  user_screen_name  ...                                               text\n",
              "0  BernieUpstateNY  ...  @yaelisa1111 @cascamike @BernieSanders We SHOU...\n",
              "1     LunaCurativa  ...  RT @SoSocialism: There is no labor shortage. I...\n",
              "2       fredfarcos  ...  RT @DWUhlfelderLaw: 5,822 Floridians have repo...\n",
              "3      Americanlll  ...  RT @MagaFarley: You know what spreads faster t...\n",
              "4         rwinn319  ...  RT @RushieMaha: Previous Covid Prevents Delta ...\n",
              "\n",
              "[5 rows x 4 columns]"
            ]
          },
          "metadata": {},
          "execution_count": 36
        }
      ]
    },
    {
      "cell_type": "markdown",
      "metadata": {
        "id": "0_bI_YouPW3C"
      },
      "source": [
        "As WordCloud() function requires a **string** as a parameter, we need to concatenate all the rows of the 'text' column in the dataframe to a single string by join().\n",
        "\n",
        "This can be done in one line of code, \n",
        "```all_tweets = \" \".join(one_row for one_row in df['text'])```\n",
        "\n",
        "Let's disagreggate this code and check how it works."
      ]
    },
    {
      "cell_type": "code",
      "metadata": {
        "id": "T5cqZahtPW3C",
        "colab": {
          "base_uri": "https://localhost:8080/",
          "height": 53
        },
        "outputId": "59fbf93d-c21a-4e4c-9957-50fe195f6485"
      },
      "source": [
        "# access 2nd item of df['text']\n",
        "df['text'][2]"
      ],
      "execution_count": null,
      "outputs": [
        {
          "output_type": "execute_result",
          "data": {
            "application/vnd.google.colaboratory.intrinsic+json": {
              "type": "string"
            },
            "text/plain": [
              "'RT @DWUhlfelderLaw: 5,822 Floridians have reportedly died from COVID-19 since Ron DeSantis\\'s PAC started selling \"Don\\'t Fauci My Florida\" c…'"
            ]
          },
          "metadata": {},
          "execution_count": 37
        }
      ]
    },
    {
      "cell_type": "code",
      "metadata": {
        "id": "PeTOZ5MsPW3C",
        "colab": {
          "base_uri": "https://localhost:8080/"
        },
        "outputId": "5b3c2e11-96da-4e62-f045-4dd9e96a396b"
      },
      "source": [
        "# access the first five rows of df['text']\n",
        "df['text'][:5]"
      ],
      "execution_count": null,
      "outputs": [
        {
          "output_type": "execute_result",
          "data": {
            "text/plain": [
              "0    @yaelisa1111 @cascamike @BernieSanders We SHOU...\n",
              "1    RT @SoSocialism: There is no labor shortage. I...\n",
              "2    RT @DWUhlfelderLaw: 5,822 Floridians have repo...\n",
              "3    RT @MagaFarley: You know what spreads faster t...\n",
              "4    RT @RushieMaha: Previous Covid Prevents Delta ...\n",
              "Name: text, dtype: object"
            ]
          },
          "metadata": {},
          "execution_count": 38
        }
      ]
    },
    {
      "cell_type": "code",
      "metadata": {
        "id": "HOkdiE9RPW3C",
        "colab": {
          "base_uri": "https://localhost:8080/"
        },
        "outputId": "e057ff75-bb1b-4341-c741-beb0857a7469"
      },
      "source": [
        "# you can print the first 5 rows of df['text'] \n",
        "for one_row in df['text'][:5]:\n",
        "    print(one_row)"
      ],
      "execution_count": null,
      "outputs": [
        {
          "output_type": "stream",
          "text": [
            "@yaelisa1111 @cascamike @BernieSanders We SHOULD. Covid is worse than this time last year\n",
            "RT @SoSocialism: There is no labor shortage. It's just that people aren't willing to catch covid for $7.25 an hr.\n",
            "RT @DWUhlfelderLaw: 5,822 Floridians have reportedly died from COVID-19 since Ron DeSantis's PAC started selling \"Don't Fauci My Florida\" c…\n",
            "RT @MagaFarley: You know what spreads faster than Covid-19? “The Propaganda Variant”. “TPV” instantly infects people with low IQ and spre…\n",
            "RT @RushieMaha: Previous Covid Prevents Delta Infection Better Than Pfizer Shot https://t.co/rWhsjRETVW\n"
          ],
          "name": "stdout"
        }
      ]
    },
    {
      "cell_type": "code",
      "metadata": {
        "id": "XsiSejUTPW3C",
        "colab": {
          "base_uri": "https://localhost:8080/"
        },
        "outputId": "9705e136-7a7d-4c51-f10a-89b47295e737"
      },
      "source": [
        "# below will read the first 5 rows of df['text'] and reture as a list \n",
        "[one_row for one_row in df['text'][:5]]"
      ],
      "execution_count": null,
      "outputs": [
        {
          "output_type": "execute_result",
          "data": {
            "text/plain": [
              "['@yaelisa1111 @cascamike @BernieSanders We SHOULD. Covid is worse than this time last year',\n",
              " \"RT @SoSocialism: There is no labor shortage. It's just that people aren't willing to catch covid for $7.25 an hr.\",\n",
              " 'RT @DWUhlfelderLaw: 5,822 Floridians have reportedly died from COVID-19 since Ron DeSantis\\'s PAC started selling \"Don\\'t Fauci My Florida\" c…',\n",
              " 'RT @MagaFarley: You know what spreads faster than Covid-19? “The Propaganda Variant”. “TPV” instantly infects people with low IQ and spre…',\n",
              " 'RT @RushieMaha: Previous Covid Prevents Delta Infection Better Than Pfizer Shot https://t.co/rWhsjRETVW']"
            ]
          },
          "metadata": {},
          "execution_count": 40
        }
      ]
    },
    {
      "cell_type": "code",
      "metadata": {
        "id": "NTpe09LGPW3C",
        "colab": {
          "base_uri": "https://localhost:8080/",
          "height": 35
        },
        "outputId": "35199b29-e8e6-4500-dbf4-05c6bc8d1acc"
      },
      "source": [
        "# how join function works, it concatenates items in the list and return a single sentence\n",
        "sample = ['jisun is cool', 'michelle is cool', 'we all are cool']\n",
        "\" \".join(sample)"
      ],
      "execution_count": null,
      "outputs": [
        {
          "output_type": "execute_result",
          "data": {
            "application/vnd.google.colaboratory.intrinsic+json": {
              "type": "string"
            },
            "text/plain": [
              "'jisun is cool michelle is cool we all are cool'"
            ]
          },
          "metadata": {},
          "execution_count": 41
        }
      ]
    },
    {
      "cell_type": "code",
      "metadata": {
        "id": "-cKE_WxpPW3D",
        "colab": {
          "base_uri": "https://localhost:8080/",
          "height": 106
        },
        "outputId": "c4743fa2-ea23-4eb9-accb-123459d07140"
      },
      "source": [
        "\" \".join([one_row for one_row in df['text'][:5]])"
      ],
      "execution_count": null,
      "outputs": [
        {
          "output_type": "execute_result",
          "data": {
            "application/vnd.google.colaboratory.intrinsic+json": {
              "type": "string"
            },
            "text/plain": [
              "'@yaelisa1111 @cascamike @BernieSanders We SHOULD. Covid is worse than this time last year RT @SoSocialism: There is no labor shortage. It\\'s just that people aren\\'t willing to catch covid for $7.25 an hr. RT @DWUhlfelderLaw: 5,822 Floridians have reportedly died from COVID-19 since Ron DeSantis\\'s PAC started selling \"Don\\'t Fauci My Florida\" c… RT @MagaFarley: You know what spreads faster than Covid-19? “The Propaganda Variant”. “TPV” instantly infects people with low IQ and spre… RT @RushieMaha: Previous Covid Prevents Delta Infection Better Than Pfizer Shot https://t.co/rWhsjRETVW'"
            ]
          },
          "metadata": {},
          "execution_count": 42
        }
      ]
    },
    {
      "cell_type": "code",
      "metadata": {
        "id": "vukcwMdkPW3D"
      },
      "source": [
        "# this will concatenate all rows in df['text'] and return one single sentence!\n",
        "all_tweets = \" \".join([one_row for one_row in df['text']])"
      ],
      "execution_count": null,
      "outputs": []
    },
    {
      "cell_type": "code",
      "metadata": {
        "id": "R5bwxYhz7c_D",
        "colab": {
          "base_uri": "https://localhost:8080/",
          "height": 198
        },
        "outputId": "1afb3656-f43f-4b60-d9af-d9c670cc7aeb"
      },
      "source": [
        "# Enter your code to draw WordCloud\n",
        "wordcloud = WordCloud(stopwords=STOPWORDS, background_color=\"white\", width=1000, height=500).generate(all_tweets)\n",
        "\n",
        "# Display the generated image:\n",
        "plt.imshow(wordcloud, interpolation='bilinear')\n",
        "plt.axis(\"off\")\n",
        "plt.show()"
      ],
      "execution_count": null,
      "outputs": [
        {
          "output_type": "display_data",
          "data": {
            "image/png": "[encoded data removed]",
            "text/plain": [
              "<Figure size 432x288 with 1 Axes>"
            ]
          },
          "metadata": {
            "needs_background": "light"
          }
        }
      ]
    },
    {
      "cell_type": "markdown",
      "metadata": {
        "id": "y77TkMiSPW3D"
      },
      "source": [
        "We are curious about the context of 'vaccine'. \n",
        "You can search dataframe like below:"
      ]
    },
    {
      "cell_type": "code",
      "metadata": {
        "id": "_FURya-gPW3D",
        "colab": {
          "base_uri": "https://localhost:8080/",
          "height": 49
        },
        "outputId": "ef636b52-3d22-4c32-b59b-1e2afd471b79"
      },
      "source": [
        "df[df[\"text\"].str.contains(\"vaccine\", na=False)]"
      ],
      "execution_count": null,
      "outputs": [
        {
          "output_type": "execute_result",
          "data": {
            "text/html": [
              "<div>\n",
              "<style scoped>\n",
              "    .dataframe tbody tr th:only-of-type {\n",
              "        vertical-align: middle;\n",
              "    }\n",
              "\n",
              "    .dataframe tbody tr th {\n",
              "        vertical-align: top;\n",
              "    }\n",
              "\n",
              "    .dataframe thead th {\n",
              "        text-align: right;\n",
              "    }\n",
              "</style>\n",
              "<table border=\"1\" class=\"dataframe\">\n",
              "  <thead>\n",
              "    <tr style=\"text-align: right;\">\n",
              "      <th></th>\n",
              "      <th>user_screen_name</th>\n",
              "      <th>tweetid</th>\n",
              "      <th>created_at</th>\n",
              "      <th>text</th>\n",
              "    </tr>\n",
              "  </thead>\n",
              "  <tbody>\n",
              "  </tbody>\n",
              "</table>\n",
              "</div>"
            ],
            "text/plain": [
              "Empty DataFrame\n",
              "Columns: [user_screen_name, tweetid, created_at, text]\n",
              "Index: []"
            ]
          },
          "metadata": {},
          "execution_count": 45
        }
      ]
    },
    {
      "cell_type": "code",
      "metadata": {
        "id": "CYmS_Fh8PW3D"
      },
      "source": [
        ""
      ],
      "execution_count": null,
      "outputs": []
    },
    {
      "cell_type": "markdown",
      "metadata": {
        "id": "Dv3fiB5CPW3D"
      },
      "source": [
        "### Exercise 4 - Let's compare two hashtags\n",
        "\n",
        "Hashtags are used when people discuss on certain topics or express their opinions. In this exercise, please collect tweets using two different hahstags that are opposing to each other, and then will draw wordcloud to compare the two datasets. \n",
        "\n"
      ]
    },
    {
      "cell_type": "code",
      "metadata": {
        "id": "bm9mb-fPPW3D"
      },
      "source": [
        ""
      ],
      "execution_count": null,
      "outputs": []
    },
    {
      "cell_type": "code",
      "metadata": {
        "id": "N2uIrfCvPW3D"
      },
      "source": [
        ""
      ],
      "execution_count": null,
      "outputs": []
    },
    {
      "cell_type": "code",
      "metadata": {
        "id": "9Gijq6e4PW3E"
      },
      "source": [
        ""
      ],
      "execution_count": null,
      "outputs": []
    },
    {
      "cell_type": "code",
      "metadata": {
        "id": "xyf4oH9V9pAo"
      },
      "source": [
        ""
      ],
      "execution_count": null,
      "outputs": []
    },
    {
      "cell_type": "code",
      "metadata": {
        "id": "mFpHKQ5x9pAp"
      },
      "source": [
        ""
      ],
      "execution_count": null,
      "outputs": []
    },
    {
      "cell_type": "code",
      "metadata": {
        "id": "YLBDhXbS9pAq"
      },
      "source": [
        ""
      ],
      "execution_count": null,
      "outputs": []
    },
    {
      "cell_type": "code",
      "metadata": {
        "id": "tzCAPde_PW3E"
      },
      "source": [
        ""
      ],
      "execution_count": null,
      "outputs": []
    },
    {
      "cell_type": "code",
      "metadata": {
        "id": "on5CN8ZUPW3E"
      },
      "source": [
        ""
      ],
      "execution_count": null,
      "outputs": []
    },
    {
      "cell_type": "code",
      "metadata": {
        "id": "63fCRC2o9pAq"
      },
      "source": [
        ""
      ],
      "execution_count": null,
      "outputs": []
    },
    {
      "cell_type": "code",
      "metadata": {
        "id": "ubeZcANQ9pAr"
      },
      "source": [
        ""
      ],
      "execution_count": null,
      "outputs": []
    },
    {
      "cell_type": "code",
      "metadata": {
        "id": "Uuu2pP069pAr"
      },
      "source": [
        ""
      ],
      "execution_count": null,
      "outputs": []
    }
  ]
}