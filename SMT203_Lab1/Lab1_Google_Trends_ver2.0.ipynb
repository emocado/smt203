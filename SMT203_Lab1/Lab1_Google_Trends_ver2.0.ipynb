{
 "cells": [
  {
   "cell_type": "markdown",
   "metadata": {
    "id": "Br8H2y-Wbfmv"
   },
   "source": [
    "# Lab 1: Playing with Google Trends\n",
    "\n",
    "\n",
    "The goal of this lab is collecting Google Trends data using [PyTrends](https://pypi.org/project/pytrends/).\n",
    "\n",
    "This lab is written by Dr. Jisun AN (jisunan@smu.edu.sg), Dr. Haewoon KWAK (hkwak@smu.edu.sg) and Ms Michelle Kan (michellekan@smu.edu.sg)."
   ]
  },
  {
   "cell_type": "markdown",
   "metadata": {
    "id": "U1rgrvJ4bfm9"
   },
   "source": [
    "# Install\n",
    "\n",
    "<b>[pip](https://realpython.com/what-is-pip/)</b> is the standard package manager for Python. It allows you to install and manage additional packages that are not part of the Python standard library. \n",
    "\n",
    "Let's use pip to install the required packages for this lab."
   ]
  },
  {
   "cell_type": "code",
   "execution_count": null,
   "metadata": {
    "colab": {
     "base_uri": "https://localhost:8080/"
    },
    "executionInfo": {
     "elapsed": 3763,
     "status": "ok",
     "timestamp": 1629647182045,
     "user": {
      "displayName": "Michelle Kan",
      "photoUrl": "",
      "userId": "02256448236685590888"
     },
     "user_tz": -480
    },
    "id": "lls3CYOqbfnE",
    "outputId": "5d7d0ef3-c591-43fb-eb03-f7ba1fe66a07"
   },
   "outputs": [],
   "source": [
    "!pip install pytrends "
   ]
  },
  {
   "cell_type": "code",
   "execution_count": null,
   "metadata": {
    "colab": {
     "base_uri": "https://localhost:8080/"
    },
    "executionInfo": {
     "elapsed": 3337,
     "status": "ok",
     "timestamp": 1629647185378,
     "user": {
      "displayName": "Michelle Kan",
      "photoUrl": "",
      "userId": "02256448236685590888"
     },
     "user_tz": -480
    },
    "id": "ZnCG5qMtbfnN",
    "outputId": "1cae744a-34d5-40c5-b99e-f1c54c6926bf"
   },
   "outputs": [],
   "source": [
    "!pip install matplotlib"
   ]
  },
  {
   "cell_type": "code",
   "execution_count": null,
   "metadata": {
    "colab": {
     "base_uri": "https://localhost:8080/"
    },
    "executionInfo": {
     "elapsed": 3476,
     "status": "ok",
     "timestamp": 1629647188850,
     "user": {
      "displayName": "Michelle Kan",
      "photoUrl": "",
      "userId": "02256448236685590888"
     },
     "user_tz": -480
    },
    "id": "U6cb2Q68bfnT",
    "outputId": "8009af30-a3fb-4551-f6ad-3fca9bdaead2"
   },
   "outputs": [],
   "source": [
    "!pip install plotly"
   ]
  },
  {
   "cell_type": "code",
   "execution_count": null,
   "metadata": {
    "colab": {
     "base_uri": "https://localhost:8080/"
    },
    "executionInfo": {
     "elapsed": 3420,
     "status": "ok",
     "timestamp": 1629647192266,
     "user": {
      "displayName": "Michelle Kan",
      "photoUrl": "",
      "userId": "02256448236685590888"
     },
     "user_tz": -480
    },
    "id": "kRdVLCv-bfnW",
    "outputId": "21a68b51-29bd-4400-c296-234e252f1061",
    "scrolled": true
   },
   "outputs": [],
   "source": [
    "!pip install pandas"
   ]
  },
  {
   "cell_type": "code",
   "execution_count": null,
   "metadata": {
    "colab": {
     "base_uri": "https://localhost:8080/"
    },
    "executionInfo": {
     "elapsed": 3509,
     "status": "ok",
     "timestamp": 1629647195772,
     "user": {
      "displayName": "Michelle Kan",
      "photoUrl": "",
      "userId": "02256448236685590888"
     },
     "user_tz": -480
    },
    "id": "dEnEfNxsbfna",
    "outputId": "e7127b0f-08ba-4f5f-8432-dfe7d4e94156",
    "scrolled": true
   },
   "outputs": [],
   "source": [
    "!pip install seaborn"
   ]
  },
  {
   "cell_type": "markdown",
   "metadata": {
    "id": "cW5UTW22T1g3"
   },
   "source": [
    "# Add Google Drive as an accessible path\n",
    "\n",
    "The following code sets the working folder for this Python notebook in our Google Drive for ease of access to the data saved. \n",
    "This step is optional if you are using Jupyter Notebook."
   ]
  },
  {
   "cell_type": "code",
   "execution_count": null,
   "metadata": {
    "colab": {
     "base_uri": "https://localhost:8080/"
    },
    "executionInfo": {
     "elapsed": 305,
     "status": "ok",
     "timestamp": 1629647378802,
     "user": {
      "displayName": "Michelle Kan",
      "photoUrl": "",
      "userId": "02256448236685590888"
     },
     "user_tz": -480
    },
    "id": "A5_yWjTFT1_l",
    "outputId": "7742250e-c2bc-48d1-ffd7-35ddea0a233b"
   },
   "outputs": [],
   "source": [
    "from google.colab import drive\n",
    "drive.mount('/content/drive')\n",
    "\n",
    "# change path to the designated google drive folder\n",
    "# otherwise, data will be saved in /content folder which you may have issue locating\n",
    "%cd /content/drive/My Drive/Colab Notebooks/"
   ]
  },
  {
   "cell_type": "markdown",
   "metadata": {
    "id": "Bkki_cXVbfni"
   },
   "source": [
    "# Set logger\n",
    "\n",
    "The [Python Logging](https://docs.python.org/3/library/logging.html) module allows us to know what's happening in the 3rd party library."
   ]
  },
  {
   "cell_type": "code",
   "execution_count": null,
   "metadata": {
    "executionInfo": {
     "elapsed": 289,
     "status": "ok",
     "timestamp": 1629647213122,
     "user": {
      "displayName": "Michelle Kan",
      "photoUrl": "",
      "userId": "02256448236685590888"
     },
     "user_tz": -480
    },
    "id": "2lWUHWq5bfno"
   },
   "outputs": [],
   "source": [
    "import logging\n",
    "logging.basicConfig(level=logging.DEBUG,\n",
    "                    format='%(asctime)s %(name)-12s %(levelname)-8s %(message)s',\n",
    "                    datefmt='%m-%d %H:%M:%S')\n",
    "logger = logging.getLogger(__name__)"
   ]
  },
  {
   "cell_type": "markdown",
   "metadata": {
    "id": "Fb40Our_bfny"
   },
   "source": [
    "The above code imports the logging module and calls the `basicConfig` method which does basic configuration for the logging system. The `format` string argument defines the format of the logger output with the following [LogRecord attributes](https://docs.python.org/3/library/logging.html#logrecord-attributes):\n",
    "\n",
    "|Attribute name|Format|Description|\n",
    "|:----|:-----:|:----|\n",
    "|asctime|%(asctime)s|Human-readable time when the LogRecord was created.|\n",
    "|name|%(name)s|Name of the logger used to log the call.|\n",
    "|levelname|%(levelname)s|Text logging level for the message ('DEBUG', 'INFO', 'WARNING', 'ERROR', 'CRITICAL').|\n",
    "|message|%(message)s|The logged message, computed as msg % args. This is set when [Formatter.format()](https://docs.python.org/3/library/logging.html#logging.Formatter.format) is invoked.|"
   ]
  },
  {
   "cell_type": "markdown",
   "metadata": {
    "id": "ygSCx0Z3bfn2"
   },
   "source": [
    "# Connect to Google\n",
    "\n",
    "Language = en-US, timezone (Singapore) = -480 (according to Google's convention)"
   ]
  },
  {
   "cell_type": "code",
   "execution_count": null,
   "metadata": {
    "colab": {
     "base_uri": "https://localhost:8080/"
    },
    "executionInfo": {
     "elapsed": 808,
     "status": "ok",
     "timestamp": 1629647218395,
     "user": {
      "displayName": "Michelle Kan",
      "photoUrl": "",
      "userId": "02256448236685590888"
     },
     "user_tz": -480
    },
    "id": "R8u0ieQnbfn4",
    "outputId": "607b8578-b654-4c59-ed17-08c16eb85ea8"
   },
   "outputs": [],
   "source": [
    "from pytrends.request import TrendReq\n",
    "\n",
    "pytrends = TrendReq(hl='en-US', tz=-480)"
   ]
  },
  {
   "cell_type": "markdown",
   "metadata": {
    "id": "o6i0j9kVOX6N"
   },
   "source": [
    "Below is a sample output of the logger stating that a HTTP request has been successfully completed (ie. [response status code](https://developer.mozilla.org/en-US/docs/Web/HTTP/Status) 200):\n",
    "<img align=\"center\" src=\"https://docs.google.com/uc?id=1VrpE6JCuzWNHcjMnJBdcjw7IXEViigZE\"  style=\"height: 55px;\"/>\n",
    "(Note: The background colour of the message may defer based on the application you are using)"
   ]
  },
  {
   "cell_type": "markdown",
   "metadata": {
    "id": "QGwH8ymMbfn6"
   },
   "source": [
    "# Collect the Google Trends query's response using Pytrends\n",
    "\n",
    "We collect all the data that is accessible through the web interface using the following methods:\n",
    "\n",
    "1. Interest over time\n",
    "2. Interest by city (region)\n",
    "3. Related topics\n",
    "4. Related queries\n",
    "\n",
    "<img align=\"center\" src=\"https://docs.google.com/uc?id=1de3mEalTjfyb685stdgvhRdtb9GJ63mw\" width=\"1250\" style=\"vertical-align:middle;margin:0px 10px\"/>\n",
    "\n",
    "https://trends.google.com/trends/explore?date=2020-12-04%202021-01-03&geo=SG&q=new%20year&hl=en"
   ]
  },
  {
   "cell_type": "markdown",
   "metadata": {
    "id": "xR57CoIdbfn9"
   },
   "source": [
    "## Setting common parameters\n",
    "\n",
    "The `build_payload` method allows us to define the key parameters for retrieval of google trend data.\n",
    "\n",
    "In this example, we name the Google Trend search term parameter as `keywords` with value \"new year\". Check out the purpose of the remaining parameters `geo`, `timeframe` and `cat` parameters [here](https://pypi.org/project/pytrends/)."
   ]
  },
  {
   "cell_type": "code",
   "execution_count": null,
   "metadata": {
    "colab": {
     "base_uri": "https://localhost:8080/"
    },
    "executionInfo": {
     "elapsed": 363,
     "status": "ok",
     "timestamp": 1629643508590,
     "user": {
      "displayName": "Michelle Kan",
      "photoUrl": "",
      "userId": "02256448236685590888"
     },
     "user_tz": -480
    },
    "id": "Tli416pkbfn_",
    "outputId": "f48acd2a-d5e5-473d-dc38-ed1869a79f2f"
   },
   "outputs": [],
   "source": [
    "keywords = [\"new year\"]\n",
    "pytrends.build_payload(keywords, geo='SG', timeframe='2019-12-04 2021-01-03', cat=0)"
   ]
  },
  {
   "cell_type": "markdown",
   "metadata": {
    "id": "eKFCf1r3bfoA"
   },
   "source": [
    "## 1. Interest over time\n",
    "\n",
    "Let's retrieve the Google Trends' <b>Interest Over Time</b> section data based on the keyword defined above."
   ]
  },
  {
   "cell_type": "code",
   "execution_count": null,
   "metadata": {
    "colab": {
     "base_uri": "https://localhost:8080/",
     "height": 445
    },
    "executionInfo": {
     "elapsed": 438,
     "status": "ok",
     "timestamp": 1629643512515,
     "user": {
      "displayName": "Michelle Kan",
      "photoUrl": "",
      "userId": "02256448236685590888"
     },
     "user_tz": -480
    },
    "id": "9kmftKKObfoC",
    "outputId": "184cb402-613e-4a28-d730-8d29eda2878f"
   },
   "outputs": [],
   "source": [
    "df = pytrends.interest_over_time()\n",
    "df.head(n=10)"
   ]
  },
  {
   "cell_type": "code",
   "execution_count": null,
   "metadata": {
    "executionInfo": {
     "elapsed": 315,
     "status": "ok",
     "timestamp": 1629643516166,
     "user": {
      "displayName": "Michelle Kan",
      "photoUrl": "",
      "userId": "02256448236685590888"
     },
     "user_tz": -480
    },
    "id": "avQ3ZPKVbfoE"
   },
   "outputs": [],
   "source": [
    "df.to_csv('1-over-time.csv')"
   ]
  },
  {
   "cell_type": "markdown",
   "metadata": {
    "id": "3VxEwQyubfoF"
   },
   "source": [
    "## Let's plot"
   ]
  },
  {
   "cell_type": "markdown",
   "metadata": {
    "id": "XUVbTGGSbfoH"
   },
   "source": [
    "### To draw a plot, we need to reset the index of dataframe as it's multilevel"
   ]
  },
  {
   "cell_type": "code",
   "execution_count": null,
   "metadata": {
    "colab": {
     "base_uri": "https://localhost:8080/",
     "height": 204
    },
    "executionInfo": {
     "elapsed": 422,
     "status": "ok",
     "timestamp": 1629643524585,
     "user": {
      "displayName": "Michelle Kan",
      "photoUrl": "",
      "userId": "02256448236685590888"
     },
     "user_tz": -480
    },
    "id": "kO7h4VGqbfoI",
    "outputId": "bd6922aa-195a-4179-e043-58edceb4ba27"
   },
   "outputs": [],
   "source": [
    "# reset_index() -- Reset the index of the DataFrame, and use the default one instead. \n",
    "# If the DataFrame has a MultiIndex, this method can remove one or more levels.\n",
    "df.reset_index(inplace=True)\n",
    "df.head()"
   ]
  },
  {
   "cell_type": "markdown",
   "metadata": {
    "id": "OnLd2_gKbfoJ"
   },
   "source": [
    "### Load Backup data -- if Google blocked our IP (Optional)\n",
    "\n",
    "In the event that our IP is temporally blocked by Google due to too many queries being detected at once, carry out the following:<br>\n",
    "a) Download the following files containing backup data for this lab [here](https://drive.google.com/open?id=1diHoeE5piFpXL-BaCw2Giad3ALHwdIBu&authuser=michellekan%40smu.edu.sg&usp=drive_fs).<br>\n",
    "<img align=\"center\" src=\"https://docs.google.com/uc?id=1dxtOro2MYdJC9Q7zAAEWilOTr_oxjbGb\" width=\"300\" style=\"vertical-align:middle;margin:0px 10px\"/>\n",
    "\n",
    "b) Place the backup files in the <b>same folder</b> where you save the current notebook<br>\n",
    "c) Run the codes below (you can comment out all codes by select Ctrl+A and Ctrl+/ for Window or  Cmd+A and Cmd+/  for Mac)"
   ]
  },
  {
   "cell_type": "code",
   "execution_count": null,
   "metadata": {
    "colab": {
     "base_uri": "https://localhost:8080/",
     "height": 204
    },
    "executionInfo": {
     "elapsed": 915,
     "status": "ok",
     "timestamp": 1629643581344,
     "user": {
      "displayName": "Michelle Kan",
      "photoUrl": "",
      "userId": "02256448236685590888"
     },
     "user_tz": -480
    },
    "id": "-qAnb9_nbfoM",
    "outputId": "f2de5ef3-a721-4058-c2a5-c772c2b13c41"
   },
   "outputs": [],
   "source": [
    "# # Our IP may be temporally blocked by Google as we send too many queries at once.\n",
    "# # For that case, we have a backup data.\n",
    "\n",
    "# import pandas as pd # add pandas library to the notebook\n",
    "# df = pd.read_csv('backup-1-over-time.csv')\n",
    "# df.head()"
   ]
  },
  {
   "cell_type": "markdown",
   "metadata": {
    "id": "dF9gvKtBbfoN"
   },
   "source": [
    "### Plotly is a python library for interactive visualization of data\n",
    "\n",
    "See more charts examples here in the below link.\n",
    "Plotly for python: https://plotly.com/python/ \n"
   ]
  },
  {
   "cell_type": "code",
   "execution_count": null,
   "metadata": {
    "executionInfo": {
     "elapsed": 1464,
     "status": "ok",
     "timestamp": 1629644455158,
     "user": {
      "displayName": "Michelle Kan",
      "photoUrl": "",
      "userId": "02256448236685590888"
     },
     "user_tz": -480
    },
    "id": "lI-c5YOzbfoO"
   },
   "outputs": [],
   "source": [
    "import plotly.express as px # add library to the notebook!"
   ]
  },
  {
   "cell_type": "code",
   "execution_count": null,
   "metadata": {
    "colab": {
     "base_uri": "https://localhost:8080/",
     "height": 542
    },
    "executionInfo": {
     "elapsed": 967,
     "status": "ok",
     "timestamp": 1629644651786,
     "user": {
      "displayName": "Michelle Kan",
      "photoUrl": "",
      "userId": "02256448236685590888"
     },
     "user_tz": -480
    },
    "id": "SZhLofC3bfoP",
    "outputId": "851ec3c3-22ea-47cb-cf08-f56047438f5b"
   },
   "outputs": [],
   "source": [
    "fig = px.line(df, x=\"date\", y=\"new year\", title='New Year popularity in Google Search')\n",
    "fig.show()"
   ]
  },
  {
   "cell_type": "markdown",
   "metadata": {
    "id": "fO35v-s7bfoQ"
   },
   "source": [
    "### Exercise 1. Change the country from Singapore to other 3 countries that you are curious\n",
    "\n",
    "Update the `geo` parameter to retrieve Google Trend data for 3 other countries. The ISO-2 country code is available via https://en.wikipedia.org/wiki/ISO_3166-2#:~:text=It%20was%20first%20published%20in,form%20than%20their%20full%20names.\n",
    "\n",
    "Don't forget to change XX, YY, and ZZ in the filename into your country names."
   ]
  },
  {
   "cell_type": "code",
   "execution_count": null,
   "metadata": {
    "executionInfo": {
     "elapsed": 1015,
     "status": "ok",
     "timestamp": 1629644855484,
     "user": {
      "displayName": "Michelle Kan",
      "photoUrl": "",
      "userId": "02256448236685590888"
     },
     "user_tz": -480
    },
    "id": "zP4WCw3DbfoR"
   },
   "outputs": [],
   "source": [
    "keywords = [\"new year\"]"
   ]
  },
  {
   "cell_type": "code",
   "execution_count": null,
   "metadata": {
    "colab": {
     "base_uri": "https://localhost:8080/"
    },
    "executionInfo": {
     "elapsed": 979,
     "status": "ok",
     "timestamp": 1629644877905,
     "user": {
      "displayName": "Michelle Kan",
      "photoUrl": "",
      "userId": "02256448236685590888"
     },
     "user_tz": -480
    },
    "id": "f0ZE1IBKbfoT",
    "outputId": "fd6457a7-b429-48d1-d61a-ceea870580b1"
   },
   "outputs": [],
   "source": [
    "pytrends.build_payload(keywords, geo='XX', timeframe='2019-12-04 2021-01-03', cat=0)\n",
    "df = pytrends.interest_over_time()\n",
    "\n",
    "df.to_csv('1-1-XX.csv')"
   ]
  },
  {
   "cell_type": "code",
   "execution_count": null,
   "metadata": {
    "id": "32EJ7u2QbfoU"
   },
   "outputs": [],
   "source": [
    "pytrends.build_payload(keywords, geo='YY', timeframe='2019-12-04 2021-01-03', cat=0)\n",
    "df = pytrends.interest_over_time()\n",
    "\n",
    "df.to_csv('1-2-YY.csv')"
   ]
  },
  {
   "cell_type": "code",
   "execution_count": null,
   "metadata": {
    "id": "xA-K42qWbfoV"
   },
   "outputs": [],
   "source": [
    "pytrends.build_payload(keywords, geo='ZZ', timeframe='2019-12-04 2021-01-03', cat=0)\n",
    "df = pytrends.interest_over_time()\n",
    "\n",
    "df.to_csv('1-3-ZZ.csv')"
   ]
  },
  {
   "cell_type": "markdown",
   "metadata": {
    "id": "3s9myTBlbfoY"
   },
   "source": [
    "## 2. Interest by city (region)\n",
    "\n",
    "<img align=\"center\" src=\"https://docs.google.com/uc?id=1dzQpQoVfxh1qwAOStg7jh37MIdCk9k_I\" width=\"600\" style=\"vertical-align:middle;margin:0px 10px\"/><br>\n",
    "\n",
    "`interest_by_region` method returns the Google Trend search interest for where (ie. city/sub-region) the keyword is most searched in the selected country.\n",
    "Unfortunately, Google does not provide a fine-grained subregion view for Singapore.\n",
    "Let's try with Australia.\n",
    "\n",
    "<img align=\"left\" src=\"https://docs.google.com/uc?id=1IegynNxVgb3GxQoXFD_HPJMRJcx8Rlmk\" width=\"30\" style=\"vertical-align:middle;margin:0px 5px\"/> The `resolution` parameter allows us to define the granularity of our data based on the following values:\n",
    "- 'CITY' returns city level data\n",
    "- 'COUNTRY' returns country level data\n",
    "- 'DMA' returns Metro level data\n",
    "- 'REGION' returns Region level data\n",
    "\n",
    "Let's retrieve 'REGION' data of Austrialia in the following example:\n",
    "\n"
   ]
  },
  {
   "cell_type": "code",
   "execution_count": null,
   "metadata": {
    "executionInfo": {
     "elapsed": 1546,
     "status": "ok",
     "timestamp": 1629647389434,
     "user": {
      "displayName": "Michelle Kan",
      "photoUrl": "",
      "userId": "02256448236685590888"
     },
     "user_tz": -480
    },
    "id": "2hoEtCl2bfoa"
   },
   "outputs": [],
   "source": [
    "from pytrends.request import TrendReq\n",
    "pytrends = TrendReq(hl='en-US', tz=-480)\n",
    "\n",
    "keywords = [\"new year\"]\n",
    "pytrends.build_payload(keywords, geo='AU', timeframe='2020-12-04 2021-01-03', cat=0)"
   ]
  },
  {
   "cell_type": "code",
   "execution_count": null,
   "metadata": {
    "colab": {
     "base_uri": "https://localhost:8080/",
     "height": 235
    },
    "executionInfo": {
     "elapsed": 797,
     "status": "ok",
     "timestamp": 1629647399330,
     "user": {
      "displayName": "Michelle Kan",
      "photoUrl": "",
      "userId": "02256448236685590888"
     },
     "user_tz": -480
    },
    "id": "LBAV_PWtbfob",
    "outputId": "864445b0-703c-4702-83ae-7f27d2de0494"
   },
   "outputs": [],
   "source": [
    "df = pytrends.interest_by_region(resolution='REGION', inc_low_vol=True, inc_geo_code=False)\n",
    "df.head()"
   ]
  },
  {
   "cell_type": "code",
   "execution_count": null,
   "metadata": {
    "executionInfo": {
     "elapsed": 314,
     "status": "ok",
     "timestamp": 1629646213002,
     "user": {
      "displayName": "Michelle Kan",
      "photoUrl": "",
      "userId": "02256448236685590888"
     },
     "user_tz": -480
    },
    "id": "rTzC_QfQbfob"
   },
   "outputs": [],
   "source": [
    "df.to_csv('2-by-region.csv')"
   ]
  },
  {
   "cell_type": "markdown",
   "metadata": {
    "id": "rdH8ncl2bfoc"
   },
   "source": [
    "### Backup data -- Use below code if Google blocked our IP"
   ]
  },
  {
   "cell_type": "code",
   "execution_count": null,
   "metadata": {
    "id": "5rOR_Dzebfod"
   },
   "outputs": [],
   "source": [
    "# df = pd.read_csv(\"backup-2-by-region.csv\")\n",
    "# df.head()"
   ]
  },
  {
   "cell_type": "markdown",
   "metadata": {
    "id": "kxaJOYvpbfof"
   },
   "source": [
    "### Let's plot using Matplotlib, another python library for visualiation!\n"
   ]
  },
  {
   "cell_type": "code",
   "execution_count": null,
   "metadata": {
    "executionInfo": {
     "elapsed": 373,
     "status": "ok",
     "timestamp": 1629646225065,
     "user": {
      "displayName": "Michelle Kan",
      "photoUrl": "",
      "userId": "02256448236685590888"
     },
     "user_tz": -480
    },
    "id": "_Kp6Y0vabfof"
   },
   "outputs": [],
   "source": [
    "import matplotlib.pyplot as plt"
   ]
  },
  {
   "cell_type": "code",
   "execution_count": null,
   "metadata": {
    "executionInfo": {
     "elapsed": 308,
     "status": "ok",
     "timestamp": 1629646238743,
     "user": {
      "displayName": "Michelle Kan",
      "photoUrl": "",
      "userId": "02256448236685590888"
     },
     "user_tz": -480
    },
    "id": "8Yqiy2HFbfog"
   },
   "outputs": [],
   "source": [
    "# it seems that matplotlib prints many DEBUG messages. Let's change it to print logs when having ERRORs\n",
    "logging.getLogger().setLevel(logging.ERROR)"
   ]
  },
  {
   "cell_type": "code",
   "execution_count": null,
   "metadata": {
    "colab": {
     "base_uri": "https://localhost:8080/",
     "height": 204
    },
    "executionInfo": {
     "elapsed": 15,
     "status": "ok",
     "timestamp": 1629646240151,
     "user": {
      "displayName": "Michelle Kan",
      "photoUrl": "",
      "userId": "02256448236685590888"
     },
     "user_tz": -480
    },
    "id": "9r_uIUFIbfoh",
    "outputId": "0a236897-9fe4-4d20-a650-e2722a2dcdfa"
   },
   "outputs": [],
   "source": [
    "# reset_index() -- Reset the index of the DataFrame, and use the default one instead. \n",
    "# If the DataFrame has a MultiIndex, this method can remove one or more levels.\n",
    "df.reset_index(inplace=True)\n",
    "df.head()"
   ]
  },
  {
   "cell_type": "code",
   "execution_count": null,
   "metadata": {
    "colab": {
     "base_uri": "https://localhost:8080/",
     "height": 414
    },
    "executionInfo": {
     "elapsed": 410,
     "status": "ok",
     "timestamp": 1629646270357,
     "user": {
      "displayName": "Michelle Kan",
      "photoUrl": "",
      "userId": "02256448236685590888"
     },
     "user_tz": -480
    },
    "id": "gVu2q7q3bfoj",
    "outputId": "fc5c67ad-350f-428d-db9a-3de066271c7b",
    "scrolled": false
   },
   "outputs": [],
   "source": [
    "df.plot.bar(x=\"geoName\", y=\"new year\", rot=70, title=\"New Year popularity by various regions in Australia\")\n",
    "\n",
    "plt.show(block=True)"
   ]
  },
  {
   "cell_type": "markdown",
   "metadata": {
    "id": "nJCw5R8Mbfok"
   },
   "source": [
    "see more example for bar chart: https://pythontic.com/pandas/dataframe-plotting/bar%20chart"
   ]
  },
  {
   "cell_type": "markdown",
   "metadata": {
    "id": "BttyMaICbfom"
   },
   "source": [
    "## Exercise 2. Read the API doc and try different resolution\n",
    "\n",
    "Check https://github.com/GeneralMills/pytrends#interest-by-region and try other resolution by changing XX to other options."
   ]
  },
  {
   "cell_type": "code",
   "execution_count": null,
   "metadata": {
    "id": "t-qmPM3hbfom"
   },
   "outputs": [],
   "source": [
    "df = pytrends.interest_by_region(resolution='XX', inc_low_vol=True, inc_geo_code=False)\n",
    "df.head()"
   ]
  },
  {
   "cell_type": "markdown",
   "metadata": {
    "id": "QqY3aGuObfon"
   },
   "source": [
    "### Bugs\n",
    "<img align=\"left\" src=\"https://docs.google.com/uc?id=1nhCz5zbFKKD4KD-kPxrMIvGBbgET_QZG\" width=\"45\" style=\"vertical-align:middle;margin:0px 10px\"/> You might realize that PyTrends does not support the city-level data for AU. When the `resolution` parameter is set as `CITY`, you will observe that the data returned is region-specific instead of city-specific which is incorrect.\n",
    "\n",
    "It is due to the following source code in the Pytrends library. \n",
    "\n",
    "    # make the request\n",
    "    region_payload = dict()\n",
    "    if self.geo == '':\n",
    "        self.interest_by_region_widget['request']['resolution'] = resolution\n",
    "    elif self.geo == 'US' and resolution in ['DMA', 'CITY', 'REGION']:\n",
    "        self.interest_by_region_widget['request']['resolution'] = resolution\n",
    "\n",
    "See https://github.com/GeneralMills/pytrends/blob/master/pytrends/request.py#L273"
   ]
  },
  {
   "cell_type": "markdown",
   "metadata": {
    "id": "AA9_lDqBbfoo"
   },
   "source": [
    "The above code extracted from Pytrends library does not support 'CITY' resolution when `geo` is not 'US' nor ' '. Hence, city-level data is not being retrieved when `geo` is set to 'AU' in our example. To overcome this, let's see the workaround to this issue: https://github.com/haewoon/pytrends. <br/>\n",
    "\n",
    "<br>If you wish to retrieve city-level data for AU, carry out the following steps: \n",
    "1. Download the __pytrends__ folder from the above github link <img align=\"center\" src=\"https://docs.google.com/uc?id=1Vqi2cFkLFLCxWIJMtdD4MHC9ji4BfclG\"  style=\"height: 250px;\"/>\n",
    "2. Place the __pytrends__ folder in the same folder as the current python notebook file. \n",
    "3. Go to menu of this notebook, select <b>Runtime -> select Restart runtime</b> to restart the notebook kernel (explanation: by restarting the kernel, the current notebook will be able to recognize the presence of the newly added 'pytrends' folder)\n",
    "4. <i>[Optional if running locally from Jupyter notebook]</i> If you are running this notebook from Colab, you will need to add Google Drive as an accessible path:<br>\n",
    "`from google.colab import drive`<br>\n",
    "`drive.mount('/content/drive')`<br>\n",
    "`%cd /content/drive/My Drive/Colab Notebooks/` (update path based on the location of your current notebook)\n",
    "5. Reimport pytrends.request (this now imports the 'pytrends' folder instead of 'pytrends' standard library):<br>\n",
    "`from pytrends.request import TrendReq`<br>\n",
    "`pytrends = TrendReq(hl='en-US', tz=-480)`\n",
    "6. Set parameters:<br>\n",
    "`pytrends.build_payload([\"new year\"], geo='AU', timeframe='2020-12-04 2021-01-03', cat=0)`\n",
    "7. Rerun the `interest_by_region` API call by setting `resolution` as `CITY`<br>\n",
    "`df = pytrends.interest_by_region(resolution='CITY', inc_low_vol=True, inc_geo_code=False)`<br>\n",
    "`df.head()`\n",
    "\n",
    "You should now observe that city-level data for AU is displayed as the `pytrends.interest_by_region` now uses the source code found in the newly added 'pytrends' folder instead of the 'pytrends' standard library.\n"
   ]
  },
  {
   "cell_type": "code",
   "execution_count": null,
   "metadata": {
    "id": "-LzpDm7qbfop"
   },
   "outputs": [],
   "source": [
    "# save the resolution data into a csv file\n",
    "df.to_csv('2-by-XX.csv')"
   ]
  },
  {
   "cell_type": "markdown",
   "metadata": {
    "id": "bHyw7OTjbfoq"
   },
   "source": [
    "## 3. Related topics\n",
    "Back to Singapore. \n",
    "Users searching for a search term (e.g., 'new year') also searched for these topics. \n",
    "\n",
    "Google Trends provide two options:\n",
    "* <b>Top</b> - The most popular topics. Scoring is on a relative scale where a value of 100 is the most commonly searched topic and a value of 50 is a topic searched half as often as the most popular term, and so on.\n",
    "\n",
    "* <b>Rising</b> - Related topics with the biggest increase in search frequency since the last time period. Results marked \"Breakout\" had a tremendous increase, probably because these topics are new and had few (if any) prior searches."
   ]
  },
  {
   "cell_type": "code",
   "execution_count": null,
   "metadata": {
    "executionInfo": {
     "elapsed": 302,
     "status": "ok",
     "timestamp": 1629648132734,
     "user": {
      "displayName": "Michelle Kan",
      "photoUrl": "",
      "userId": "02256448236685590888"
     },
     "user_tz": -480
    },
    "id": "WmbELuG6bfor"
   },
   "outputs": [],
   "source": [
    "keywords = [\"new year\"]\n",
    "pytrends.build_payload(keywords, geo='SG', timeframe='2020-12-04 2021-01-03', cat=0)"
   ]
  },
  {
   "cell_type": "code",
   "execution_count": null,
   "metadata": {
    "executionInfo": {
     "elapsed": 1174,
     "status": "ok",
     "timestamp": 1629648135421,
     "user": {
      "displayName": "Michelle Kan",
      "photoUrl": "",
      "userId": "02256448236685590888"
     },
     "user_tz": -480
    },
    "id": "Nl9lGuccbfot"
   },
   "outputs": [],
   "source": [
    "related_topics = pytrends.related_topics()"
   ]
  },
  {
   "cell_type": "code",
   "execution_count": null,
   "metadata": {
    "colab": {
     "base_uri": "https://localhost:8080/"
    },
    "executionInfo": {
     "elapsed": 377,
     "status": "ok",
     "timestamp": 1629648146303,
     "user": {
      "displayName": "Michelle Kan",
      "photoUrl": "",
      "userId": "02256448236685590888"
     },
     "user_tz": -480
    },
    "id": "tAAWWIG9bfot",
    "outputId": "cadb7602-ebd7-4099-b555-706f819f5a66",
    "scrolled": true
   },
   "outputs": [],
   "source": [
    "# let's take a look at the output\n",
    "related_topics"
   ]
  },
  {
   "cell_type": "code",
   "execution_count": null,
   "metadata": {
    "colab": {
     "base_uri": "https://localhost:8080/"
    },
    "executionInfo": {
     "elapsed": 408,
     "status": "ok",
     "timestamp": 1629648229080,
     "user": {
      "displayName": "Michelle Kan",
      "photoUrl": "",
      "userId": "02256448236685590888"
     },
     "user_tz": -480
    },
    "id": "oT6cKmCGbfou",
    "outputId": "9ae58bea-1941-4cc6-e5b3-609c32bad6d0"
   },
   "outputs": [],
   "source": [
    "# let's check what's the data type of the output\n",
    "type(related_topics)"
   ]
  },
  {
   "cell_type": "markdown",
   "metadata": {
    "id": "TW5f6xClbfov"
   },
   "source": [
    "### Backup data -- Use below code if Google blocked our IP"
   ]
  },
  {
   "cell_type": "code",
   "execution_count": null,
   "metadata": {
    "id": "FVcAHkgzbfov",
    "scrolled": true
   },
   "outputs": [],
   "source": [
    "# import pickle\n",
    "# filename = 'backup-3-related-topics.pickle'\n",
    "# infile = open(filename,'rb')\n",
    "# related_topics = pickle.load(infile)\n",
    "# infile.close()\n",
    "# print(type(related_topics))\n",
    "# related_topics\n"
   ]
  },
  {
   "cell_type": "markdown",
   "metadata": {
    "id": "4u_eYAdMbfow"
   },
   "source": [
    "### Access to top related topics"
   ]
  },
  {
   "cell_type": "code",
   "execution_count": null,
   "metadata": {
    "colab": {
     "base_uri": "https://localhost:8080/",
     "height": 575
    },
    "executionInfo": {
     "elapsed": 323,
     "status": "ok",
     "timestamp": 1629648511408,
     "user": {
      "displayName": "Michelle Kan",
      "photoUrl": "",
      "userId": "02256448236685590888"
     },
     "user_tz": -480
    },
    "id": "SM592w4nbfow",
    "outputId": "0ef90ac7-2acc-4ac8-fddf-49bad262191c"
   },
   "outputs": [],
   "source": [
    "related_topics['new year']['top']"
   ]
  },
  {
   "cell_type": "markdown",
   "metadata": {
    "id": "sjEvLf2obfox"
   },
   "source": [
    "### Access to rising related topics"
   ]
  },
  {
   "cell_type": "code",
   "execution_count": null,
   "metadata": {
    "colab": {
     "base_uri": "https://localhost:8080/",
     "height": 482
    },
    "executionInfo": {
     "elapsed": 344,
     "status": "ok",
     "timestamp": 1629648541651,
     "user": {
      "displayName": "Michelle Kan",
      "photoUrl": "",
      "userId": "02256448236685590888"
     },
     "user_tz": -480
    },
    "id": "lyiyRW_sbfoy",
    "outputId": "7c894dd5-a6b5-4292-f534-54f15c6de99c"
   },
   "outputs": [],
   "source": [
    "related_topics['new year']['rising']"
   ]
  },
  {
   "cell_type": "markdown",
   "metadata": {
    "id": "jG0HQYbRbfoy"
   },
   "source": [
    "## Exercise 3. Compare related topics between different periods.\n",
    "\n",
    "Related topics are also changing over time.\n",
    "Compare related topics of 'covid-19' in the **United Kingdom** (1) between 2020/11/1 and 2020/12/1 with (2) between 2020/12/1 and 2021/1/1.\n",
    "\n",
    "Tip: United Kingdom's code is not UK.\n"
   ]
  },
  {
   "cell_type": "code",
   "execution_count": null,
   "metadata": {
    "id": "b06oiwmbbfo0"
   },
   "outputs": [],
   "source": [
    "# enter your codes below\n",
    "\n"
   ]
  },
  {
   "cell_type": "markdown",
   "metadata": {
    "id": "ckhyRyPQbfo2"
   },
   "source": [
    "## 4. Related queries\n",
    "\n",
    "Users searching for a term (here 'new year') also searched for these queries. \n",
    "\n",
    "Similarly, Google provides two options:\n",
    "* <b>Top</b> - The most popular search queries. Scoring is on a relative scale where a value of 100 is the most commonly searched query, 50 is a query searched half as often as the most popular query, and so on.\n",
    "\n",
    "* <b>Rising</b> - Queries with the biggest increase in search frequency since the last time period. Results marked \"Breakout\" had a tremendous increase, probably because these queries are new and had few (if any) prior searches."
   ]
  },
  {
   "cell_type": "code",
   "execution_count": null,
   "metadata": {
    "executionInfo": {
     "elapsed": 455,
     "status": "ok",
     "timestamp": 1629648704228,
     "user": {
      "displayName": "Michelle Kan",
      "photoUrl": "",
      "userId": "02256448236685590888"
     },
     "user_tz": -480
    },
    "id": "SHtasghtbfo3"
   },
   "outputs": [],
   "source": [
    "keywords = [\"new year\"]\n",
    "pytrends.build_payload(keywords, geo='SG', timeframe='2020-12-04 2021-01-03', cat=0)"
   ]
  },
  {
   "cell_type": "code",
   "execution_count": null,
   "metadata": {
    "executionInfo": {
     "elapsed": 537,
     "status": "ok",
     "timestamp": 1629648705267,
     "user": {
      "displayName": "Michelle Kan",
      "photoUrl": "",
      "userId": "02256448236685590888"
     },
     "user_tz": -480
    },
    "id": "5dTa3Ep2bfo3"
   },
   "outputs": [],
   "source": [
    "related_queries = pytrends.related_queries()"
   ]
  },
  {
   "cell_type": "code",
   "execution_count": null,
   "metadata": {
    "colab": {
     "base_uri": "https://localhost:8080/"
    },
    "executionInfo": {
     "elapsed": 3,
     "status": "ok",
     "timestamp": 1629648705267,
     "user": {
      "displayName": "Michelle Kan",
      "photoUrl": "",
      "userId": "02256448236685590888"
     },
     "user_tz": -480
    },
    "id": "Q43BIrNGbfo4",
    "outputId": "dfafd577-f863-4a0e-f086-6a185a3fb672",
    "scrolled": true
   },
   "outputs": [],
   "source": [
    "# let's take a look at the output\n",
    "related_queries"
   ]
  },
  {
   "cell_type": "markdown",
   "metadata": {
    "id": "tqhzcOArbfo4"
   },
   "source": [
    "### Backup data -- Use below code if Google blocked our IP"
   ]
  },
  {
   "cell_type": "code",
   "execution_count": null,
   "metadata": {
    "id": "7gBGSMLMbfo5",
    "scrolled": true
   },
   "outputs": [],
   "source": [
    "# import pickle\n",
    "# filename = 'backup-4-related-queries.pickle'\n",
    "# infile = open(filename,'rb')\n",
    "# related_queries = pickle.load(infile)\n",
    "# infile.close()\n",
    "# print(type(related_queries))\n",
    "# related_queries"
   ]
  },
  {
   "cell_type": "markdown",
   "metadata": {
    "id": "D8YovZS9bfo5"
   },
   "source": [
    "### Access to top related queries"
   ]
  },
  {
   "cell_type": "code",
   "execution_count": null,
   "metadata": {
    "colab": {
     "base_uri": "https://localhost:8080/",
     "height": 575
    },
    "executionInfo": {
     "elapsed": 409,
     "status": "ok",
     "timestamp": 1629648713036,
     "user": {
      "displayName": "Michelle Kan",
      "photoUrl": "",
      "userId": "02256448236685590888"
     },
     "user_tz": -480
    },
    "id": "3DpHWZh5bfo6",
    "outputId": "d8039f06-c9c3-4d56-822d-ff4eba797dcb",
    "scrolled": true
   },
   "outputs": [],
   "source": [
    "related_queries['new year']['top']"
   ]
  },
  {
   "cell_type": "markdown",
   "metadata": {
    "id": "NiroWhj1bfo6"
   },
   "source": [
    "### Access to rising related queries"
   ]
  },
  {
   "cell_type": "code",
   "execution_count": null,
   "metadata": {
    "colab": {
     "base_uri": "https://localhost:8080/",
     "height": 421
    },
    "executionInfo": {
     "elapsed": 398,
     "status": "ok",
     "timestamp": 1629648723307,
     "user": {
      "displayName": "Michelle Kan",
      "photoUrl": "",
      "userId": "02256448236685590888"
     },
     "user_tz": -480
    },
    "id": "fZRdORsdbfo7",
    "outputId": "a907dc4b-6a88-429e-9f13-1cf78c24f9ef",
    "scrolled": true
   },
   "outputs": [],
   "source": [
    "related_queries['new year']['rising']"
   ]
  },
  {
   "cell_type": "markdown",
   "metadata": {
    "id": "0dQWxFoubfo7"
   },
   "source": [
    "## Exercise 4. Compare related queries between different periods.\n",
    "\n",
    "Related queries are also changing over time.\n",
    "Compare related queries of 'covid-19' in the **United States** (1) between 2020/11/1 and 2020/12/1 with (2) between 2020/12/1 and 2021/1/1\n"
   ]
  },
  {
   "cell_type": "code",
   "execution_count": null,
   "metadata": {
    "id": "sGlIEGGdbfo8"
   },
   "outputs": [],
   "source": [
    "# enter your codes below\n",
    "\n"
   ]
  }
 ],
 "metadata": {
  "colab": {
   "collapsed_sections": [
    "QqY3aGuObfon",
    "TW5f6xClbfov",
    "4u_eYAdMbfow",
    "sjEvLf2obfox",
    "tqhzcOArbfo4",
    "D8YovZS9bfo5",
    "NiroWhj1bfo6"
   ],
   "name": "Lab 1 - Google Trends.ipynb",
   "provenance": [
    {
     "file_id": "https://github.com/michellekan/smt203/blob/master/SMT203_Lab1/Lab%201%20-%20Google%20Trends.ipynb",
     "timestamp": 1629561488220
    }
   ]
  },
  "kernelspec": {
   "display_name": "Python 3",
   "language": "python",
   "name": "python3"
  },
  "language_info": {
   "codemirror_mode": {
    "name": "ipython",
    "version": 3
   },
   "file_extension": ".py",
   "mimetype": "text/x-python",
   "name": "python",
   "nbconvert_exporter": "python",
   "pygments_lexer": "ipython3",
   "version": "3.8.3"
  }
 },
 "nbformat": 4,
 "nbformat_minor": 1
}
