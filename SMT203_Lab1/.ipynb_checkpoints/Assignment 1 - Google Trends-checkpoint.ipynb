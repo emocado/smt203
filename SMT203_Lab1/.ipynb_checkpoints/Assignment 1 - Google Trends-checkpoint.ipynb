{
 "cells": [
  {
   "cell_type": "markdown",
   "metadata": {},
   "source": [
    "# Assignment 1 - Google Trends\n"
   ]
  },
  {
   "cell_type": "markdown",
   "metadata": {},
   "source": [
    "### INSTRUCTIONS\n",
    "\n",
    "1. Find your own Question. \n",
    "2. Predict the answer to Q. This doesn't need to be correct, but write what is your rationale.\n",
    "3. Collect Google Trends data to answer the Q. \n",
    "4. Compare the data with your answer.\n",
    "\n",
    "You are provided with 3 examples in this notebook on how you can go about approaching and deriving the answers to your question. This is an individual assignment. You may discuss with your friends, but you are required to work on and submit your report independently. \n",
    "\n",
    "#### Submission\n",
    "\n",
    "Upload your report in PDF format (up to 1 page including figures, so be concise!) to eLearn (Assignment 1) by __January 25 23:59, 2021__.\n",
    "The late submission penalty is as follows:\n",
    "  - submit <= 12 hrs late: 10% penalty (i.e., maximum grade is 90%) \n",
    "  - submit <= 24 hrs late: 30% penalty (i.e., maximum grade is 70%) \n",
    "  - submit > 24 hrs late: 50% penalty (i.e., maximum grade is 50%)\n",
    "\n",
    "### GRADING \n",
    "\n",
    "This assignment constitutes **5% of your final grade**.\n",
    "\n",
    "### HONOR CODE\n",
    "\n",
    "You may discuss your ideas at high level with other students in the course. However, you **should not copy** answers from anyone, or take reference to other students' answers and solutions directly."
   ]
  },
  {
   "cell_type": "code",
   "execution_count": null,
   "metadata": {},
   "outputs": [],
   "source": [
    "### Install the below libraries if you haven't\n",
    "\n",
    "# !pip install pytrends\n",
    "# !pip install matplotlib\n",
    "# !pip install plotly"
   ]
  },
  {
   "cell_type": "code",
   "execution_count": null,
   "metadata": {},
   "outputs": [],
   "source": [
    "# Set Logger\n",
    "\n",
    "import logging\n",
    "logging.basicConfig(level=logging.DEBUG,\n",
    "                    format='%(asctime)s %(name)-12s %(levelname)-8s %(message)s',\n",
    "                    datefmt='%m-%d %H:%M:%S')\n",
    "logger = logging.getLogger(__name__)"
   ]
  },
  {
   "cell_type": "code",
   "execution_count": null,
   "metadata": {},
   "outputs": [],
   "source": [
    "# Connect to Google\n",
    "from pytrends.request import TrendReq\n",
    "\n",
    "pytrends = TrendReq(hl='en-US', tz=-480)"
   ]
  },
  {
   "cell_type": "markdown",
   "metadata": {},
   "source": [
    "## Example 1: Curious about the popularity of BTS\n",
    "### My question\n",
    "**When does BTS get the half of the current popularity?**<br/>\n",
    "It is hard to directly answer \"when does BTS get the popularity?\" because the definition of \"get the popularity\" is vague.\n",
    "\n",
    "### Predict the answer\n",
    "As their popularity goes up rapidly in the recent two years, the answer might be 2018.\n",
    "\n",
    "### Data collection"
   ]
  },
  {
   "cell_type": "code",
   "execution_count": null,
   "metadata": {},
   "outputs": [],
   "source": [
    "keywords = [\"BTS\"]\n",
    "pytrends.build_payload(keywords, geo='SG', timeframe='2017-01-01 2021-01-03', cat=0)\n",
    "df = pytrends.interest_over_time()\n",
    "df.reset_index(inplace=True)"
   ]
  },
  {
   "cell_type": "code",
   "execution_count": null,
   "metadata": {},
   "outputs": [],
   "source": [
    "import plotly.express as px\n",
    "fig = px.line(df, x=\"date\", y=\"BTS\", title='BTS popularity in Google Search')\n",
    "fig.show()"
   ]
  },
  {
   "cell_type": "markdown",
   "metadata": {},
   "source": [
    "### Comparison\n",
    "\n",
    "It is found that the search intentions are more complicated than the popularity of certain items/pesons/events because search might be triggered by other factors rather than their fame/popularity. <br/>\n",
    "Two peaks are exactly when the concert at the national stadium was announced and tickets went on a sale. See https://www.bandwagon.asia/articles/bts-to-perform-in-singapore-in-january"
   ]
  },
  {
   "cell_type": "markdown",
   "metadata": {},
   "source": [
    "## Example 2: Haze and Google Trends"
   ]
  },
  {
   "cell_type": "markdown",
   "metadata": {},
   "source": [
    "### My question\n",
    "**Does 'haze' search correlate to when haze actually happened?** <br/>\n",
    "It might be challenging to search old news about haze (to know when it happened), but it's an interesting question.\n",
    "\n",
    "### Predict the answer\n",
    "When haze occurs, people would like to know when it will end or what kind of items (e.g., mask) I need, etc. Thus, I think the haze search and offline haze event are well aligned.\n",
    "\n",
    "### Data Collection\n"
   ]
  },
  {
   "cell_type": "code",
   "execution_count": null,
   "metadata": {},
   "outputs": [],
   "source": [
    "keywords = [\"Haze\"]\n",
    "pytrends.build_payload(keywords, geo='SG', timeframe='2004-01-01 2021-01-03', cat=0)\n",
    "df = pytrends.interest_over_time()\n",
    "df.reset_index(inplace=True)"
   ]
  },
  {
   "cell_type": "code",
   "execution_count": null,
   "metadata": {},
   "outputs": [],
   "source": [
    "import plotly.express as px\n",
    "fig = px.line(df, x=\"date\", y=\"Haze\", title='Haze popularity in Google Search')\n",
    "fig.show()"
   ]
  },
  {
   "cell_type": "markdown",
   "metadata": {},
   "source": [
    "### Comparison\n",
    "\n",
    "The biggest peak at 2013 was aligned with the worst haze, [\"causing record high levels of pollution in Singapore and several parts of Malaysia.\"](https://en.wikipedia.org/wiki/2013_Southeast_Asian_haze#:~:text=The%202013%20Southeast%20Asian%20haze%20was%20notable%20for%20causing%20record,the%201997%20Southeast%20Asian%20Haze)\n",
    "\n",
    "Similarly, 2015 haze was [big](https://en.wikipedia.org/wiki/2015_Southeast_Asian_haze).\n",
    "\n",
    "In 2019, [\"Indonesia began to experience haze between June and July. Malaysia was affected from August, while Singapore, Brunei, and Vietnam experienced haze in September.\"](https://en.wikipedia.org/wiki/2019_Southeast_Asian_haze) Thus, it might be interesting to see when the peaks of 'haze' appears differently in these southeast Asian countries."
   ]
  },
  {
   "cell_type": "markdown",
   "metadata": {},
   "source": [
    "## Example 3: Wine and Christmas"
   ]
  },
  {
   "cell_type": "markdown",
   "metadata": {},
   "source": [
    "### My question\n",
    "**Is 'wine' more popular on some particular days (e.g., Christmas)?**<br/>\n",
    "Based on anecdotal evidence, wine seems to be popular in certain periods. Is it captured by Google Trends?\n",
    "\n",
    "### Predict the answer\n",
    "Search peaks might exist in other days, too. Not sure whether Christmas week is the highest peak.\n",
    "\n",
    "### Data collection"
   ]
  },
  {
   "cell_type": "code",
   "execution_count": null,
   "metadata": {},
   "outputs": [],
   "source": [
    "keywords = [\"Wine\"]\n",
    "pytrends.build_payload(keywords, geo='SG', timeframe='2016-01-01 2021-01-03', cat=0)\n",
    "df = pytrends.interest_over_time()\n",
    "df.reset_index(inplace=True)"
   ]
  },
  {
   "cell_type": "code",
   "execution_count": null,
   "metadata": {},
   "outputs": [],
   "source": [
    "import plotly.express as px\n",
    "fig = px.line(df, x=\"date\", y=\"Wine\", title='Wine popularity in Google Search')\n",
    "fig.show()"
   ]
  },
  {
   "cell_type": "markdown",
   "metadata": {},
   "source": [
    "### Comparison\n",
    "\n",
    "Surprisingly, the strong annual cycle comes with the peak at the Christmas season!<br/>\n",
    "It would be interesting to see whether wine is also popular in other countries at the Christmas season.\n",
    "\n",
    "Partiularly, this year the peak is 30%p higher than last years. <br/>\n",
    "It might be social distancing or limitation of soical gathering; people tend to have smaller home party with wines."
   ]
  },
  {
   "cell_type": "code",
   "execution_count": null,
   "metadata": {},
   "outputs": [],
   "source": []
  },
  {
   "cell_type": "code",
   "execution_count": null,
   "metadata": {},
   "outputs": [],
   "source": []
  }
 ],
 "metadata": {
  "kernelspec": {
   "display_name": "Python 3",
   "language": "python",
   "name": "python3"
  },
  "language_info": {
   "codemirror_mode": {
    "name": "ipython",
    "version": 3
   },
   "file_extension": ".py",
   "mimetype": "text/x-python",
   "name": "python",
   "nbconvert_exporter": "python",
   "pygments_lexer": "ipython3",
   "version": "3.8.5"
  }
 },
 "nbformat": 4,
 "nbformat_minor": 4
}
